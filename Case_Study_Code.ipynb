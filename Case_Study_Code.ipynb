{
 "cells": [
  {
   "cell_type": "markdown",
   "metadata": {
    "id": "hKj1O4RQ6m3V"
   },
   "source": [
    "**Business Objective : An education company named X Education sells online courses to industry professionals.Now, although X Education gets a lot of leads, its lead conversion rate is very poor. For example, if, say, they acquire 100 leads in a day, only about 30 of them are converted. The objective is to build a model to identify the hot/potential leads and achieve lead conversion rate to 80%.**"
   ]
  },
  {
   "cell_type": "markdown",
   "metadata": {
    "id": "awTABm8G6m3Y"
   },
   "source": [
    "## Data Sourcing"
   ]
  },
  {
   "cell_type": "code",
   "execution_count": 4,
   "metadata": {
    "id": "FSUANW130JzF"
   },
   "outputs": [],
   "source": [
    "# Suppressing Warnings\n",
    "import warnings\n",
    "warnings.filterwarnings('ignore')"
   ]
  },
  {
   "cell_type": "code",
   "execution_count": 5,
   "metadata": {
    "id": "k7MTHjc80W2d"
   },
   "outputs": [],
   "source": [
    "# Importing Pandas and NumPy\n",
    "import pandas as pd\n",
    "import numpy as np\n",
    "\n",
    "import matplotlib.pyplot as plt\n",
    "%matplotlib inline\n",
    "\n",
    "import seaborn as sns\n",
    "\n",
    "import sklearn\n",
    "from sklearn.preprocessing import StandardScaler\n",
    "\n",
    "import statsmodels.api as sm"
   ]
  },
  {
   "cell_type": "markdown",
   "metadata": {
    "id": "1-8lY9xVz0TW"
   },
   "source": [
    "## Data Reading"
   ]
  },
  {
   "cell_type": "code",
   "execution_count": 6,
   "metadata": {
    "id": "V_rStjYL7nLs"
   },
   "outputs": [],
   "source": [
    "#Importing the dataset to a csv file.\n",
    "lead = pd.read_csv('Leads.csv')"
   ]
  },
  {
   "cell_type": "code",
   "execution_count": 7,
   "metadata": {
    "colab": {
     "base_uri": "https://localhost:8080/",
     "height": 520
    },
    "id": "TvLt1sMa0n9d",
    "outputId": "7e7b250f-1bd4-4975-8300-bee9c2af594c"
   },
   "outputs": [
    {
     "data": {
      "text/html": [
       "<div>\n",
       "<style scoped>\n",
       "    .dataframe tbody tr th:only-of-type {\n",
       "        vertical-align: middle;\n",
       "    }\n",
       "\n",
       "    .dataframe tbody tr th {\n",
       "        vertical-align: top;\n",
       "    }\n",
       "\n",
       "    .dataframe thead th {\n",
       "        text-align: right;\n",
       "    }\n",
       "</style>\n",
       "<table border=\"1\" class=\"dataframe\">\n",
       "  <thead>\n",
       "    <tr style=\"text-align: right;\">\n",
       "      <th></th>\n",
       "      <th>Prospect ID</th>\n",
       "      <th>Lead Number</th>\n",
       "      <th>Lead Origin</th>\n",
       "      <th>Lead Source</th>\n",
       "      <th>Do Not Email</th>\n",
       "      <th>Do Not Call</th>\n",
       "      <th>Converted</th>\n",
       "      <th>TotalVisits</th>\n",
       "      <th>Total Time Spent on Website</th>\n",
       "      <th>Page Views Per Visit</th>\n",
       "      <th>...</th>\n",
       "      <th>Get updates on DM Content</th>\n",
       "      <th>Lead Profile</th>\n",
       "      <th>City</th>\n",
       "      <th>Asymmetrique Activity Index</th>\n",
       "      <th>Asymmetrique Profile Index</th>\n",
       "      <th>Asymmetrique Activity Score</th>\n",
       "      <th>Asymmetrique Profile Score</th>\n",
       "      <th>I agree to pay the amount through cheque</th>\n",
       "      <th>A free copy of Mastering The Interview</th>\n",
       "      <th>Last Notable Activity</th>\n",
       "    </tr>\n",
       "  </thead>\n",
       "  <tbody>\n",
       "    <tr>\n",
       "      <th>0</th>\n",
       "      <td>7927b2df-8bba-4d29-b9a2-b6e0beafe620</td>\n",
       "      <td>660737</td>\n",
       "      <td>API</td>\n",
       "      <td>Olark Chat</td>\n",
       "      <td>No</td>\n",
       "      <td>No</td>\n",
       "      <td>0</td>\n",
       "      <td>0.0</td>\n",
       "      <td>0</td>\n",
       "      <td>0.0</td>\n",
       "      <td>...</td>\n",
       "      <td>No</td>\n",
       "      <td>Select</td>\n",
       "      <td>Select</td>\n",
       "      <td>02.Medium</td>\n",
       "      <td>02.Medium</td>\n",
       "      <td>15.0</td>\n",
       "      <td>15.0</td>\n",
       "      <td>No</td>\n",
       "      <td>No</td>\n",
       "      <td>Modified</td>\n",
       "    </tr>\n",
       "    <tr>\n",
       "      <th>1</th>\n",
       "      <td>2a272436-5132-4136-86fa-dcc88c88f482</td>\n",
       "      <td>660728</td>\n",
       "      <td>API</td>\n",
       "      <td>Organic Search</td>\n",
       "      <td>No</td>\n",
       "      <td>No</td>\n",
       "      <td>0</td>\n",
       "      <td>5.0</td>\n",
       "      <td>674</td>\n",
       "      <td>2.5</td>\n",
       "      <td>...</td>\n",
       "      <td>No</td>\n",
       "      <td>Select</td>\n",
       "      <td>Select</td>\n",
       "      <td>02.Medium</td>\n",
       "      <td>02.Medium</td>\n",
       "      <td>15.0</td>\n",
       "      <td>15.0</td>\n",
       "      <td>No</td>\n",
       "      <td>No</td>\n",
       "      <td>Email Opened</td>\n",
       "    </tr>\n",
       "    <tr>\n",
       "      <th>2</th>\n",
       "      <td>8cc8c611-a219-4f35-ad23-fdfd2656bd8a</td>\n",
       "      <td>660727</td>\n",
       "      <td>Landing Page Submission</td>\n",
       "      <td>Direct Traffic</td>\n",
       "      <td>No</td>\n",
       "      <td>No</td>\n",
       "      <td>1</td>\n",
       "      <td>2.0</td>\n",
       "      <td>1532</td>\n",
       "      <td>2.0</td>\n",
       "      <td>...</td>\n",
       "      <td>No</td>\n",
       "      <td>Potential Lead</td>\n",
       "      <td>Mumbai</td>\n",
       "      <td>02.Medium</td>\n",
       "      <td>01.High</td>\n",
       "      <td>14.0</td>\n",
       "      <td>20.0</td>\n",
       "      <td>No</td>\n",
       "      <td>Yes</td>\n",
       "      <td>Email Opened</td>\n",
       "    </tr>\n",
       "    <tr>\n",
       "      <th>3</th>\n",
       "      <td>0cc2df48-7cf4-4e39-9de9-19797f9b38cc</td>\n",
       "      <td>660719</td>\n",
       "      <td>Landing Page Submission</td>\n",
       "      <td>Direct Traffic</td>\n",
       "      <td>No</td>\n",
       "      <td>No</td>\n",
       "      <td>0</td>\n",
       "      <td>1.0</td>\n",
       "      <td>305</td>\n",
       "      <td>1.0</td>\n",
       "      <td>...</td>\n",
       "      <td>No</td>\n",
       "      <td>Select</td>\n",
       "      <td>Mumbai</td>\n",
       "      <td>02.Medium</td>\n",
       "      <td>01.High</td>\n",
       "      <td>13.0</td>\n",
       "      <td>17.0</td>\n",
       "      <td>No</td>\n",
       "      <td>No</td>\n",
       "      <td>Modified</td>\n",
       "    </tr>\n",
       "    <tr>\n",
       "      <th>4</th>\n",
       "      <td>3256f628-e534-4826-9d63-4a8b88782852</td>\n",
       "      <td>660681</td>\n",
       "      <td>Landing Page Submission</td>\n",
       "      <td>Google</td>\n",
       "      <td>No</td>\n",
       "      <td>No</td>\n",
       "      <td>1</td>\n",
       "      <td>2.0</td>\n",
       "      <td>1428</td>\n",
       "      <td>1.0</td>\n",
       "      <td>...</td>\n",
       "      <td>No</td>\n",
       "      <td>Select</td>\n",
       "      <td>Mumbai</td>\n",
       "      <td>02.Medium</td>\n",
       "      <td>01.High</td>\n",
       "      <td>15.0</td>\n",
       "      <td>18.0</td>\n",
       "      <td>No</td>\n",
       "      <td>No</td>\n",
       "      <td>Modified</td>\n",
       "    </tr>\n",
       "  </tbody>\n",
       "</table>\n",
       "<p>5 rows × 37 columns</p>\n",
       "</div>"
      ],
      "text/plain": [
       "                            Prospect ID  Lead Number              Lead Origin  \\\n",
       "0  7927b2df-8bba-4d29-b9a2-b6e0beafe620       660737                      API   \n",
       "1  2a272436-5132-4136-86fa-dcc88c88f482       660728                      API   \n",
       "2  8cc8c611-a219-4f35-ad23-fdfd2656bd8a       660727  Landing Page Submission   \n",
       "3  0cc2df48-7cf4-4e39-9de9-19797f9b38cc       660719  Landing Page Submission   \n",
       "4  3256f628-e534-4826-9d63-4a8b88782852       660681  Landing Page Submission   \n",
       "\n",
       "      Lead Source Do Not Email Do Not Call  Converted  TotalVisits  \\\n",
       "0      Olark Chat           No          No          0          0.0   \n",
       "1  Organic Search           No          No          0          5.0   \n",
       "2  Direct Traffic           No          No          1          2.0   \n",
       "3  Direct Traffic           No          No          0          1.0   \n",
       "4          Google           No          No          1          2.0   \n",
       "\n",
       "   Total Time Spent on Website  Page Views Per Visit  ...  \\\n",
       "0                            0                   0.0  ...   \n",
       "1                          674                   2.5  ...   \n",
       "2                         1532                   2.0  ...   \n",
       "3                          305                   1.0  ...   \n",
       "4                         1428                   1.0  ...   \n",
       "\n",
       "  Get updates on DM Content    Lead Profile    City  \\\n",
       "0                        No          Select  Select   \n",
       "1                        No          Select  Select   \n",
       "2                        No  Potential Lead  Mumbai   \n",
       "3                        No          Select  Mumbai   \n",
       "4                        No          Select  Mumbai   \n",
       "\n",
       "  Asymmetrique Activity Index Asymmetrique Profile Index  \\\n",
       "0                   02.Medium                  02.Medium   \n",
       "1                   02.Medium                  02.Medium   \n",
       "2                   02.Medium                    01.High   \n",
       "3                   02.Medium                    01.High   \n",
       "4                   02.Medium                    01.High   \n",
       "\n",
       "  Asymmetrique Activity Score Asymmetrique Profile Score  \\\n",
       "0                        15.0                       15.0   \n",
       "1                        15.0                       15.0   \n",
       "2                        14.0                       20.0   \n",
       "3                        13.0                       17.0   \n",
       "4                        15.0                       18.0   \n",
       "\n",
       "  I agree to pay the amount through cheque  \\\n",
       "0                                       No   \n",
       "1                                       No   \n",
       "2                                       No   \n",
       "3                                       No   \n",
       "4                                       No   \n",
       "\n",
       "  A free copy of Mastering The Interview Last Notable Activity  \n",
       "0                                     No              Modified  \n",
       "1                                     No          Email Opened  \n",
       "2                                    Yes          Email Opened  \n",
       "3                                     No              Modified  \n",
       "4                                     No              Modified  \n",
       "\n",
       "[5 rows x 37 columns]"
      ]
     },
     "execution_count": 7,
     "metadata": {},
     "output_type": "execute_result"
    }
   ],
   "source": [
    "#Displaying the content of the data\n",
    "lead.head()"
   ]
  },
  {
   "cell_type": "code",
   "execution_count": 8,
   "metadata": {
    "colab": {
     "base_uri": "https://localhost:8080/"
    },
    "id": "Rqz1PpCg6m3k",
    "outputId": "57c01d7f-9e85-4cfd-d741-a06caed146c3"
   },
   "outputs": [
    {
     "name": "stdout",
     "output_type": "stream",
     "text": [
      "(9240, 37)\n"
     ]
    }
   ],
   "source": [
    "#Inspecting the shape\n",
    "print(lead.shape)"
   ]
  },
  {
   "cell_type": "code",
   "execution_count": 9,
   "metadata": {
    "colab": {
     "base_uri": "https://localhost:8080/"
    },
    "id": "r-Xn9SHj0rbM",
    "outputId": "dff7cd86-d51a-4181-f98a-f72656132097"
   },
   "outputs": [
    {
     "name": "stdout",
     "output_type": "stream",
     "text": [
      "Index(['Prospect ID', 'Lead Number', 'Lead Origin', 'Lead Source',\n",
      "       'Do Not Email', 'Do Not Call', 'Converted', 'TotalVisits',\n",
      "       'Total Time Spent on Website', 'Page Views Per Visit', 'Last Activity',\n",
      "       'Country', 'Specialization', 'How did you hear about X Education',\n",
      "       'What is your current occupation',\n",
      "       'What matters most to you in choosing a course', 'Search', 'Magazine',\n",
      "       'Newspaper Article', 'X Education Forums', 'Newspaper',\n",
      "       'Digital Advertisement', 'Through Recommendations',\n",
      "       'Receive More Updates About Our Courses', 'Tags', 'Lead Quality',\n",
      "       'Update me on Supply Chain Content', 'Get updates on DM Content',\n",
      "       'Lead Profile', 'City', 'Asymmetrique Activity Index',\n",
      "       'Asymmetrique Profile Index', 'Asymmetrique Activity Score',\n",
      "       'Asymmetrique Profile Score',\n",
      "       'I agree to pay the amount through cheque',\n",
      "       'A free copy of Mastering The Interview', 'Last Notable Activity'],\n",
      "      dtype='object')\n"
     ]
    }
   ],
   "source": [
    "#Inspecting the columns\n",
    "print(lead.columns)"
   ]
  },
  {
   "cell_type": "code",
   "execution_count": 10,
   "metadata": {
    "colab": {
     "base_uri": "https://localhost:8080/"
    },
    "id": "5MjKQ3nM6m3n",
    "outputId": "97b5949f-3d90-448c-95c9-28cd8dca84ee"
   },
   "outputs": [
    {
     "name": "stdout",
     "output_type": "stream",
     "text": [
      "Prospect ID                                       object\n",
      "Lead Number                                        int64\n",
      "Lead Origin                                       object\n",
      "Lead Source                                       object\n",
      "Do Not Email                                      object\n",
      "Do Not Call                                       object\n",
      "Converted                                          int64\n",
      "TotalVisits                                      float64\n",
      "Total Time Spent on Website                        int64\n",
      "Page Views Per Visit                             float64\n",
      "Last Activity                                     object\n",
      "Country                                           object\n",
      "Specialization                                    object\n",
      "How did you hear about X Education                object\n",
      "What is your current occupation                   object\n",
      "What matters most to you in choosing a course     object\n",
      "Search                                            object\n",
      "Magazine                                          object\n",
      "Newspaper Article                                 object\n",
      "X Education Forums                                object\n",
      "Newspaper                                         object\n",
      "Digital Advertisement                             object\n",
      "Through Recommendations                           object\n",
      "Receive More Updates About Our Courses            object\n",
      "Tags                                              object\n",
      "Lead Quality                                      object\n",
      "Update me on Supply Chain Content                 object\n",
      "Get updates on DM Content                         object\n",
      "Lead Profile                                      object\n",
      "City                                              object\n",
      "Asymmetrique Activity Index                       object\n",
      "Asymmetrique Profile Index                        object\n",
      "Asymmetrique Activity Score                      float64\n",
      "Asymmetrique Profile Score                       float64\n",
      "I agree to pay the amount through cheque          object\n",
      "A free copy of Mastering The Interview            object\n",
      "Last Notable Activity                             object\n",
      "dtype: object\n"
     ]
    }
   ],
   "source": [
    "#inspecting the datatypes of variables\n",
    "print(lead.dtypes)"
   ]
  },
  {
   "cell_type": "code",
   "execution_count": 11,
   "metadata": {
    "colab": {
     "base_uri": "https://localhost:8080/"
    },
    "id": "GhxO9Xaw04Fk",
    "outputId": "3dd31675-722f-4c39-c530-90f09cffa8b2"
   },
   "outputs": [
    {
     "name": "stdout",
     "output_type": "stream",
     "text": [
      "<class 'pandas.core.frame.DataFrame'>\n",
      "RangeIndex: 9240 entries, 0 to 9239\n",
      "Data columns (total 37 columns):\n",
      " #   Column                                         Non-Null Count  Dtype  \n",
      "---  ------                                         --------------  -----  \n",
      " 0   Prospect ID                                    9240 non-null   object \n",
      " 1   Lead Number                                    9240 non-null   int64  \n",
      " 2   Lead Origin                                    9240 non-null   object \n",
      " 3   Lead Source                                    9204 non-null   object \n",
      " 4   Do Not Email                                   9240 non-null   object \n",
      " 5   Do Not Call                                    9240 non-null   object \n",
      " 6   Converted                                      9240 non-null   int64  \n",
      " 7   TotalVisits                                    9103 non-null   float64\n",
      " 8   Total Time Spent on Website                    9240 non-null   int64  \n",
      " 9   Page Views Per Visit                           9103 non-null   float64\n",
      " 10  Last Activity                                  9137 non-null   object \n",
      " 11  Country                                        6779 non-null   object \n",
      " 12  Specialization                                 7802 non-null   object \n",
      " 13  How did you hear about X Education             7033 non-null   object \n",
      " 14  What is your current occupation                6550 non-null   object \n",
      " 15  What matters most to you in choosing a course  6531 non-null   object \n",
      " 16  Search                                         9240 non-null   object \n",
      " 17  Magazine                                       9240 non-null   object \n",
      " 18  Newspaper Article                              9240 non-null   object \n",
      " 19  X Education Forums                             9240 non-null   object \n",
      " 20  Newspaper                                      9240 non-null   object \n",
      " 21  Digital Advertisement                          9240 non-null   object \n",
      " 22  Through Recommendations                        9240 non-null   object \n",
      " 23  Receive More Updates About Our Courses         9240 non-null   object \n",
      " 24  Tags                                           5887 non-null   object \n",
      " 25  Lead Quality                                   4473 non-null   object \n",
      " 26  Update me on Supply Chain Content              9240 non-null   object \n",
      " 27  Get updates on DM Content                      9240 non-null   object \n",
      " 28  Lead Profile                                   6531 non-null   object \n",
      " 29  City                                           7820 non-null   object \n",
      " 30  Asymmetrique Activity Index                    5022 non-null   object \n",
      " 31  Asymmetrique Profile Index                     5022 non-null   object \n",
      " 32  Asymmetrique Activity Score                    5022 non-null   float64\n",
      " 33  Asymmetrique Profile Score                     5022 non-null   float64\n",
      " 34  I agree to pay the amount through cheque       9240 non-null   object \n",
      " 35  A free copy of Mastering The Interview         9240 non-null   object \n",
      " 36  Last Notable Activity                          9240 non-null   object \n",
      "dtypes: float64(4), int64(3), object(30)\n",
      "memory usage: 2.6+ MB\n",
      "None\n"
     ]
    }
   ],
   "source": [
    "#Listing down all the columns along with name ,no of non null values,datatype,memory usage\n",
    "print(lead.info())"
   ]
  },
  {
   "cell_type": "code",
   "execution_count": 12,
   "metadata": {
    "colab": {
     "base_uri": "https://localhost:8080/"
    },
    "id": "IqPwUVMo6m3p",
    "outputId": "0ed3d4ee-69e5-41b0-9f15-7141739575aa"
   },
   "outputs": [
    {
     "name": "stdout",
     "output_type": "stream",
     "text": [
      "         Lead Number    Converted  TotalVisits  Total Time Spent on Website  \\\n",
      "count    9240.000000  9240.000000  9103.000000                  9240.000000   \n",
      "mean   617188.435606     0.385390     3.445238                   487.698268   \n",
      "std     23405.995698     0.486714     4.854853                   548.021466   \n",
      "min    579533.000000     0.000000     0.000000                     0.000000   \n",
      "25%    596484.500000     0.000000     1.000000                    12.000000   \n",
      "50%    615479.000000     0.000000     3.000000                   248.000000   \n",
      "75%    637387.250000     1.000000     5.000000                   936.000000   \n",
      "max    660737.000000     1.000000   251.000000                  2272.000000   \n",
      "\n",
      "       Page Views Per Visit  Asymmetrique Activity Score  \\\n",
      "count           9103.000000                  5022.000000   \n",
      "mean               2.362820                    14.306252   \n",
      "std                2.161418                     1.386694   \n",
      "min                0.000000                     7.000000   \n",
      "25%                1.000000                    14.000000   \n",
      "50%                2.000000                    14.000000   \n",
      "75%                3.000000                    15.000000   \n",
      "max               55.000000                    18.000000   \n",
      "\n",
      "       Asymmetrique Profile Score  \n",
      "count                 5022.000000  \n",
      "mean                    16.344883  \n",
      "std                      1.811395  \n",
      "min                     11.000000  \n",
      "25%                     15.000000  \n",
      "50%                     16.000000  \n",
      "75%                     18.000000  \n",
      "max                     20.000000  \n"
     ]
    }
   ],
   "source": [
    "#Describing Mean,std,min,25%,50%,75%,max of the dataset\n",
    "print(lead.describe())"
   ]
  },
  {
   "cell_type": "markdown",
   "metadata": {
    "id": "SJ476VD90-8p"
   },
   "source": [
    "## Data Cleaning"
   ]
  },
  {
   "cell_type": "markdown",
   "metadata": {
    "id": "fFcFpl4P3E7f"
   },
   "source": [
    "### Calculating the missing value percentage in each column"
   ]
  },
  {
   "cell_type": "code",
   "execution_count": 13,
   "metadata": {
    "colab": {
     "base_uri": "https://localhost:8080/"
    },
    "id": "06k91aHb1fGt",
    "outputId": "7ca294a5-a177-41fc-a469-dca50bdeb24f"
   },
   "outputs": [
    {
     "name": "stdout",
     "output_type": "stream",
     "text": [
      "Prospect ID                                       0.00\n",
      "Lead Number                                       0.00\n",
      "Lead Origin                                       0.00\n",
      "Lead Source                                       0.39\n",
      "Do Not Email                                      0.00\n",
      "Do Not Call                                       0.00\n",
      "Converted                                         0.00\n",
      "TotalVisits                                       1.48\n",
      "Total Time Spent on Website                       0.00\n",
      "Page Views Per Visit                              1.48\n",
      "Last Activity                                     1.11\n",
      "Country                                          26.63\n",
      "Specialization                                   15.56\n",
      "How did you hear about X Education               23.89\n",
      "What is your current occupation                  29.11\n",
      "What matters most to you in choosing a course    29.32\n",
      "Search                                            0.00\n",
      "Magazine                                          0.00\n",
      "Newspaper Article                                 0.00\n",
      "X Education Forums                                0.00\n",
      "Newspaper                                         0.00\n",
      "Digital Advertisement                             0.00\n",
      "Through Recommendations                           0.00\n",
      "Receive More Updates About Our Courses            0.00\n",
      "Tags                                             36.29\n",
      "Lead Quality                                     51.59\n",
      "Update me on Supply Chain Content                 0.00\n",
      "Get updates on DM Content                         0.00\n",
      "Lead Profile                                     29.32\n",
      "City                                             15.37\n",
      "Asymmetrique Activity Index                      45.65\n",
      "Asymmetrique Profile Index                       45.65\n",
      "Asymmetrique Activity Score                      45.65\n",
      "Asymmetrique Profile Score                       45.65\n",
      "I agree to pay the amount through cheque          0.00\n",
      "A free copy of Mastering The Interview            0.00\n",
      "Last Notable Activity                             0.00\n",
      "dtype: float64\n"
     ]
    }
   ],
   "source": [
    "#Percentage of missing values in each column.\n",
    "nullfind = round(lead.isnull().sum() * 100 / len(lead),2)\n",
    "print(nullfind)"
   ]
  },
  {
   "cell_type": "markdown",
   "metadata": {
    "id": "Aw902Sl_6m3x"
   },
   "source": [
    "**Data Cleaning - Removing (Score variable) all unnecessary information from the dataframe.**\n",
    "\n",
    "**Reason to remove score variables :** Score variable are those variables in the dataframe where the sales team has already contacted the lead, since the lead has already been contacted it does not add more value to our analysis, So we drop these variables.\n",
    "\n",
    "**Dropping the below score variable first**\n",
    "\n",
    "- Tags\n",
    "- Lead Quality\n",
    "- Lead Profile\n",
    "- Asymmetrique Activity Index\n",
    "- Asymmetrique Profile Index\n",
    "- Asymmetrique Activity Score\n",
    "- Asymmetrique Profile Score"
   ]
  },
  {
   "cell_type": "code",
   "execution_count": 14,
   "metadata": {
    "id": "I3295IHU3cuu"
   },
   "outputs": [],
   "source": [
    "#Dropping all score variables in the dataframe.\n",
    "lead.drop(['Tags','Lead Quality','Lead Profile','Asymmetrique Activity Index','Asymmetrique Profile Index','Asymmetrique Activity Score','Asymmetrique Profile Score'],axis=1,inplace=True)"
   ]
  },
  {
   "cell_type": "code",
   "execution_count": 15,
   "metadata": {
    "colab": {
     "base_uri": "https://localhost:8080/"
    },
    "id": "XMF0AUfU4e9t",
    "outputId": "2c26a5ab-12b4-401a-f13b-2e80769ef466"
   },
   "outputs": [
    {
     "data": {
      "text/plain": [
       "Index(['Prospect ID', 'Lead Number', 'Lead Origin', 'Lead Source',\n",
       "       'Do Not Email', 'Do Not Call', 'Converted', 'TotalVisits',\n",
       "       'Total Time Spent on Website', 'Page Views Per Visit', 'Last Activity',\n",
       "       'Country', 'Specialization', 'How did you hear about X Education',\n",
       "       'What is your current occupation',\n",
       "       'What matters most to you in choosing a course', 'Search', 'Magazine',\n",
       "       'Newspaper Article', 'X Education Forums', 'Newspaper',\n",
       "       'Digital Advertisement', 'Through Recommendations',\n",
       "       'Receive More Updates About Our Courses',\n",
       "       'Update me on Supply Chain Content', 'Get updates on DM Content',\n",
       "       'City', 'I agree to pay the amount through cheque',\n",
       "       'A free copy of Mastering The Interview', 'Last Notable Activity'],\n",
       "      dtype='object')"
      ]
     },
     "execution_count": 15,
     "metadata": {},
     "output_type": "execute_result"
    }
   ],
   "source": [
    "#When we inspect the column we can see that above score variables are removed.\n",
    "lead.columns"
   ]
  },
  {
   "cell_type": "code",
   "execution_count": 16,
   "metadata": {
    "colab": {
     "base_uri": "https://localhost:8080/"
    },
    "id": "PGwbGZv14pYc",
    "outputId": "51dfba52-1076-42bf-dc12-c8d9030887e5"
   },
   "outputs": [
    {
     "name": "stdout",
     "output_type": "stream",
     "text": [
      "Prospect ID                                       0.00\n",
      "Lead Number                                       0.00\n",
      "Lead Origin                                       0.00\n",
      "Lead Source                                       0.39\n",
      "Do Not Email                                      0.00\n",
      "Do Not Call                                       0.00\n",
      "Converted                                         0.00\n",
      "TotalVisits                                       1.48\n",
      "Total Time Spent on Website                       0.00\n",
      "Page Views Per Visit                              1.48\n",
      "Last Activity                                     1.11\n",
      "Country                                          26.63\n",
      "Specialization                                   15.56\n",
      "How did you hear about X Education               23.89\n",
      "What is your current occupation                  29.11\n",
      "What matters most to you in choosing a course    29.32\n",
      "Search                                            0.00\n",
      "Magazine                                          0.00\n",
      "Newspaper Article                                 0.00\n",
      "X Education Forums                                0.00\n",
      "Newspaper                                         0.00\n",
      "Digital Advertisement                             0.00\n",
      "Through Recommendations                           0.00\n",
      "Receive More Updates About Our Courses            0.00\n",
      "Update me on Supply Chain Content                 0.00\n",
      "Get updates on DM Content                         0.00\n",
      "City                                             15.37\n",
      "I agree to pay the amount through cheque          0.00\n",
      "A free copy of Mastering The Interview            0.00\n",
      "Last Notable Activity                             0.00\n",
      "dtype: float64\n"
     ]
    }
   ],
   "source": [
    "#Percentage of missing values in each column.\n",
    "nullseries = round(lead.isnull().sum() * 100 / len(lead),2)\n",
    "print(nullseries)"
   ]
  },
  {
   "cell_type": "code",
   "execution_count": 17,
   "metadata": {
    "colab": {
     "base_uri": "https://localhost:8080/"
    },
    "id": "QOQBeDU74wPs",
    "outputId": "458beb31-a9f8-4c01-aced-4d9ea93b7508"
   },
   "outputs": [
    {
     "name": "stdout",
     "output_type": "stream",
     "text": [
      "Series([], dtype: float64)\n"
     ]
    }
   ],
   "source": [
    "#Checking columns having null value greater than or equal to 37%\n",
    "print(nullseries[nullseries >= 37])"
   ]
  },
  {
   "cell_type": "code",
   "execution_count": 18,
   "metadata": {
    "id": "cCTBDLJm5mNx"
   },
   "outputs": [],
   "source": [
    "#Dropping all columns having a missing value percentage greater than 37%.\n",
    "lead = lead.drop(lead.loc[:,list((100*(lead.isnull().sum()/len(lead.index))>=37))].columns, 1)"
   ]
  },
  {
   "cell_type": "code",
   "execution_count": 19,
   "metadata": {
    "colab": {
     "base_uri": "https://localhost:8080/"
    },
    "id": "u4ZOu6dk5opJ",
    "outputId": "e4d60fe8-2aee-4a0b-bc60-7b081f75916a"
   },
   "outputs": [
    {
     "name": "stdout",
     "output_type": "stream",
     "text": [
      "Prospect ID                                       0.00\n",
      "Lead Number                                       0.00\n",
      "Lead Origin                                       0.00\n",
      "Lead Source                                       0.39\n",
      "Do Not Email                                      0.00\n",
      "Do Not Call                                       0.00\n",
      "Converted                                         0.00\n",
      "TotalVisits                                       1.48\n",
      "Total Time Spent on Website                       0.00\n",
      "Page Views Per Visit                              1.48\n",
      "Last Activity                                     1.11\n",
      "Country                                          26.63\n",
      "Specialization                                   15.56\n",
      "How did you hear about X Education               23.89\n",
      "What is your current occupation                  29.11\n",
      "What matters most to you in choosing a course    29.32\n",
      "Search                                            0.00\n",
      "Magazine                                          0.00\n",
      "Newspaper Article                                 0.00\n",
      "X Education Forums                                0.00\n",
      "Newspaper                                         0.00\n",
      "Digital Advertisement                             0.00\n",
      "Through Recommendations                           0.00\n",
      "Receive More Updates About Our Courses            0.00\n",
      "Update me on Supply Chain Content                 0.00\n",
      "Get updates on DM Content                         0.00\n",
      "City                                             15.37\n",
      "I agree to pay the amount through cheque          0.00\n",
      "A free copy of Mastering The Interview            0.00\n",
      "Last Notable Activity                             0.00\n",
      "dtype: float64\n"
     ]
    }
   ],
   "source": [
    "#Percentage of missing values in each column.\n",
    "nullseries = round(lead.isnull().sum() * 100 / len(lead),2)\n",
    "print(nullseries)"
   ]
  },
  {
   "cell_type": "markdown",
   "metadata": {
    "id": "PdRip4ra5rc8"
   },
   "source": [
    "### Data Cleaning - Checking for unique category - Combining categories  having low values to make a meaningful category"
   ]
  },
  {
   "cell_type": "code",
   "execution_count": 20,
   "metadata": {
    "colab": {
     "base_uri": "https://localhost:8080/"
    },
    "id": "LilZ-5YI58L7",
    "outputId": "8793734f-1a11-47cc-9a76-da8f14eaa3e6"
   },
   "outputs": [
    {
     "data": {
      "text/plain": [
       "Landing Page Submission    0.528788\n",
       "API                        0.387446\n",
       "Lead Add Form              0.077706\n",
       "Lead Import                0.005952\n",
       "Quick Add Form             0.000108\n",
       "Name: Lead Origin, dtype: float64"
      ]
     },
     "execution_count": 20,
     "metadata": {},
     "output_type": "execute_result"
    }
   ],
   "source": [
    "#Checking uniqueness in all categorical variables\n",
    "lead['Lead Origin'].value_counts(normalize=True)"
   ]
  },
  {
   "cell_type": "code",
   "execution_count": 21,
   "metadata": {
    "colab": {
     "base_uri": "https://localhost:8080/"
    },
    "id": "82X6NBvp88lz",
    "outputId": "379e24fd-ff4a-4d0e-dbe2-4e3292808eee"
   },
   "outputs": [
    {
     "data": {
      "text/plain": [
       "Google               0.311604\n",
       "Direct Traffic       0.276293\n",
       "Olark Chat           0.190678\n",
       "Organic Search       0.125380\n",
       "Reference            0.058018\n",
       "Welingak Website     0.015428\n",
       "Referral Sites       0.013581\n",
       "Facebook             0.005976\n",
       "bing                 0.000652\n",
       "google               0.000543\n",
       "Click2call           0.000435\n",
       "Press_Release        0.000217\n",
       "Social Media         0.000217\n",
       "Live Chat            0.000217\n",
       "youtubechannel       0.000109\n",
       "testone              0.000109\n",
       "Pay per Click Ads    0.000109\n",
       "welearnblog_Home     0.000109\n",
       "WeLearn              0.000109\n",
       "blog                 0.000109\n",
       "NC_EDM               0.000109\n",
       "Name: Lead Source, dtype: float64"
      ]
     },
     "execution_count": 21,
     "metadata": {},
     "output_type": "execute_result"
    }
   ],
   "source": [
    "#Checking uniqueness in all categorical variables\n",
    "lead['Lead Source'].value_counts(normalize=True)"
   ]
  },
  {
   "cell_type": "code",
   "execution_count": 22,
   "metadata": {
    "colab": {
     "base_uri": "https://localhost:8080/"
    },
    "id": "IDfcgUcw9A85",
    "outputId": "990ed3e9-439a-439e-b47e-e9567cd4d00b"
   },
   "outputs": [
    {
     "data": {
      "text/plain": [
       "No     0.920563\n",
       "Yes    0.079437\n",
       "Name: Do Not Email, dtype: float64"
      ]
     },
     "execution_count": 22,
     "metadata": {},
     "output_type": "execute_result"
    }
   ],
   "source": [
    "#Checking uniqueness in all categorical variables\n",
    "lead['Do Not Email'].value_counts(normalize=True)"
   ]
  },
  {
   "cell_type": "code",
   "execution_count": 23,
   "metadata": {
    "colab": {
     "base_uri": "https://localhost:8080/"
    },
    "id": "QRkD_6vN9Flq",
    "outputId": "81947b28-8e75-41b3-cfe1-3adf860a10e0"
   },
   "outputs": [
    {
     "data": {
      "text/plain": [
       "No     0.999784\n",
       "Yes    0.000216\n",
       "Name: Do Not Call, dtype: float64"
      ]
     },
     "execution_count": 23,
     "metadata": {},
     "output_type": "execute_result"
    }
   ],
   "source": [
    "#Checking uniqueness in all categorical variables\n",
    "lead['Do Not Call'].value_counts(normalize=True)"
   ]
  },
  {
   "cell_type": "code",
   "execution_count": 24,
   "metadata": {
    "colab": {
     "base_uri": "https://localhost:8080/"
    },
    "id": "17aBnT8Z9Its",
    "outputId": "e044d519-1fa8-44f9-dcda-bd8a2c5d4261"
   },
   "outputs": [
    {
     "data": {
      "text/plain": [
       "Email Opened                    0.376163\n",
       "SMS Sent                        0.300427\n",
       "Olark Chat Conversation         0.106490\n",
       "Page Visited on Website         0.070045\n",
       "Converted to Lead               0.046843\n",
       "Email Bounced                   0.035679\n",
       "Email Link Clicked              0.029222\n",
       "Form Submitted on Website       0.012696\n",
       "Unreachable                     0.010178\n",
       "Unsubscribed                    0.006676\n",
       "Had a Phone Conversation        0.003283\n",
       "Approached upfront              0.000985\n",
       "View in browser link Clicked    0.000657\n",
       "Email Received                  0.000219\n",
       "Email Marked Spam               0.000219\n",
       "Visited Booth in Tradeshow      0.000109\n",
       "Resubscribed to emails          0.000109\n",
       "Name: Last Activity, dtype: float64"
      ]
     },
     "execution_count": 24,
     "metadata": {},
     "output_type": "execute_result"
    }
   ],
   "source": [
    "#Checking uniqueness in all categorical variables\n",
    "lead['Last Activity'].value_counts(normalize=True)"
   ]
  },
  {
   "cell_type": "code",
   "execution_count": 25,
   "metadata": {
    "colab": {
     "base_uri": "https://localhost:8080/"
    },
    "id": "Zeou222n9OMy",
    "outputId": "c452a77f-6586-41e6-832c-a9483fbe54ee"
   },
   "outputs": [
    {
     "data": {
      "text/plain": [
       "India                   0.957663\n",
       "United States           0.010178\n",
       "United Arab Emirates    0.007818\n",
       "Singapore               0.003540\n",
       "Saudi Arabia            0.003098\n",
       "United Kingdom          0.002213\n",
       "Australia               0.001918\n",
       "Qatar                   0.001475\n",
       "Hong Kong               0.001033\n",
       "Bahrain                 0.001033\n",
       "Oman                    0.000885\n",
       "France                  0.000885\n",
       "unknown                 0.000738\n",
       "South Africa            0.000590\n",
       "Nigeria                 0.000590\n",
       "Germany                 0.000590\n",
       "Kuwait                  0.000590\n",
       "Canada                  0.000590\n",
       "Sweden                  0.000443\n",
       "China                   0.000295\n",
       "Asia/Pacific Region     0.000295\n",
       "Uganda                  0.000295\n",
       "Bangladesh              0.000295\n",
       "Italy                   0.000295\n",
       "Belgium                 0.000295\n",
       "Netherlands             0.000295\n",
       "Ghana                   0.000295\n",
       "Philippines             0.000295\n",
       "Russia                  0.000148\n",
       "Switzerland             0.000148\n",
       "Vietnam                 0.000148\n",
       "Denmark                 0.000148\n",
       "Tanzania                0.000148\n",
       "Liberia                 0.000148\n",
       "Malaysia                0.000148\n",
       "Kenya                   0.000148\n",
       "Sri Lanka               0.000148\n",
       "Indonesia               0.000148\n",
       "Name: Country, dtype: float64"
      ]
     },
     "execution_count": 25,
     "metadata": {},
     "output_type": "execute_result"
    }
   ],
   "source": [
    "#Checking uniqueness in all categorical variables\n",
    "lead['Country'].value_counts(normalize=True)"
   ]
  },
  {
   "cell_type": "code",
   "execution_count": 26,
   "metadata": {
    "colab": {
     "base_uri": "https://localhost:8080/"
    },
    "id": "dvp0HV2U9TMm",
    "outputId": "c1a5ae91-642e-4eb7-b5ea-38b72f9709c6"
   },
   "outputs": [
    {
     "data": {
      "text/plain": [
       "Select                               0.248911\n",
       "Finance Management                   0.125096\n",
       "Human Resource Management            0.108690\n",
       "Marketing Management                 0.107408\n",
       "Operations Management                0.064471\n",
       "Business Administration              0.051653\n",
       "IT Projects Management               0.046911\n",
       "Supply Chain Management              0.044732\n",
       "Banking, Investment And Insurance    0.043322\n",
       "Travel and Tourism                   0.026019\n",
       "Media and Advertising                0.026019\n",
       "International Business               0.022815\n",
       "Healthcare Management                0.020379\n",
       "Hospitality Management               0.014612\n",
       "E-COMMERCE                           0.014355\n",
       "Retail Management                    0.012817\n",
       "Rural and Agribusiness               0.009357\n",
       "E-Business                           0.007306\n",
       "Services Excellence                  0.005127\n",
       "Name: Specialization, dtype: float64"
      ]
     },
     "execution_count": 26,
     "metadata": {},
     "output_type": "execute_result"
    }
   ],
   "source": [
    "#Checking uniqueness in all categorical variables\n",
    "lead['Specialization'].value_counts(normalize=True)"
   ]
  },
  {
   "cell_type": "code",
   "execution_count": 27,
   "metadata": {
    "colab": {
     "base_uri": "https://localhost:8080/"
    },
    "id": "fKYiRNDu9WND",
    "outputId": "89dbd4c1-5b68-4c93-a642-9466d7763fde"
   },
   "outputs": [
    {
     "data": {
      "text/plain": [
       "Unemployed              0.854962\n",
       "Working Professional    0.107786\n",
       "Student                 0.032061\n",
       "Other                   0.002443\n",
       "Housewife               0.001527\n",
       "Businessman             0.001221\n",
       "Name: What is your current occupation, dtype: float64"
      ]
     },
     "execution_count": 27,
     "metadata": {},
     "output_type": "execute_result"
    }
   ],
   "source": [
    "#Checking uniqueness in all categorical variables\n",
    "lead['What is your current occupation'].value_counts(normalize=True)"
   ]
  },
  {
   "cell_type": "code",
   "execution_count": 28,
   "metadata": {
    "colab": {
     "base_uri": "https://localhost:8080/"
    },
    "id": "cyvD1XWh9d0I",
    "outputId": "0a52bf65-07f0-4337-cfde-d4213006ffec"
   },
   "outputs": [
    {
     "data": {
      "text/plain": [
       "Better Career Prospects      0.999541\n",
       "Flexibility & Convenience    0.000306\n",
       "Other                        0.000153\n",
       "Name: What matters most to you in choosing a course, dtype: float64"
      ]
     },
     "execution_count": 28,
     "metadata": {},
     "output_type": "execute_result"
    }
   ],
   "source": [
    "#Checking uniqueness in all categorical variables\n",
    "lead['What matters most to you in choosing a course'].value_counts(normalize=True)"
   ]
  },
  {
   "cell_type": "code",
   "execution_count": 29,
   "metadata": {
    "colab": {
     "base_uri": "https://localhost:8080/"
    },
    "id": "tlfSopeD9hH9",
    "outputId": "32ab178b-c66f-45da-cdd9-b8097d162daf"
   },
   "outputs": [
    {
     "data": {
      "text/plain": [
       "No     0.998485\n",
       "Yes    0.001515\n",
       "Name: Search, dtype: float64"
      ]
     },
     "execution_count": 29,
     "metadata": {},
     "output_type": "execute_result"
    }
   ],
   "source": [
    "#Checking uniqueness in all categorical variables\n",
    "lead['Search'].value_counts(normalize=True)"
   ]
  },
  {
   "cell_type": "code",
   "execution_count": 30,
   "metadata": {
    "colab": {
     "base_uri": "https://localhost:8080/"
    },
    "id": "RM_R3i_c9kSp",
    "outputId": "d3db9de3-7401-4de5-ed4a-2ba53f40924a"
   },
   "outputs": [
    {
     "data": {
      "text/plain": [
       "No    1.0\n",
       "Name: Magazine, dtype: float64"
      ]
     },
     "execution_count": 30,
     "metadata": {},
     "output_type": "execute_result"
    }
   ],
   "source": [
    "#Checking uniqueness in all categorical variables\n",
    "lead['Magazine'].value_counts(normalize=True)"
   ]
  },
  {
   "cell_type": "code",
   "execution_count": 31,
   "metadata": {
    "colab": {
     "base_uri": "https://localhost:8080/"
    },
    "id": "qqebuDhZ9uFy",
    "outputId": "51ccc819-1cac-4616-a3b2-5f53a20197dd"
   },
   "outputs": [
    {
     "data": {
      "text/plain": [
       "No     0.999784\n",
       "Yes    0.000216\n",
       "Name: Newspaper Article, dtype: float64"
      ]
     },
     "execution_count": 31,
     "metadata": {},
     "output_type": "execute_result"
    }
   ],
   "source": [
    "#Checking uniqueness in all categorical variables\n",
    "lead['Newspaper Article'].value_counts(normalize=True)"
   ]
  },
  {
   "cell_type": "code",
   "execution_count": 32,
   "metadata": {
    "colab": {
     "base_uri": "https://localhost:8080/"
    },
    "id": "NSqITleT9yT3",
    "outputId": "678c6a4e-f7de-4183-ac8e-394f1a54317e"
   },
   "outputs": [
    {
     "data": {
      "text/plain": [
       "No     0.999892\n",
       "Yes    0.000108\n",
       "Name: X Education Forums, dtype: float64"
      ]
     },
     "execution_count": 32,
     "metadata": {},
     "output_type": "execute_result"
    }
   ],
   "source": [
    "#Checking uniqueness in all categorical variables\n",
    "lead['X Education Forums'].value_counts(normalize=True)"
   ]
  },
  {
   "cell_type": "code",
   "execution_count": 33,
   "metadata": {
    "colab": {
     "base_uri": "https://localhost:8080/"
    },
    "id": "8KtyT-I-92Cj",
    "outputId": "a57c6966-f870-4c80-d3cc-82e40bd57af1"
   },
   "outputs": [
    {
     "data": {
      "text/plain": [
       "No     0.999567\n",
       "Yes    0.000433\n",
       "Name: Digital Advertisement, dtype: float64"
      ]
     },
     "execution_count": 33,
     "metadata": {},
     "output_type": "execute_result"
    }
   ],
   "source": [
    "#Checking uniqueness in all categorical variables\n",
    "lead['Digital Advertisement'].value_counts(normalize=True)"
   ]
  },
  {
   "cell_type": "code",
   "execution_count": 34,
   "metadata": {
    "colab": {
     "base_uri": "https://localhost:8080/"
    },
    "id": "M6F8QRSj95nm",
    "outputId": "a30f8f47-b751-4963-c9e5-a2736446eaaa"
   },
   "outputs": [
    {
     "data": {
      "text/plain": [
       "No     0.999242\n",
       "Yes    0.000758\n",
       "Name: Through Recommendations, dtype: float64"
      ]
     },
     "execution_count": 34,
     "metadata": {},
     "output_type": "execute_result"
    }
   ],
   "source": [
    "#Checking uniqueness in all categorical variables\n",
    "lead['Through Recommendations'].value_counts(normalize=True)"
   ]
  },
  {
   "cell_type": "code",
   "execution_count": 35,
   "metadata": {
    "colab": {
     "base_uri": "https://localhost:8080/"
    },
    "id": "3BfkF9Fo9-Y0",
    "outputId": "d3464818-00f2-4e9a-deb1-41a95bd9aa91"
   },
   "outputs": [
    {
     "data": {
      "text/plain": [
       "No    1.0\n",
       "Name: Receive More Updates About Our Courses, dtype: float64"
      ]
     },
     "execution_count": 35,
     "metadata": {},
     "output_type": "execute_result"
    }
   ],
   "source": [
    "#Checking uniqueness in all categorical variables\n",
    "lead['Receive More Updates About Our Courses'].value_counts(normalize=True)"
   ]
  },
  {
   "cell_type": "code",
   "execution_count": 36,
   "metadata": {
    "colab": {
     "base_uri": "https://localhost:8080/"
    },
    "id": "o-3qTr1t-A-q",
    "outputId": "d6585acb-ec61-4b4e-e502-291f0e75a7eb"
   },
   "outputs": [
    {
     "data": {
      "text/plain": [
       "No    1.0\n",
       "Name: Get updates on DM Content, dtype: float64"
      ]
     },
     "execution_count": 36,
     "metadata": {},
     "output_type": "execute_result"
    }
   ],
   "source": [
    "#Checking uniqueness in all categorical variables\n",
    "lead['Get updates on DM Content'].value_counts(normalize=True)"
   ]
  },
  {
   "cell_type": "code",
   "execution_count": 37,
   "metadata": {
    "colab": {
     "base_uri": "https://localhost:8080/"
    },
    "id": "coXFmCVO-EWA",
    "outputId": "3f4d48bf-f0fb-4be4-ef0d-019ae8eecece"
   },
   "outputs": [
    {
     "data": {
      "text/plain": [
       "No    1.0\n",
       "Name: Update me on Supply Chain Content, dtype: float64"
      ]
     },
     "execution_count": 37,
     "metadata": {},
     "output_type": "execute_result"
    }
   ],
   "source": [
    "#Checking uniqueness in all categorical variable\n",
    "lead['Update me on Supply Chain Content'].value_counts(normalize=True)"
   ]
  },
  {
   "cell_type": "code",
   "execution_count": 38,
   "metadata": {
    "colab": {
     "base_uri": "https://localhost:8080/"
    },
    "id": "GMDiRCQ8-Vb-",
    "outputId": "61bfeb9c-b8de-40af-9adf-3feeabbc70cf"
   },
   "outputs": [
    {
     "data": {
      "text/plain": [
       "No    1.0\n",
       "Name: I agree to pay the amount through cheque, dtype: float64"
      ]
     },
     "execution_count": 38,
     "metadata": {},
     "output_type": "execute_result"
    }
   ],
   "source": [
    "#Checking uniqueness in all categorical variable\n",
    "lead['I agree to pay the amount through cheque'].value_counts(normalize=True)"
   ]
  },
  {
   "cell_type": "code",
   "execution_count": 39,
   "metadata": {
    "colab": {
     "base_uri": "https://localhost:8080/"
    },
    "id": "geOR2wXX-Xec",
    "outputId": "c84e5451-ed70-4b4c-c93a-bd92c19b6822"
   },
   "outputs": [
    {
     "data": {
      "text/plain": [
       "No     0.687446\n",
       "Yes    0.312554\n",
       "Name: A free copy of Mastering The Interview, dtype: float64"
      ]
     },
     "execution_count": 39,
     "metadata": {},
     "output_type": "execute_result"
    }
   ],
   "source": [
    "#Checking uniqueness in all categorical variable\n",
    "lead['A free copy of Mastering The Interview'].value_counts(normalize=True)"
   ]
  },
  {
   "cell_type": "markdown",
   "metadata": {
    "id": "p287E9mL_Weg"
   },
   "source": [
    "**Dropping highky skewed columns is important because : there is a high data imbalance amongst the columns and it does not add more value to model building.**\n",
    "\n",
    "**Following Columns To Be Drop:**\n",
    "\n",
    "- Do Not Email\n",
    "- Do Not Call\n",
    "- Country\n",
    "- What matters most to you in choosing a course\n",
    "- Search\n",
    "- Magazine\n",
    "- Newspaper Article  \n",
    "- X Education Forums\n",
    "- Newspaper\n",
    "- Digital Advertisement\n",
    "- Through Recommendations\n",
    "- Receive More Updates About Our Courses\n",
    "- Update me on Supply Chain Content\n",
    "- Get updates on DM Content\n",
    "- I agree to pay the amount through cheque"
   ]
  },
  {
   "cell_type": "code",
   "execution_count": 40,
   "metadata": {
    "colab": {
     "base_uri": "https://localhost:8080/",
     "height": 442
    },
    "id": "PdSXK80v_Z5z",
    "outputId": "1a8df9dd-ca98-4fa2-8dc9-9bc1e48614fb"
   },
   "outputs": [],
   "source": [
    "#Dropping columns with high data imbalance\n",
    "lead.drop(['Do Not Email','Do Not Call','Country','What matters most to you in choosing a course',\n",
    "'Search','Magazine','Newspaper Article', 'X Education Forums','Newspaper','Digital Advertisement','Through Recommendations',\n",
    "'Receive More Updates About Our Courses', 'Update me on Supply Chain Content','Get updates on DM Content',\n",
    "'I agree to pay the amount through cheque'],axis=1,inplace=True)"
   ]
  },
  {
   "cell_type": "code",
   "execution_count": 41,
   "metadata": {
    "colab": {
     "base_uri": "https://localhost:8080/"
    },
    "id": "gQDavzVx_9lM",
    "outputId": "511c5a0f-c400-4fb0-bb1c-763d7f6980c0"
   },
   "outputs": [
    {
     "data": {
      "text/plain": [
       "Index(['Prospect ID', 'Lead Number', 'Lead Origin', 'Lead Source', 'Converted',\n",
       "       'TotalVisits', 'Total Time Spent on Website', 'Page Views Per Visit',\n",
       "       'Last Activity', 'Specialization', 'How did you hear about X Education',\n",
       "       'What is your current occupation', 'City',\n",
       "       'A free copy of Mastering The Interview', 'Last Notable Activity'],\n",
       "      dtype='object')"
      ]
     },
     "execution_count": 41,
     "metadata": {},
     "output_type": "execute_result"
    }
   ],
   "source": [
    "#Inspecting to check if the columns have been deleted carefully.\n",
    "lead.columns"
   ]
  },
  {
   "cell_type": "code",
   "execution_count": 42,
   "metadata": {
    "colab": {
     "base_uri": "https://localhost:8080/"
    },
    "id": "4Lk2Ae05ALg7",
    "outputId": "79068473-8ae9-4d1f-bc63-7a2926552ff0"
   },
   "outputs": [
    {
     "name": "stdout",
     "output_type": "stream",
     "text": [
      "Prospect ID                                0.00\n",
      "Lead Number                                0.00\n",
      "Lead Origin                                0.00\n",
      "Lead Source                                0.39\n",
      "Converted                                  0.00\n",
      "TotalVisits                                1.48\n",
      "Total Time Spent on Website                0.00\n",
      "Page Views Per Visit                       1.48\n",
      "Last Activity                              1.11\n",
      "Specialization                            15.56\n",
      "How did you hear about X Education        23.89\n",
      "What is your current occupation           29.11\n",
      "City                                      15.37\n",
      "A free copy of Mastering The Interview     0.00\n",
      "Last Notable Activity                      0.00\n",
      "dtype: float64\n"
     ]
    }
   ],
   "source": [
    "#Percentage of missing values in each column.\n",
    "nullseries = round(lead.isnull().sum() * 100 / len(lead),2)\n",
    "print(nullseries)"
   ]
  },
  {
   "cell_type": "code",
   "execution_count": 43,
   "metadata": {
    "colab": {
     "base_uri": "https://localhost:8080/"
    },
    "id": "bB9PvvywEOse",
    "outputId": "abd73802-badf-48c9-f9f3-2e7ba5fae23f"
   },
   "outputs": [
    {
     "name": "stdout",
     "output_type": "stream",
     "text": [
      "Total number of columns : 15\n"
     ]
    }
   ],
   "source": [
    "print(\"Total number of columns :\", len(lead.columns))"
   ]
  },
  {
   "cell_type": "markdown",
   "metadata": {
    "id": "jZz4n-FLAbCE"
   },
   "source": [
    "### Data Cleaning - Combining columns having low percentages into one single column."
   ]
  },
  {
   "cell_type": "code",
   "execution_count": 44,
   "metadata": {
    "colab": {
     "base_uri": "https://localhost:8080/"
    },
    "id": "gxDY1HdnAkzR",
    "outputId": "c191a6cf-5dcd-4fc7-99d6-b42a0344129c"
   },
   "outputs": [
    {
     "data": {
      "text/plain": [
       "Landing Page Submission    0.528788\n",
       "API                        0.387446\n",
       "Lead Add Form              0.077706\n",
       "Lead Import                0.005952\n",
       "Quick Add Form             0.000108\n",
       "Name: Lead Origin, dtype: float64"
      ]
     },
     "execution_count": 44,
     "metadata": {},
     "output_type": "execute_result"
    }
   ],
   "source": [
    "#Inspecting the column again\n",
    "lead['Lead Origin'].value_counts(normalize=True)"
   ]
  },
  {
   "cell_type": "code",
   "execution_count": 45,
   "metadata": {
    "id": "-9BLNicTAQb4"
   },
   "outputs": [],
   "source": [
    "#Combining categories with very low row percentages as it does not make sense to create dummies for such rows.\n",
    "lead['Lead Origin'] = lead['Lead Origin'].replace(['Lead Import','Quick Add Form'] ,'Others')"
   ]
  },
  {
   "cell_type": "code",
   "execution_count": 46,
   "metadata": {
    "colab": {
     "base_uri": "https://localhost:8080/"
    },
    "id": "8XgtmSutAZz2",
    "outputId": "c8fc5bf0-0dd6-480a-9cb7-d9701ba8b649"
   },
   "outputs": [
    {
     "data": {
      "text/plain": [
       "Landing Page Submission    0.528788\n",
       "API                        0.387446\n",
       "Lead Add Form              0.077706\n",
       "Others                     0.006061\n",
       "Name: Lead Origin, dtype: float64"
      ]
     },
     "execution_count": 46,
     "metadata": {},
     "output_type": "execute_result"
    }
   ],
   "source": [
    "#Checking if the category has been correctly replaced.\n",
    "lead['Lead Origin'].value_counts(normalize=True)"
   ]
  },
  {
   "cell_type": "code",
   "execution_count": 47,
   "metadata": {
    "colab": {
     "base_uri": "https://localhost:8080/"
    },
    "id": "IPn8-G_6CVai",
    "outputId": "801112e5-c287-4c57-9358-c981e369a35c"
   },
   "outputs": [
    {
     "data": {
      "text/plain": [
       "Google               0.311604\n",
       "Direct Traffic       0.276293\n",
       "Olark Chat           0.190678\n",
       "Organic Search       0.125380\n",
       "Reference            0.058018\n",
       "Welingak Website     0.015428\n",
       "Referral Sites       0.013581\n",
       "Facebook             0.005976\n",
       "bing                 0.000652\n",
       "google               0.000543\n",
       "Click2call           0.000435\n",
       "Press_Release        0.000217\n",
       "Social Media         0.000217\n",
       "Live Chat            0.000217\n",
       "youtubechannel       0.000109\n",
       "testone              0.000109\n",
       "Pay per Click Ads    0.000109\n",
       "welearnblog_Home     0.000109\n",
       "WeLearn              0.000109\n",
       "blog                 0.000109\n",
       "NC_EDM               0.000109\n",
       "Name: Lead Source, dtype: float64"
      ]
     },
     "execution_count": 47,
     "metadata": {},
     "output_type": "execute_result"
    }
   ],
   "source": [
    "#Inspecting Lead Source column.\n",
    "lead['Lead Source'].value_counts(normalize=True)"
   ]
  },
  {
   "cell_type": "code",
   "execution_count": 48,
   "metadata": {
    "id": "TptvTrhUCnmA"
   },
   "outputs": [],
   "source": [
    "#Combining categories\n",
    "lead['Lead Source'] = lead['Lead Source'].replace(['Welingak Website','Referral Sites','Facebook','bing','google','Click2call',\n",
    "                                                   'Press_Release','Social Media','Live Chat','Pay per Click Ads','blog','WeLearn',\n",
    "                                                   'youtubechannel','testone','NC_EDM' ,'welearnblog_Home'] ,'Others')"
   ]
  },
  {
   "cell_type": "code",
   "execution_count": 49,
   "metadata": {
    "colab": {
     "base_uri": "https://localhost:8080/"
    },
    "id": "oAO7s5tNC1Nn",
    "outputId": "33bfe5ae-945a-48ec-c130-5602f89ee2dd"
   },
   "outputs": [
    {
     "data": {
      "text/plain": [
       "Google            0.311604\n",
       "Direct Traffic    0.276293\n",
       "Olark Chat        0.190678\n",
       "Organic Search    0.125380\n",
       "Reference         0.058018\n",
       "Others            0.038027\n",
       "Name: Lead Source, dtype: float64"
      ]
     },
     "execution_count": 49,
     "metadata": {},
     "output_type": "execute_result"
    }
   ],
   "source": [
    "#Inspecting Lead Source column.\n",
    "lead['Lead Source'].value_counts(normalize=True)"
   ]
  },
  {
   "cell_type": "code",
   "execution_count": 50,
   "metadata": {
    "colab": {
     "base_uri": "https://localhost:8080/"
    },
    "id": "4HGlgkX4C3-G",
    "outputId": "928b779a-e8b8-4d9e-cefc-fdcd16704dcb"
   },
   "outputs": [
    {
     "data": {
      "text/plain": [
       "Email Opened                    0.376163\n",
       "SMS Sent                        0.300427\n",
       "Olark Chat Conversation         0.106490\n",
       "Page Visited on Website         0.070045\n",
       "Converted to Lead               0.046843\n",
       "Email Bounced                   0.035679\n",
       "Email Link Clicked              0.029222\n",
       "Form Submitted on Website       0.012696\n",
       "Unreachable                     0.010178\n",
       "Unsubscribed                    0.006676\n",
       "Had a Phone Conversation        0.003283\n",
       "Approached upfront              0.000985\n",
       "View in browser link Clicked    0.000657\n",
       "Email Received                  0.000219\n",
       "Email Marked Spam               0.000219\n",
       "Visited Booth in Tradeshow      0.000109\n",
       "Resubscribed to emails          0.000109\n",
       "Name: Last Activity, dtype: float64"
      ]
     },
     "execution_count": 50,
     "metadata": {},
     "output_type": "execute_result"
    }
   ],
   "source": [
    "#Inspecting 'Last Activity' column\n",
    "lead['Last Activity'].value_counts(normalize=True)"
   ]
  },
  {
   "cell_type": "code",
   "execution_count": 51,
   "metadata": {
    "id": "hJheK8WQDRXp"
   },
   "outputs": [],
   "source": [
    "#Combining together to form 'Others' Categories.\n",
    "lead['Last Activity']=lead['Last Activity'].replace(['Form Submitted on Website'      ,\n",
    "'Unreachable'                    ,\n",
    "'Unsubscribed'                   ,\n",
    "'Had a Phone Conversation'       ,\n",
    "'Approached upfront'             ,\n",
    "'View in browser link Clicked'   ,\n",
    "'Email Received'                 ,\n",
    "'Email Marked Spam'              ,\n",
    "'Visited Booth in Tradeshow'     ,\n",
    "'Resubscribed to emails'],'Others')"
   ]
  },
  {
   "cell_type": "code",
   "execution_count": 52,
   "metadata": {
    "colab": {
     "base_uri": "https://localhost:8080/"
    },
    "id": "BgLCSdGQDehw",
    "outputId": "ad450a0d-a037-4b33-d1d7-7411d339914a"
   },
   "outputs": [
    {
     "data": {
      "text/plain": [
       "Email Opened               0.376163\n",
       "SMS Sent                   0.300427\n",
       "Olark Chat Conversation    0.106490\n",
       "Page Visited on Website    0.070045\n",
       "Converted to Lead          0.046843\n",
       "Email Bounced              0.035679\n",
       "Others                     0.035132\n",
       "Email Link Clicked         0.029222\n",
       "Name: Last Activity, dtype: float64"
      ]
     },
     "execution_count": 52,
     "metadata": {},
     "output_type": "execute_result"
    }
   ],
   "source": [
    "#Inspecting 'Last Activity' column\n",
    "lead['Last Activity'].value_counts(normalize=True)"
   ]
  },
  {
   "cell_type": "markdown",
   "metadata": {
    "id": "5IJV7gYVDmM1"
   },
   "source": [
    "**Specialization**"
   ]
  },
  {
   "cell_type": "code",
   "execution_count": 53,
   "metadata": {
    "colab": {
     "base_uri": "https://localhost:8080/"
    },
    "id": "cFm6S2mEDhMT",
    "outputId": "13d86c92-06fd-426b-8476-7f43c2d84425"
   },
   "outputs": [
    {
     "data": {
      "text/plain": [
       "Select                               0.248911\n",
       "Finance Management                   0.125096\n",
       "Human Resource Management            0.108690\n",
       "Marketing Management                 0.107408\n",
       "Operations Management                0.064471\n",
       "Business Administration              0.051653\n",
       "IT Projects Management               0.046911\n",
       "Supply Chain Management              0.044732\n",
       "Banking, Investment And Insurance    0.043322\n",
       "Travel and Tourism                   0.026019\n",
       "Media and Advertising                0.026019\n",
       "International Business               0.022815\n",
       "Healthcare Management                0.020379\n",
       "Hospitality Management               0.014612\n",
       "E-COMMERCE                           0.014355\n",
       "Retail Management                    0.012817\n",
       "Rural and Agribusiness               0.009357\n",
       "E-Business                           0.007306\n",
       "Services Excellence                  0.005127\n",
       "Name: Specialization, dtype: float64"
      ]
     },
     "execution_count": 53,
     "metadata": {},
     "output_type": "execute_result"
    }
   ],
   "source": [
    "#Inspecting the specialization column\n",
    "lead['Specialization'].value_counts(normalize=True)"
   ]
  },
  {
   "cell_type": "code",
   "execution_count": 54,
   "metadata": {
    "id": "A1PEHl4FDtUT"
   },
   "outputs": [],
   "source": [
    "#Combining categories < 2%  into 'Others'\n",
    "lead['Specialization']=lead['Specialization'].replace(['Rural and Agribusiness','E-Business','Services Excellence','Hospitality Management','E-COMMERCE','Retail Management'],'Others')"
   ]
  },
  {
   "cell_type": "code",
   "execution_count": 55,
   "metadata": {
    "colab": {
     "base_uri": "https://localhost:8080/"
    },
    "id": "Sq4VxnJpDvdA",
    "outputId": "1c5cfe90-2bed-4fdf-a7ca-34135a4f8e5d"
   },
   "outputs": [
    {
     "data": {
      "text/plain": [
       "Select                               0.248911\n",
       "Finance Management                   0.125096\n",
       "Human Resource Management            0.108690\n",
       "Marketing Management                 0.107408\n",
       "Operations Management                0.064471\n",
       "Others                               0.063573\n",
       "Business Administration              0.051653\n",
       "IT Projects Management               0.046911\n",
       "Supply Chain Management              0.044732\n",
       "Banking, Investment And Insurance    0.043322\n",
       "Media and Advertising                0.026019\n",
       "Travel and Tourism                   0.026019\n",
       "International Business               0.022815\n",
       "Healthcare Management                0.020379\n",
       "Name: Specialization, dtype: float64"
      ]
     },
     "execution_count": 55,
     "metadata": {},
     "output_type": "execute_result"
    }
   ],
   "source": [
    "#Inspecting the column again to recheck the same.\n",
    "lead['Specialization'].value_counts(normalize=True)"
   ]
  },
  {
   "cell_type": "code",
   "execution_count": 56,
   "metadata": {
    "id": "L-ds4EGsFPbB"
   },
   "outputs": [],
   "source": [
    "#We also handle the missing values for this Specialisation column, we add another column known as \"Not Specified\" for all missing values.\n",
    "lead.Specialization.fillna('Not Specified', inplace=True)"
   ]
  },
  {
   "cell_type": "code",
   "execution_count": 57,
   "metadata": {
    "colab": {
     "base_uri": "https://localhost:8080/"
    },
    "id": "SWdGrSd1Fk0O",
    "outputId": "618441eb-ebda-49c7-baba-7706fed04b3d"
   },
   "outputs": [
    {
     "data": {
      "text/plain": [
       "Select                               0.210173\n",
       "Not Specified                        0.155628\n",
       "Finance Management                   0.105628\n",
       "Human Resource Management            0.091775\n",
       "Marketing Management                 0.090693\n",
       "Operations Management                0.054437\n",
       "Others                               0.053680\n",
       "Business Administration              0.043615\n",
       "IT Projects Management               0.039610\n",
       "Supply Chain Management              0.037771\n",
       "Banking, Investment And Insurance    0.036580\n",
       "Media and Advertising                0.021970\n",
       "Travel and Tourism                   0.021970\n",
       "International Business               0.019264\n",
       "Healthcare Management                0.017208\n",
       "Name: Specialization, dtype: float64"
      ]
     },
     "execution_count": 57,
     "metadata": {},
     "output_type": "execute_result"
    }
   ],
   "source": [
    "#Inspecting the column again to recheck the same.\n",
    "lead['Specialization'].value_counts(normalize=True)"
   ]
  },
  {
   "cell_type": "markdown",
   "metadata": {
    "id": "s0cRFyriEj68"
   },
   "source": [
    "**Current Occupation**"
   ]
  },
  {
   "cell_type": "code",
   "execution_count": 58,
   "metadata": {
    "colab": {
     "base_uri": "https://localhost:8080/"
    },
    "id": "Kf3WC7oCEopC",
    "outputId": "6275dacc-7b09-4255-893b-2efa371e032e"
   },
   "outputs": [
    {
     "data": {
      "text/plain": [
       "Unemployed              0.854962\n",
       "Working Professional    0.107786\n",
       "Student                 0.032061\n",
       "Other                   0.002443\n",
       "Housewife               0.001527\n",
       "Businessman             0.001221\n",
       "Name: What is your current occupation, dtype: float64"
      ]
     },
     "execution_count": 58,
     "metadata": {},
     "output_type": "execute_result"
    }
   ],
   "source": [
    "#Inspecting value counts for Current Occupation\n",
    "lead['What is your current occupation'].value_counts(normalize=True)"
   ]
  },
  {
   "cell_type": "code",
   "execution_count": 59,
   "metadata": {
    "id": "FWD0VR2SEyFb"
   },
   "outputs": [],
   "source": [
    "#Combining categories\n",
    "lead['What is your current occupation']=lead['What is your current occupation'].replace(['Other','Housewife','Businessman'],'Others')"
   ]
  },
  {
   "cell_type": "code",
   "execution_count": 60,
   "metadata": {
    "colab": {
     "base_uri": "https://localhost:8080/"
    },
    "id": "WBJPitj1E2Qg",
    "outputId": "f93ab3b9-4e7c-4b4d-cdcb-99d1817896db"
   },
   "outputs": [
    {
     "data": {
      "text/plain": [
       "Unemployed              0.854962\n",
       "Working Professional    0.107786\n",
       "Student                 0.032061\n",
       "Others                  0.005191\n",
       "Name: What is your current occupation, dtype: float64"
      ]
     },
     "execution_count": 60,
     "metadata": {},
     "output_type": "execute_result"
    }
   ],
   "source": [
    "#Rechecking to find if the categories are correctly combined.\n",
    "lead['What is your current occupation'].value_counts(normalize=True)"
   ]
  },
  {
   "cell_type": "markdown",
   "metadata": {
    "id": "KMfwpPXFF0wF"
   },
   "source": [
    "### Imputing columns with low null value percentages\n",
    "\n",
    "- **Generally categorical columns are imputed with 'mode'.**\n",
    "- **And, Numerical columns are imputed with mean or median.**"
   ]
  },
  {
   "cell_type": "code",
   "execution_count": 61,
   "metadata": {
    "colab": {
     "base_uri": "https://localhost:8080/"
    },
    "id": "DZmJLnj3F0Jn",
    "outputId": "87181eb5-725d-46c2-b0b1-ff35de8f9f73"
   },
   "outputs": [
    {
     "name": "stdout",
     "output_type": "stream",
     "text": [
      "Prospect ID                                0.00\n",
      "Lead Number                                0.00\n",
      "Lead Origin                                0.00\n",
      "Lead Source                                0.39\n",
      "Converted                                  0.00\n",
      "TotalVisits                                1.48\n",
      "Total Time Spent on Website                0.00\n",
      "Page Views Per Visit                       1.48\n",
      "Last Activity                              1.11\n",
      "Specialization                             0.00\n",
      "How did you hear about X Education        23.89\n",
      "What is your current occupation           29.11\n",
      "City                                      15.37\n",
      "A free copy of Mastering The Interview     0.00\n",
      "Last Notable Activity                      0.00\n",
      "dtype: float64\n"
     ]
    }
   ],
   "source": [
    "#Percentage of missing values in each column.\n",
    "nullseries = round(lead.isnull().sum() * 100 / len(lead),2)\n",
    "print(nullseries)"
   ]
  },
  {
   "cell_type": "markdown",
   "metadata": {
    "id": "dr0PIKP_Hmo3"
   },
   "source": [
    "#### **Imputing categorical columns**"
   ]
  },
  {
   "cell_type": "code",
   "execution_count": 62,
   "metadata": {
    "colab": {
     "base_uri": "https://localhost:8080/",
     "height": 131
    },
    "id": "n1iTMtBSH9ky",
    "outputId": "129cb2ac-3399-4909-9d94-f49a27b6e0c2"
   },
   "outputs": [
    {
     "data": {
      "text/plain": [
       "Google            0.311604\n",
       "Direct Traffic    0.276293\n",
       "Olark Chat        0.190678\n",
       "Organic Search    0.125380\n",
       "Reference         0.058018\n",
       "Others            0.038027\n",
       "Name: Lead Source, dtype: float64"
      ]
     },
     "execution_count": 62,
     "metadata": {},
     "output_type": "execute_result"
    }
   ],
   "source": [
    "#Imputing categorical columns with Mode\n",
    "lead['Lead Source'].value_counts(normalize=True)"
   ]
  },
  {
   "cell_type": "code",
   "execution_count": 63,
   "metadata": {
    "id": "-N2mtYpgGMuc"
   },
   "outputs": [],
   "source": [
    "#Imputing missing values in 'Lead Source' with mode.\n",
    "lead['Lead Source'].fillna('Google',inplace=True)"
   ]
  },
  {
   "cell_type": "code",
   "execution_count": 64,
   "metadata": {
    "colab": {
     "base_uri": "https://localhost:8080/"
    },
    "id": "-bspJRLrHhTX",
    "outputId": "7e78efc2-8497-4926-db22-9293e802347f"
   },
   "outputs": [
    {
     "data": {
      "text/plain": [
       "Email Opened               0.376163\n",
       "SMS Sent                   0.300427\n",
       "Olark Chat Conversation    0.106490\n",
       "Page Visited on Website    0.070045\n",
       "Converted to Lead          0.046843\n",
       "Email Bounced              0.035679\n",
       "Others                     0.035132\n",
       "Email Link Clicked         0.029222\n",
       "Name: Last Activity, dtype: float64"
      ]
     },
     "execution_count": 64,
     "metadata": {},
     "output_type": "execute_result"
    }
   ],
   "source": [
    "#Imputing categorical columns with Mode\n",
    "lead['Last Activity'].value_counts(normalize=True)"
   ]
  },
  {
   "cell_type": "code",
   "execution_count": 65,
   "metadata": {
    "id": "oQUHjomiH4p2"
   },
   "outputs": [],
   "source": [
    "#Imputing missing values in 'Last Activity' with mode.\n",
    "lead['Last Activity'].fillna('Email Opened',inplace=True)"
   ]
  },
  {
   "cell_type": "code",
   "execution_count": 66,
   "metadata": {
    "colab": {
     "base_uri": "https://localhost:8080/"
    },
    "id": "dOQOtrQLH6nJ",
    "outputId": "560f7813-11af-4487-8627-bfd73a1633f6"
   },
   "outputs": [
    {
     "data": {
      "text/plain": [
       "Unemployed              0.854962\n",
       "Working Professional    0.107786\n",
       "Student                 0.032061\n",
       "Others                  0.005191\n",
       "Name: What is your current occupation, dtype: float64"
      ]
     },
     "execution_count": 66,
     "metadata": {},
     "output_type": "execute_result"
    }
   ],
   "source": [
    "#Imputing categorical columns with Mode\n",
    "lead['What is your current occupation'].value_counts(normalize=True)"
   ]
  },
  {
   "cell_type": "code",
   "execution_count": 67,
   "metadata": {
    "id": "2BFm9ZhFIFsp"
   },
   "outputs": [],
   "source": [
    "#Replacing categorical columns with Unemployed in Current Occupation\n",
    "lead['What is your current occupation'].fillna('Unemployed', inplace = True)"
   ]
  },
  {
   "cell_type": "markdown",
   "metadata": {
    "id": "3ahyyDBOHvIv"
   },
   "source": [
    "#### **Imputing numerical columns**"
   ]
  },
  {
   "cell_type": "code",
   "execution_count": 68,
   "metadata": {
    "colab": {
     "base_uri": "https://localhost:8080/"
    },
    "id": "faIvHuYpGQ4h",
    "outputId": "5b20af60-0b1f-4f95-c6d5-931c839853ca"
   },
   "outputs": [
    {
     "data": {
      "text/plain": [
       "count    9103.000000\n",
       "mean        3.445238\n",
       "std         4.854853\n",
       "min         0.000000\n",
       "25%         1.000000\n",
       "50%         3.000000\n",
       "75%         5.000000\n",
       "max       251.000000\n",
       "Name: TotalVisits, dtype: float64"
      ]
     },
     "execution_count": 68,
     "metadata": {},
     "output_type": "execute_result"
    }
   ],
   "source": [
    "#Since TotalVisits is a numerical column, we first inspect the data.\n",
    "lead['TotalVisits'].describe()"
   ]
  },
  {
   "cell_type": "code",
   "execution_count": 69,
   "metadata": {
    "id": "gsUL46CRGlH0"
   },
   "outputs": [],
   "source": [
    "#Imputing missing values in 'TotalVisits' with mean/median which is 3.\n",
    "lead['TotalVisits'].fillna(lead['TotalVisits'].median(),inplace=True)"
   ]
  },
  {
   "cell_type": "code",
   "execution_count": 70,
   "metadata": {
    "colab": {
     "base_uri": "https://localhost:8080/"
    },
    "id": "RSNtxNYaG4TG",
    "outputId": "0b0d78b9-dd70-4f0c-c8d1-6d9f29e1c521"
   },
   "outputs": [
    {
     "data": {
      "text/plain": [
       "count    9240.000000\n",
       "mean        3.438636\n",
       "std         4.819024\n",
       "min         0.000000\n",
       "25%         1.000000\n",
       "50%         3.000000\n",
       "75%         5.000000\n",
       "max       251.000000\n",
       "Name: TotalVisits, dtype: float64"
      ]
     },
     "execution_count": 70,
     "metadata": {},
     "output_type": "execute_result"
    }
   ],
   "source": [
    "#Checking for distribution\n",
    "lead['TotalVisits'].describe()"
   ]
  },
  {
   "cell_type": "code",
   "execution_count": 71,
   "metadata": {
    "colab": {
     "base_uri": "https://localhost:8080/"
    },
    "id": "VSkS0kqCHBvD",
    "outputId": "67a70087-f38c-4be0-d330-76412746dbb9"
   },
   "outputs": [
    {
     "data": {
      "text/plain": [
       "count    9103.000000\n",
       "mean        2.362820\n",
       "std         2.161418\n",
       "min         0.000000\n",
       "25%         1.000000\n",
       "50%         2.000000\n",
       "75%         3.000000\n",
       "max        55.000000\n",
       "Name: Page Views Per Visit, dtype: float64"
      ]
     },
     "execution_count": 71,
     "metadata": {},
     "output_type": "execute_result"
    }
   ],
   "source": [
    "#Page Per Views is also a numerical column, hence we check the distribution first.\n",
    "lead['Page Views Per Visit'].describe()"
   ]
  },
  {
   "cell_type": "code",
   "execution_count": 72,
   "metadata": {
    "id": "EG_VoDaxHOCR"
   },
   "outputs": [],
   "source": [
    "#Imputing missing values with mean/median which is 2.\n",
    "lead['Page Views Per Visit'].fillna(lead['Page Views Per Visit'].median(),inplace=True)"
   ]
  },
  {
   "cell_type": "code",
   "execution_count": 73,
   "metadata": {
    "colab": {
     "base_uri": "https://localhost:8080/"
    },
    "id": "aZmxkzdBHbhG",
    "outputId": "a639c06a-82db-497d-f427-642fdcc89686"
   },
   "outputs": [
    {
     "data": {
      "text/plain": [
       "count    9240.000000\n",
       "mean        2.357440\n",
       "std         2.145781\n",
       "min         0.000000\n",
       "25%         1.000000\n",
       "50%         2.000000\n",
       "75%         3.000000\n",
       "max        55.000000\n",
       "Name: Page Views Per Visit, dtype: float64"
      ]
     },
     "execution_count": 73,
     "metadata": {},
     "output_type": "execute_result"
    }
   ],
   "source": [
    "#Page Per Views is also a numerical column, hence we check the distribution first.\n",
    "lead['Page Views Per Visit'].describe()"
   ]
  },
  {
   "cell_type": "markdown",
   "metadata": {
    "id": "IQbW5vZQIsCb"
   },
   "source": [
    "### Cross-Checking for missing values again."
   ]
  },
  {
   "cell_type": "code",
   "execution_count": 74,
   "metadata": {
    "colab": {
     "base_uri": "https://localhost:8080/"
    },
    "id": "iDtXzNNfHerD",
    "outputId": "b310da06-e5b8-4b3d-d97d-ed11123a4af4"
   },
   "outputs": [
    {
     "name": "stdout",
     "output_type": "stream",
     "text": [
      "Prospect ID                                0.00\n",
      "Lead Number                                0.00\n",
      "Lead Origin                                0.00\n",
      "Lead Source                                0.00\n",
      "Converted                                  0.00\n",
      "TotalVisits                                0.00\n",
      "Total Time Spent on Website                0.00\n",
      "Page Views Per Visit                       0.00\n",
      "Last Activity                              0.00\n",
      "Specialization                             0.00\n",
      "How did you hear about X Education        23.89\n",
      "What is your current occupation            0.00\n",
      "City                                      15.37\n",
      "A free copy of Mastering The Interview     0.00\n",
      "Last Notable Activity                      0.00\n",
      "dtype: float64\n"
     ]
    }
   ],
   "source": [
    "#Percentage of missing values in each column.\n",
    "nullseries = round(lead.isnull().sum() * 100 / len(lead),2)\n",
    "print(nullseries)"
   ]
  },
  {
   "cell_type": "code",
   "execution_count": 75,
   "metadata": {
    "colab": {
     "base_uri": "https://localhost:8080/"
    },
    "id": "BVWqDIyyI6v4",
    "outputId": "573197c1-7eeb-4744-d362-7d254ebe0ad2"
   },
   "outputs": [
    {
     "name": "stdout",
     "output_type": "stream",
     "text": [
      "0       0\n",
      "1       0\n",
      "2       0\n",
      "3       0\n",
      "4       0\n",
      "       ..\n",
      "9235    0\n",
      "9236    0\n",
      "9237    0\n",
      "9238    0\n",
      "9239    0\n",
      "Length: 9240, dtype: int64\n"
     ]
    }
   ],
   "source": [
    "#Row-wise null count\n",
    "print(lead.isnull().sum(axis=1))"
   ]
  },
  {
   "cell_type": "markdown",
   "metadata": {
    "id": "dUZkv4IY6m5M"
   },
   "source": [
    "**Duplicates check**"
   ]
  },
  {
   "cell_type": "code",
   "execution_count": 76,
   "metadata": {
    "colab": {
     "base_uri": "https://localhost:8080/",
     "height": 139
    },
    "id": "7TdBlArKJCeK",
    "outputId": "9f3b86bc-8fb9-4d99-f82a-d39d667e39b2"
   },
   "outputs": [
    {
     "data": {
      "text/html": [
       "<div>\n",
       "<style scoped>\n",
       "    .dataframe tbody tr th:only-of-type {\n",
       "        vertical-align: middle;\n",
       "    }\n",
       "\n",
       "    .dataframe tbody tr th {\n",
       "        vertical-align: top;\n",
       "    }\n",
       "\n",
       "    .dataframe thead th {\n",
       "        text-align: right;\n",
       "    }\n",
       "</style>\n",
       "<table border=\"1\" class=\"dataframe\">\n",
       "  <thead>\n",
       "    <tr style=\"text-align: right;\">\n",
       "      <th></th>\n",
       "      <th>Prospect ID</th>\n",
       "      <th>Lead Number</th>\n",
       "      <th>Lead Origin</th>\n",
       "      <th>Lead Source</th>\n",
       "      <th>Converted</th>\n",
       "      <th>TotalVisits</th>\n",
       "      <th>Total Time Spent on Website</th>\n",
       "      <th>Page Views Per Visit</th>\n",
       "      <th>Last Activity</th>\n",
       "      <th>Specialization</th>\n",
       "      <th>How did you hear about X Education</th>\n",
       "      <th>What is your current occupation</th>\n",
       "      <th>City</th>\n",
       "      <th>A free copy of Mastering The Interview</th>\n",
       "      <th>Last Notable Activity</th>\n",
       "    </tr>\n",
       "  </thead>\n",
       "  <tbody>\n",
       "  </tbody>\n",
       "</table>\n",
       "</div>"
      ],
      "text/plain": [
       "Empty DataFrame\n",
       "Columns: [Prospect ID, Lead Number, Lead Origin, Lead Source, Converted, TotalVisits, Total Time Spent on Website, Page Views Per Visit, Last Activity, Specialization, How did you hear about X Education, What is your current occupation, City, A free copy of Mastering The Interview, Last Notable Activity]\n",
       "Index: []"
      ]
     },
     "execution_count": 76,
     "metadata": {},
     "output_type": "execute_result"
    }
   ],
   "source": [
    "#Checking for any duplicates in the data.\n",
    "lead.loc[lead.duplicated()]"
   ]
  },
  {
   "cell_type": "markdown",
   "metadata": {
    "id": "KoHy3tjOKE8t"
   },
   "source": [
    "## EDA (Exploratory Data Analysis)"
   ]
  },
  {
   "cell_type": "code",
   "execution_count": 77,
   "metadata": {
    "colab": {
     "base_uri": "https://localhost:8080/"
    },
    "id": "gHTslbI4ZfHI",
    "outputId": "2c853a54-9ccf-44fe-d503-d1e5f331df58"
   },
   "outputs": [
    {
     "data": {
      "text/plain": [
       "Prospect ID                                object\n",
       "Lead Number                                 int64\n",
       "Lead Origin                                object\n",
       "Lead Source                                object\n",
       "Converted                                   int64\n",
       "TotalVisits                               float64\n",
       "Total Time Spent on Website                 int64\n",
       "Page Views Per Visit                      float64\n",
       "Last Activity                              object\n",
       "Specialization                             object\n",
       "How did you hear about X Education         object\n",
       "What is your current occupation            object\n",
       "City                                       object\n",
       "A free copy of Mastering The Interview     object\n",
       "Last Notable Activity                      object\n",
       "dtype: object"
      ]
     },
     "execution_count": 77,
     "metadata": {},
     "output_type": "execute_result"
    }
   ],
   "source": [
    "#Displaying the data types on different columns\n",
    "lead.dtypes"
   ]
  },
  {
   "cell_type": "markdown",
   "metadata": {
    "id": "gNODVS5HdkZD"
   },
   "source": [
    "**EDA - Numerical Values**"
   ]
  },
  {
   "cell_type": "code",
   "execution_count": 78,
   "metadata": {
    "colab": {
     "base_uri": "https://localhost:8080/",
     "height": 283
    },
    "id": "dMma9vn-ZcbQ",
    "outputId": "443bbac4-6fe7-4306-8435-5befe6f1e65a"
   },
   "outputs": [
    {
     "data": {
      "image/png": "[encoded data removed]",
      "text/plain": [
       "<Figure size 3000x1500 with 3 Axes>"
      ]
     },
     "metadata": {},
     "output_type": "display_data"
    }
   ],
   "source": [
    "Required_columns= ['TotalVisits','Total Time Spent on Website','Page Views Per Visit']\n",
    "sns.set_palette(\"rocket\")\n",
    "plt.figure(figsize = (30, 15))\n",
    "\n",
    "for col in enumerate(Required_columns):\n",
    "    plt.subplot(4, 2, col[0]+1)\n",
    "    plt.title(col[1])\n",
    "    sns.distplot(lead[col[1]], hist =False)\n",
    "    plt.tight_layout()\n",
    "    plt.xticks(rotation = 90)"
   ]
  },
  {
   "cell_type": "markdown",
   "metadata": {
    "id": "TF1mpHwLaZOh"
   },
   "source": [
    "**Observation :**\n",
    "\n",
    "**Uni-variate Analysis - Numerical values:**\n",
    "\n",
    "- The max probability for TotalVisits is found to be around 15-20. It increases initially but decreases further.\n",
    "- The max probability for PageViewsPerVisit is found to be around to be 3-5\n",
    "- The probability of time spent is found to be high for time between 0-300 seconds and decreases further."
   ]
  },
  {
   "cell_type": "code",
   "execution_count": 79,
   "metadata": {
    "colab": {
     "base_uri": "https://localhost:8080/",
     "height": 283
    },
    "id": "GLOkg80dbv9W",
    "outputId": "a56c1985-fd33-4a39-8f8d-f97088486ee2"
   },
   "outputs": [
    {
     "data": {
      "image/png": "[encoded data removed]",
      "text/plain": [
       "<Figure size 3000x1500 with 3 Axes>"
      ]
     },
     "metadata": {},
     "output_type": "display_data"
    }
   ],
   "source": [
    "Required_columns= ['TotalVisits','Total Time Spent on Website','Page Views Per Visit']\n",
    "sns.set_palette(\"rainbow\")\n",
    "plt.figure(figsize = (30, 15))\n",
    "\n",
    "for col in enumerate(Required_columns):\n",
    "    plt.subplot(4, 2, col[0]+1)\n",
    "    plt.title(col[1])\n",
    "    ax = sns.boxplot(x='Converted', y=col[1], data = lead)\n",
    "    ax.set_yscale('log')\n",
    "    plt.tight_layout()\n",
    "    plt.xticks(rotation = 90)"
   ]
  },
  {
   "cell_type": "markdown",
   "metadata": {
    "id": "31Ab4nAtcdE2"
   },
   "source": [
    "**Observation :**\n",
    "\n",
    "**Bi-variate Analysis - Numerical values:**\n",
    "\n",
    "- The mean is found to be higher in case of Converted people rather than non-converted people.\n",
    "\n",
    "- The average page views for both converted and non converted is found to be the same.\n",
    "\n",
    "- The average total visits for both converted and non converted people is found to be the same."
   ]
  },
  {
   "cell_type": "markdown",
   "metadata": {
    "id": "G_LFFJcWdqjt"
   },
   "source": [
    "**EDA - Categorical values**"
   ]
  },
  {
   "cell_type": "code",
   "execution_count": 80,
   "metadata": {
    "id": "TVlySQbldp8s"
   },
   "outputs": [],
   "source": [
    "#Copying from the lead dataframe for easier eda\n",
    "leadCopy = lead.copy()"
   ]
  },
  {
   "cell_type": "code",
   "execution_count": 81,
   "metadata": {
    "colab": {
     "base_uri": "https://localhost:8080/",
     "height": 538
    },
    "id": "uINeFF1Td8Hh",
    "outputId": "12011be3-6d6f-4500-ef33-0179be236c44"
   },
   "outputs": [
    {
     "data": {
      "text/html": [
       "<div>\n",
       "<style scoped>\n",
       "    .dataframe tbody tr th:only-of-type {\n",
       "        vertical-align: middle;\n",
       "    }\n",
       "\n",
       "    .dataframe tbody tr th {\n",
       "        vertical-align: top;\n",
       "    }\n",
       "\n",
       "    .dataframe thead th {\n",
       "        text-align: right;\n",
       "    }\n",
       "</style>\n",
       "<table border=\"1\" class=\"dataframe\">\n",
       "  <thead>\n",
       "    <tr style=\"text-align: right;\">\n",
       "      <th></th>\n",
       "      <th>Prospect ID</th>\n",
       "      <th>Lead Number</th>\n",
       "      <th>Lead Origin</th>\n",
       "      <th>Lead Source</th>\n",
       "      <th>Converted</th>\n",
       "      <th>TotalVisits</th>\n",
       "      <th>Total Time Spent on Website</th>\n",
       "      <th>Page Views Per Visit</th>\n",
       "      <th>Last Activity</th>\n",
       "      <th>Specialization</th>\n",
       "      <th>How did you hear about X Education</th>\n",
       "      <th>What is your current occupation</th>\n",
       "      <th>City</th>\n",
       "      <th>A free copy of Mastering The Interview</th>\n",
       "      <th>Last Notable Activity</th>\n",
       "    </tr>\n",
       "  </thead>\n",
       "  <tbody>\n",
       "    <tr>\n",
       "      <th>0</th>\n",
       "      <td>7927b2df-8bba-4d29-b9a2-b6e0beafe620</td>\n",
       "      <td>660737</td>\n",
       "      <td>API</td>\n",
       "      <td>Olark Chat</td>\n",
       "      <td>0</td>\n",
       "      <td>0.0</td>\n",
       "      <td>0</td>\n",
       "      <td>0.0</td>\n",
       "      <td>Page Visited on Website</td>\n",
       "      <td>Select</td>\n",
       "      <td>Select</td>\n",
       "      <td>Unemployed</td>\n",
       "      <td>Select</td>\n",
       "      <td>No</td>\n",
       "      <td>Modified</td>\n",
       "    </tr>\n",
       "    <tr>\n",
       "      <th>1</th>\n",
       "      <td>2a272436-5132-4136-86fa-dcc88c88f482</td>\n",
       "      <td>660728</td>\n",
       "      <td>API</td>\n",
       "      <td>Organic Search</td>\n",
       "      <td>0</td>\n",
       "      <td>5.0</td>\n",
       "      <td>674</td>\n",
       "      <td>2.5</td>\n",
       "      <td>Email Opened</td>\n",
       "      <td>Select</td>\n",
       "      <td>Select</td>\n",
       "      <td>Unemployed</td>\n",
       "      <td>Select</td>\n",
       "      <td>No</td>\n",
       "      <td>Email Opened</td>\n",
       "    </tr>\n",
       "    <tr>\n",
       "      <th>2</th>\n",
       "      <td>8cc8c611-a219-4f35-ad23-fdfd2656bd8a</td>\n",
       "      <td>660727</td>\n",
       "      <td>Landing Page Submission</td>\n",
       "      <td>Direct Traffic</td>\n",
       "      <td>1</td>\n",
       "      <td>2.0</td>\n",
       "      <td>1532</td>\n",
       "      <td>2.0</td>\n",
       "      <td>Email Opened</td>\n",
       "      <td>Business Administration</td>\n",
       "      <td>Select</td>\n",
       "      <td>Student</td>\n",
       "      <td>Mumbai</td>\n",
       "      <td>Yes</td>\n",
       "      <td>Email Opened</td>\n",
       "    </tr>\n",
       "    <tr>\n",
       "      <th>3</th>\n",
       "      <td>0cc2df48-7cf4-4e39-9de9-19797f9b38cc</td>\n",
       "      <td>660719</td>\n",
       "      <td>Landing Page Submission</td>\n",
       "      <td>Direct Traffic</td>\n",
       "      <td>0</td>\n",
       "      <td>1.0</td>\n",
       "      <td>305</td>\n",
       "      <td>1.0</td>\n",
       "      <td>Others</td>\n",
       "      <td>Media and Advertising</td>\n",
       "      <td>Word Of Mouth</td>\n",
       "      <td>Unemployed</td>\n",
       "      <td>Mumbai</td>\n",
       "      <td>No</td>\n",
       "      <td>Modified</td>\n",
       "    </tr>\n",
       "    <tr>\n",
       "      <th>4</th>\n",
       "      <td>3256f628-e534-4826-9d63-4a8b88782852</td>\n",
       "      <td>660681</td>\n",
       "      <td>Landing Page Submission</td>\n",
       "      <td>Google</td>\n",
       "      <td>1</td>\n",
       "      <td>2.0</td>\n",
       "      <td>1428</td>\n",
       "      <td>1.0</td>\n",
       "      <td>Converted to Lead</td>\n",
       "      <td>Select</td>\n",
       "      <td>Other</td>\n",
       "      <td>Unemployed</td>\n",
       "      <td>Mumbai</td>\n",
       "      <td>No</td>\n",
       "      <td>Modified</td>\n",
       "    </tr>\n",
       "  </tbody>\n",
       "</table>\n",
       "</div>"
      ],
      "text/plain": [
       "                            Prospect ID  Lead Number              Lead Origin  \\\n",
       "0  7927b2df-8bba-4d29-b9a2-b6e0beafe620       660737                      API   \n",
       "1  2a272436-5132-4136-86fa-dcc88c88f482       660728                      API   \n",
       "2  8cc8c611-a219-4f35-ad23-fdfd2656bd8a       660727  Landing Page Submission   \n",
       "3  0cc2df48-7cf4-4e39-9de9-19797f9b38cc       660719  Landing Page Submission   \n",
       "4  3256f628-e534-4826-9d63-4a8b88782852       660681  Landing Page Submission   \n",
       "\n",
       "      Lead Source  Converted  TotalVisits  Total Time Spent on Website  \\\n",
       "0      Olark Chat          0          0.0                            0   \n",
       "1  Organic Search          0          5.0                          674   \n",
       "2  Direct Traffic          1          2.0                         1532   \n",
       "3  Direct Traffic          0          1.0                          305   \n",
       "4          Google          1          2.0                         1428   \n",
       "\n",
       "   Page Views Per Visit            Last Activity           Specialization  \\\n",
       "0                   0.0  Page Visited on Website                   Select   \n",
       "1                   2.5             Email Opened                   Select   \n",
       "2                   2.0             Email Opened  Business Administration   \n",
       "3                   1.0                   Others    Media and Advertising   \n",
       "4                   1.0        Converted to Lead                   Select   \n",
       "\n",
       "  How did you hear about X Education What is your current occupation    City  \\\n",
       "0                             Select                      Unemployed  Select   \n",
       "1                             Select                      Unemployed  Select   \n",
       "2                             Select                         Student  Mumbai   \n",
       "3                      Word Of Mouth                      Unemployed  Mumbai   \n",
       "4                              Other                      Unemployed  Mumbai   \n",
       "\n",
       "  A free copy of Mastering The Interview Last Notable Activity  \n",
       "0                                     No              Modified  \n",
       "1                                     No          Email Opened  \n",
       "2                                    Yes          Email Opened  \n",
       "3                                     No              Modified  \n",
       "4                                     No              Modified  "
      ]
     },
     "execution_count": 81,
     "metadata": {},
     "output_type": "execute_result"
    }
   ],
   "source": [
    "#Displaying the dataframe\n",
    "leadCopy.head()"
   ]
  },
  {
   "cell_type": "code",
   "execution_count": 82,
   "metadata": {
    "id": "wdj8RXbkd4Qn"
   },
   "outputs": [],
   "source": [
    "leadCopy['Category'] = leadCopy.Converted.astype('category')"
   ]
  },
  {
   "cell_type": "code",
   "execution_count": 83,
   "metadata": {
    "colab": {
     "base_uri": "https://localhost:8080/",
     "height": 1000
    },
    "id": "Qtq574mkefFX",
    "outputId": "d76c1c58-e0ed-4609-fb15-60eac1515ced"
   },
   "outputs": [
    {
     "data": {
      "image/png": "[encoded data removed]",
      "text/plain": [
       "<Figure size 1500x1500 with 6 Axes>"
      ]
     },
     "metadata": {},
     "output_type": "display_data"
    }
   ],
   "source": [
    "Required_columns= ['Lead Origin','Lead Source', 'Last Activity', 'Specialization', 'What is your current occupation', 'A free copy of Mastering The Interview']\n",
    "sns.set_palette(\"bright\")\n",
    "\n",
    "plt.figure(figsize = (15, 15))\n",
    "\n",
    "for col in enumerate(Required_columns):\n",
    "    plt.subplot(3, 2, col[0]+1)\n",
    "    plt.title(col[1])\n",
    "    ax = sns.countplot(data = leadCopy, x=col[1], hue='Converted')\n",
    "    plt.xticks(rotation = 90)\n",
    "    plt.tight_layout()"
   ]
  },
  {
   "cell_type": "markdown",
   "metadata": {
    "id": "BGXmuEcCfvF3"
   },
   "source": [
    "**Univariate analysis for Categorical data**\n",
    "\n",
    "- The percentage of Converted people is found to be greater for Landing Page Submission. We can also see that if Lead source is Add Form, the ratio of lead conversion is very high(almost not converted is very less).\n",
    "\n",
    "- Google is found to be the important source for Lead Conversion\n",
    "\n",
    "- We need to target people via Emails and SMS as it is found that the probability of response in case Converted leads is found to be higher.\n",
    "\n",
    "- We cannot infer much about conversion rate from specialisation as people who do not select any specialisation can also be converted to a lead.But the ratio of non converted leads is higher than converted ones if they didn't choose specialisation.\n",
    "\n",
    "- It is clearly visible from the graph that we need to target the Unemployed and Working Professional to get a higher conversion rate. The ratio of conversion rate is higher than not converted people for working professionals.\n",
    "\n",
    "- People usually do not subscribe for a free copy of mastering the interview."
   ]
  },
  {
   "cell_type": "markdown",
   "metadata": {
    "id": "uVP5oOEcJ5bw"
   },
   "source": [
    "## Outliers Handling"
   ]
  },
  {
   "cell_type": "code",
   "execution_count": 84,
   "metadata": {
    "colab": {
     "base_uri": "https://localhost:8080/"
    },
    "id": "eaZPNKSjKDCJ",
    "outputId": "300905da-e21b-4001-fff0-4f0bc47fee64"
   },
   "outputs": [
    {
     "data": {
      "text/plain": [
       "Prospect ID                                object\n",
       "Lead Number                                 int64\n",
       "Lead Origin                                object\n",
       "Lead Source                                object\n",
       "Converted                                   int64\n",
       "TotalVisits                               float64\n",
       "Total Time Spent on Website                 int64\n",
       "Page Views Per Visit                      float64\n",
       "Last Activity                              object\n",
       "Specialization                             object\n",
       "How did you hear about X Education         object\n",
       "What is your current occupation            object\n",
       "City                                       object\n",
       "A free copy of Mastering The Interview     object\n",
       "Last Notable Activity                      object\n",
       "dtype: object"
      ]
     },
     "execution_count": 84,
     "metadata": {},
     "output_type": "execute_result"
    }
   ],
   "source": [
    "#Inspectig the data types of all columns\n",
    "lead.dtypes"
   ]
  },
  {
   "cell_type": "code",
   "execution_count": 85,
   "metadata": {
    "colab": {
     "base_uri": "https://localhost:8080/",
     "height": 1000
    },
    "id": "sMVATmnlKQ9L",
    "outputId": "8b17cee1-a48d-4805-bcb5-de0ab1aaf09d"
   },
   "outputs": [
    {
     "data": {
      "image/png": "[encoded data removed]",
      "text/plain": [
       "<Figure size 1100x1100 with 4 Axes>"
      ]
     },
     "metadata": {},
     "output_type": "display_data"
    }
   ],
   "source": [
    "#There are 4 numerical columns - Converted , TotalVisits, Total Time Spent on Website, 'Page Views Per Visit\n",
    "#Plotting them to check for outliers.\n",
    "\n",
    "numerical_columns=['Converted','TotalVisits','Total Time Spent on Website','Page Views Per Visit']\n",
    "\n",
    "plt.figure(figsize = (11, 11))\n",
    "sns.set_palette('bright')\n",
    "for col in enumerate(numerical_columns):\n",
    "    plt.subplot(2,2, col[0]+1)\n",
    "    sns.boxplot(x = col[1], data = lead)\n",
    "    plt.xticks(rotation = 90)\n",
    "    plt.tight_layout()"
   ]
  },
  {
   "cell_type": "code",
   "execution_count": 86,
   "metadata": {
    "colab": {
     "base_uri": "https://localhost:8080/"
    },
    "id": "Lx_xoTE4Kw9h",
    "outputId": "7d709c2f-2948-4aef-b1da-f6235ef1338d"
   },
   "outputs": [
    {
     "data": {
      "text/plain": [
       "count    9240.000000\n",
       "mean        3.438636\n",
       "std         4.819024\n",
       "min         0.000000\n",
       "25%         1.000000\n",
       "50%         3.000000\n",
       "75%         5.000000\n",
       "max       251.000000\n",
       "Name: TotalVisits, dtype: float64"
      ]
     },
     "execution_count": 86,
     "metadata": {},
     "output_type": "execute_result"
    }
   ],
   "source": [
    "#TotalVisits and Page Views Per Visit have outliers\n",
    "lead['TotalVisits'].describe()"
   ]
  },
  {
   "cell_type": "code",
   "execution_count": 87,
   "metadata": {
    "colab": {
     "base_uri": "https://localhost:8080/"
    },
    "id": "3dFN7kdFKy17",
    "outputId": "c9ff0c7d-1fa8-479f-df87-9881c341d3cc"
   },
   "outputs": [
    {
     "data": {
      "text/plain": [
       "234.0"
      ]
     },
     "execution_count": 87,
     "metadata": {},
     "output_type": "execute_result"
    }
   ],
   "source": [
    "#diff1 will provide the difference between outliers and 99th percentile.\n",
    "#If the value is too big, we can conclude that there are outliers.\n",
    "diff1 = lead.TotalVisits.max() - lead.TotalVisits.quantile(0.99)\n",
    "diff1"
   ]
  },
  {
   "cell_type": "code",
   "execution_count": 88,
   "metadata": {
    "colab": {
     "base_uri": "https://localhost:8080/"
    },
    "id": "C0u_XmkTK1Ll",
    "outputId": "b6b124b2-ce11-4302-9203-369da9909efb"
   },
   "outputs": [
    {
     "data": {
      "text/plain": [
       "count    9240.000000\n",
       "mean        2.357440\n",
       "std         2.145781\n",
       "min         0.000000\n",
       "25%         1.000000\n",
       "50%         2.000000\n",
       "75%         3.000000\n",
       "max        55.000000\n",
       "Name: Page Views Per Visit, dtype: float64"
      ]
     },
     "execution_count": 88,
     "metadata": {},
     "output_type": "execute_result"
    }
   ],
   "source": [
    "lead['Page Views Per Visit'].describe()"
   ]
  },
  {
   "cell_type": "code",
   "execution_count": 89,
   "metadata": {
    "colab": {
     "base_uri": "https://localhost:8080/"
    },
    "id": "k63hz7TAK2qC",
    "outputId": "36e32f18-cfb0-4c27-f666-5b3bed80a550"
   },
   "outputs": [
    {
     "data": {
      "text/plain": [
       "46.0"
      ]
     },
     "execution_count": 89,
     "metadata": {},
     "output_type": "execute_result"
    }
   ],
   "source": [
    "#diff2 will provide the difference between outliers and 99th percentile.\n",
    "#If the value is too big, we can conclude that there are outliers.\n",
    "diff2 = lead['Page Views Per Visit'].max() - lead['Page Views Per Visit'].quantile(0.99)\n",
    "diff2"
   ]
  },
  {
   "cell_type": "code",
   "execution_count": 90,
   "metadata": {
    "id": "mZQf0ox3K9AZ"
   },
   "outputs": [],
   "source": [
    "req_cols=['TotalVisits','Page Views Per Visit']\n",
    "for col in req_cols:\n",
    "    percentiles = lead[col].quantile(0.99)  ## capping higher range outliers\n",
    "    lead[col][lead[col] >= percentiles] = percentiles"
   ]
  },
  {
   "cell_type": "code",
   "execution_count": 91,
   "metadata": {
    "colab": {
     "base_uri": "https://localhost:8080/",
     "height": 1000
    },
    "id": "ykugXeaQLUne",
    "outputId": "4bb32cef-bac0-4235-b09f-3fb7e05bc48a"
   },
   "outputs": [
    {
     "data": {
      "image/png": "[encoded data removed]",
      "text/plain": [
       "<Figure size 2000x2000 with 4 Axes>"
      ]
     },
     "metadata": {},
     "output_type": "display_data"
    }
   ],
   "source": [
    "#Plotting the columns again to visualize after capping\n",
    "numerical_columns=['Converted','TotalVisits','Total Time Spent on Website','Page Views Per Visit']\n",
    "\n",
    "plt.figure(figsize = (20, 20))\n",
    "sns.set_palette('rainbow')\n",
    "for col in enumerate(numerical_columns):\n",
    "    plt.subplot(2,2, col[0]+1)\n",
    "    sns.boxplot(x = col[1], data = lead)\n",
    "    plt.xticks(rotation = 90)\n",
    "    plt.tight_layout()"
   ]
  },
  {
   "cell_type": "markdown",
   "metadata": {
    "id": "2Q2f-TOKLltX"
   },
   "source": [
    "## Data Preparation"
   ]
  },
  {
   "cell_type": "markdown",
   "metadata": {
    "id": "4FrjyG6wMUJX"
   },
   "source": [
    "**Converting Binary Variables**\n",
    "- Any kind of Data Preparation while performing Model Building involves converting Yes/No columns to binary values."
   ]
  },
  {
   "cell_type": "code",
   "execution_count": 92,
   "metadata": {
    "id": "WbitHCDxLbRS"
   },
   "outputs": [],
   "source": [
    "varlist =['A free copy of Mastering The Interview']\n",
    "def binary_map(x):\n",
    "  return x.map({'Yes' : 1, \"No\": 0})\n",
    "\n",
    "lead[varlist] = lead[varlist].apply(binary_map)"
   ]
  },
  {
   "cell_type": "code",
   "execution_count": 93,
   "metadata": {
    "colab": {
     "base_uri": "https://localhost:8080/",
     "height": 538
    },
    "id": "IQLcsh9_Mci7",
    "outputId": "7c73f3f7-0821-45c5-8ced-0d929a1e6084"
   },
   "outputs": [
    {
     "data": {
      "text/html": [
       "<div>\n",
       "<style scoped>\n",
       "    .dataframe tbody tr th:only-of-type {\n",
       "        vertical-align: middle;\n",
       "    }\n",
       "\n",
       "    .dataframe tbody tr th {\n",
       "        vertical-align: top;\n",
       "    }\n",
       "\n",
       "    .dataframe thead th {\n",
       "        text-align: right;\n",
       "    }\n",
       "</style>\n",
       "<table border=\"1\" class=\"dataframe\">\n",
       "  <thead>\n",
       "    <tr style=\"text-align: right;\">\n",
       "      <th></th>\n",
       "      <th>Prospect ID</th>\n",
       "      <th>Lead Number</th>\n",
       "      <th>Lead Origin</th>\n",
       "      <th>Lead Source</th>\n",
       "      <th>Converted</th>\n",
       "      <th>TotalVisits</th>\n",
       "      <th>Total Time Spent on Website</th>\n",
       "      <th>Page Views Per Visit</th>\n",
       "      <th>Last Activity</th>\n",
       "      <th>Specialization</th>\n",
       "      <th>How did you hear about X Education</th>\n",
       "      <th>What is your current occupation</th>\n",
       "      <th>City</th>\n",
       "      <th>A free copy of Mastering The Interview</th>\n",
       "      <th>Last Notable Activity</th>\n",
       "    </tr>\n",
       "  </thead>\n",
       "  <tbody>\n",
       "    <tr>\n",
       "      <th>0</th>\n",
       "      <td>7927b2df-8bba-4d29-b9a2-b6e0beafe620</td>\n",
       "      <td>660737</td>\n",
       "      <td>API</td>\n",
       "      <td>Olark Chat</td>\n",
       "      <td>0</td>\n",
       "      <td>0.0</td>\n",
       "      <td>0</td>\n",
       "      <td>0.0</td>\n",
       "      <td>Page Visited on Website</td>\n",
       "      <td>Select</td>\n",
       "      <td>Select</td>\n",
       "      <td>Unemployed</td>\n",
       "      <td>Select</td>\n",
       "      <td>0</td>\n",
       "      <td>Modified</td>\n",
       "    </tr>\n",
       "    <tr>\n",
       "      <th>1</th>\n",
       "      <td>2a272436-5132-4136-86fa-dcc88c88f482</td>\n",
       "      <td>660728</td>\n",
       "      <td>API</td>\n",
       "      <td>Organic Search</td>\n",
       "      <td>0</td>\n",
       "      <td>5.0</td>\n",
       "      <td>674</td>\n",
       "      <td>2.5</td>\n",
       "      <td>Email Opened</td>\n",
       "      <td>Select</td>\n",
       "      <td>Select</td>\n",
       "      <td>Unemployed</td>\n",
       "      <td>Select</td>\n",
       "      <td>0</td>\n",
       "      <td>Email Opened</td>\n",
       "    </tr>\n",
       "    <tr>\n",
       "      <th>2</th>\n",
       "      <td>8cc8c611-a219-4f35-ad23-fdfd2656bd8a</td>\n",
       "      <td>660727</td>\n",
       "      <td>Landing Page Submission</td>\n",
       "      <td>Direct Traffic</td>\n",
       "      <td>1</td>\n",
       "      <td>2.0</td>\n",
       "      <td>1532</td>\n",
       "      <td>2.0</td>\n",
       "      <td>Email Opened</td>\n",
       "      <td>Business Administration</td>\n",
       "      <td>Select</td>\n",
       "      <td>Student</td>\n",
       "      <td>Mumbai</td>\n",
       "      <td>1</td>\n",
       "      <td>Email Opened</td>\n",
       "    </tr>\n",
       "    <tr>\n",
       "      <th>3</th>\n",
       "      <td>0cc2df48-7cf4-4e39-9de9-19797f9b38cc</td>\n",
       "      <td>660719</td>\n",
       "      <td>Landing Page Submission</td>\n",
       "      <td>Direct Traffic</td>\n",
       "      <td>0</td>\n",
       "      <td>1.0</td>\n",
       "      <td>305</td>\n",
       "      <td>1.0</td>\n",
       "      <td>Others</td>\n",
       "      <td>Media and Advertising</td>\n",
       "      <td>Word Of Mouth</td>\n",
       "      <td>Unemployed</td>\n",
       "      <td>Mumbai</td>\n",
       "      <td>0</td>\n",
       "      <td>Modified</td>\n",
       "    </tr>\n",
       "    <tr>\n",
       "      <th>4</th>\n",
       "      <td>3256f628-e534-4826-9d63-4a8b88782852</td>\n",
       "      <td>660681</td>\n",
       "      <td>Landing Page Submission</td>\n",
       "      <td>Google</td>\n",
       "      <td>1</td>\n",
       "      <td>2.0</td>\n",
       "      <td>1428</td>\n",
       "      <td>1.0</td>\n",
       "      <td>Converted to Lead</td>\n",
       "      <td>Select</td>\n",
       "      <td>Other</td>\n",
       "      <td>Unemployed</td>\n",
       "      <td>Mumbai</td>\n",
       "      <td>0</td>\n",
       "      <td>Modified</td>\n",
       "    </tr>\n",
       "  </tbody>\n",
       "</table>\n",
       "</div>"
      ],
      "text/plain": [
       "                            Prospect ID  Lead Number              Lead Origin  \\\n",
       "0  7927b2df-8bba-4d29-b9a2-b6e0beafe620       660737                      API   \n",
       "1  2a272436-5132-4136-86fa-dcc88c88f482       660728                      API   \n",
       "2  8cc8c611-a219-4f35-ad23-fdfd2656bd8a       660727  Landing Page Submission   \n",
       "3  0cc2df48-7cf4-4e39-9de9-19797f9b38cc       660719  Landing Page Submission   \n",
       "4  3256f628-e534-4826-9d63-4a8b88782852       660681  Landing Page Submission   \n",
       "\n",
       "      Lead Source  Converted  TotalVisits  Total Time Spent on Website  \\\n",
       "0      Olark Chat          0          0.0                            0   \n",
       "1  Organic Search          0          5.0                          674   \n",
       "2  Direct Traffic          1          2.0                         1532   \n",
       "3  Direct Traffic          0          1.0                          305   \n",
       "4          Google          1          2.0                         1428   \n",
       "\n",
       "   Page Views Per Visit            Last Activity           Specialization  \\\n",
       "0                   0.0  Page Visited on Website                   Select   \n",
       "1                   2.5             Email Opened                   Select   \n",
       "2                   2.0             Email Opened  Business Administration   \n",
       "3                   1.0                   Others    Media and Advertising   \n",
       "4                   1.0        Converted to Lead                   Select   \n",
       "\n",
       "  How did you hear about X Education What is your current occupation    City  \\\n",
       "0                             Select                      Unemployed  Select   \n",
       "1                             Select                      Unemployed  Select   \n",
       "2                             Select                         Student  Mumbai   \n",
       "3                      Word Of Mouth                      Unemployed  Mumbai   \n",
       "4                              Other                      Unemployed  Mumbai   \n",
       "\n",
       "   A free copy of Mastering The Interview Last Notable Activity  \n",
       "0                                       0              Modified  \n",
       "1                                       0          Email Opened  \n",
       "2                                       1          Email Opened  \n",
       "3                                       0              Modified  \n",
       "4                                       0              Modified  "
      ]
     },
     "execution_count": 93,
     "metadata": {},
     "output_type": "execute_result"
    }
   ],
   "source": [
    "#Inspecting the data for the same.\n",
    "lead.head()"
   ]
  },
  {
   "cell_type": "code",
   "execution_count": 94,
   "metadata": {
    "colab": {
     "base_uri": "https://localhost:8080/"
    },
    "id": "_OlcmPtzMuPm",
    "outputId": "0f364e3d-eb2d-4c12-86fb-24251aadd758"
   },
   "outputs": [
    {
     "data": {
      "text/plain": [
       "Index(['Prospect ID', 'Lead Number', 'Lead Origin', 'Lead Source', 'Converted',\n",
       "       'TotalVisits', 'Total Time Spent on Website', 'Page Views Per Visit',\n",
       "       'Last Activity', 'Specialization', 'How did you hear about X Education',\n",
       "       'What is your current occupation', 'City',\n",
       "       'A free copy of Mastering The Interview', 'Last Notable Activity'],\n",
       "      dtype='object')"
      ]
     },
     "execution_count": 94,
     "metadata": {},
     "output_type": "execute_result"
    }
   ],
   "source": [
    "#Checking for all columns\n",
    "lead.columns"
   ]
  },
  {
   "cell_type": "code",
   "execution_count": 95,
   "metadata": {
    "id": "Ovpi0sweNEKp"
   },
   "outputs": [],
   "source": [
    "#Rename the columns\n",
    "lead.rename(columns={'Total Time Spent on Website' : 'Time Spent', 'What is your current occupation':'Current Occupation', 'A free copy of Mastering The Interview':'Free Copy'}, inplace=True )"
   ]
  },
  {
   "cell_type": "code",
   "execution_count": 96,
   "metadata": {
    "colab": {
     "base_uri": "https://localhost:8080/"
    },
    "id": "AH6_YVYIOCfd",
    "outputId": "422c4c1b-032d-4a35-f79e-2ab9a4ae7c87"
   },
   "outputs": [
    {
     "data": {
      "text/plain": [
       "Index(['Prospect ID', 'Lead Number', 'Lead Origin', 'Lead Source', 'Converted',\n",
       "       'TotalVisits', 'Time Spent', 'Page Views Per Visit', 'Last Activity',\n",
       "       'Specialization', 'How did you hear about X Education',\n",
       "       'Current Occupation', 'City', 'Free Copy', 'Last Notable Activity'],\n",
       "      dtype='object')"
      ]
     },
     "execution_count": 96,
     "metadata": {},
     "output_type": "execute_result"
    }
   ],
   "source": [
    "#Check if it has correctly been renamed\n",
    "lead.columns"
   ]
  },
  {
   "cell_type": "markdown",
   "metadata": {
    "id": "5jlkikIyMkr9"
   },
   "source": [
    "**Create Dummies for Categorical columns**"
   ]
  },
  {
   "cell_type": "code",
   "execution_count": 97,
   "metadata": {
    "colab": {
     "base_uri": "https://localhost:8080/"
    },
    "id": "fNNDCQeXOSw2",
    "outputId": "702443a6-838a-4fb8-c1e7-e9e8ed9dee8d"
   },
   "outputs": [
    {
     "data": {
      "text/plain": [
       "Prospect ID                            object\n",
       "Lead Number                             int64\n",
       "Lead Origin                            object\n",
       "Lead Source                            object\n",
       "Converted                               int64\n",
       "TotalVisits                           float64\n",
       "Time Spent                              int64\n",
       "Page Views Per Visit                  float64\n",
       "Last Activity                          object\n",
       "Specialization                         object\n",
       "How did you hear about X Education     object\n",
       "Current Occupation                     object\n",
       "City                                   object\n",
       "Free Copy                               int64\n",
       "Last Notable Activity                  object\n",
       "dtype: object"
      ]
     },
     "execution_count": 97,
     "metadata": {},
     "output_type": "execute_result"
    }
   ],
   "source": [
    "#Checking for categorical columns in the dataframe.\n",
    "lead.dtypes"
   ]
  },
  {
   "cell_type": "code",
   "execution_count": 98,
   "metadata": {
    "id": "1Zi_U16pMowt"
   },
   "outputs": [],
   "source": [
    "#Creating a dummy variable for some of the categorical variables and dropping the first one.\n",
    "dummy1 = pd.get_dummies(lead[['Lead Origin','Lead Source','Last Activity','Specialization','Current Occupation']], drop_first=True)"
   ]
  },
  {
   "cell_type": "code",
   "execution_count": 99,
   "metadata": {
    "id": "LHHZKwTY6m5n"
   },
   "outputs": [],
   "source": [
    "#Adding the results to the master dataframe\n",
    "lead = pd.concat([lead, dummy1], axis=1)"
   ]
  },
  {
   "cell_type": "code",
   "execution_count": 100,
   "metadata": {
    "colab": {
     "base_uri": "https://localhost:8080/",
     "height": 550
    },
    "id": "kLkYu0sdOsr9",
    "outputId": "287b350c-0ac9-4974-cb7a-24808757e6f9"
   },
   "outputs": [
    {
     "data": {
      "text/html": [
       "<div>\n",
       "<style scoped>\n",
       "    .dataframe tbody tr th:only-of-type {\n",
       "        vertical-align: middle;\n",
       "    }\n",
       "\n",
       "    .dataframe tbody tr th {\n",
       "        vertical-align: top;\n",
       "    }\n",
       "\n",
       "    .dataframe thead th {\n",
       "        text-align: right;\n",
       "    }\n",
       "</style>\n",
       "<table border=\"1\" class=\"dataframe\">\n",
       "  <thead>\n",
       "    <tr style=\"text-align: right;\">\n",
       "      <th></th>\n",
       "      <th>Prospect ID</th>\n",
       "      <th>Lead Number</th>\n",
       "      <th>Lead Origin</th>\n",
       "      <th>Lead Source</th>\n",
       "      <th>Converted</th>\n",
       "      <th>TotalVisits</th>\n",
       "      <th>Time Spent</th>\n",
       "      <th>Page Views Per Visit</th>\n",
       "      <th>Last Activity</th>\n",
       "      <th>Specialization</th>\n",
       "      <th>...</th>\n",
       "      <th>Specialization_Media and Advertising</th>\n",
       "      <th>Specialization_Not Specified</th>\n",
       "      <th>Specialization_Operations Management</th>\n",
       "      <th>Specialization_Others</th>\n",
       "      <th>Specialization_Select</th>\n",
       "      <th>Specialization_Supply Chain Management</th>\n",
       "      <th>Specialization_Travel and Tourism</th>\n",
       "      <th>Current Occupation_Student</th>\n",
       "      <th>Current Occupation_Unemployed</th>\n",
       "      <th>Current Occupation_Working Professional</th>\n",
       "    </tr>\n",
       "  </thead>\n",
       "  <tbody>\n",
       "    <tr>\n",
       "      <th>0</th>\n",
       "      <td>7927b2df-8bba-4d29-b9a2-b6e0beafe620</td>\n",
       "      <td>660737</td>\n",
       "      <td>API</td>\n",
       "      <td>Olark Chat</td>\n",
       "      <td>0</td>\n",
       "      <td>0.0</td>\n",
       "      <td>0</td>\n",
       "      <td>0.0</td>\n",
       "      <td>Page Visited on Website</td>\n",
       "      <td>Select</td>\n",
       "      <td>...</td>\n",
       "      <td>0</td>\n",
       "      <td>0</td>\n",
       "      <td>0</td>\n",
       "      <td>0</td>\n",
       "      <td>1</td>\n",
       "      <td>0</td>\n",
       "      <td>0</td>\n",
       "      <td>0</td>\n",
       "      <td>1</td>\n",
       "      <td>0</td>\n",
       "    </tr>\n",
       "    <tr>\n",
       "      <th>1</th>\n",
       "      <td>2a272436-5132-4136-86fa-dcc88c88f482</td>\n",
       "      <td>660728</td>\n",
       "      <td>API</td>\n",
       "      <td>Organic Search</td>\n",
       "      <td>0</td>\n",
       "      <td>5.0</td>\n",
       "      <td>674</td>\n",
       "      <td>2.5</td>\n",
       "      <td>Email Opened</td>\n",
       "      <td>Select</td>\n",
       "      <td>...</td>\n",
       "      <td>0</td>\n",
       "      <td>0</td>\n",
       "      <td>0</td>\n",
       "      <td>0</td>\n",
       "      <td>1</td>\n",
       "      <td>0</td>\n",
       "      <td>0</td>\n",
       "      <td>0</td>\n",
       "      <td>1</td>\n",
       "      <td>0</td>\n",
       "    </tr>\n",
       "    <tr>\n",
       "      <th>2</th>\n",
       "      <td>8cc8c611-a219-4f35-ad23-fdfd2656bd8a</td>\n",
       "      <td>660727</td>\n",
       "      <td>Landing Page Submission</td>\n",
       "      <td>Direct Traffic</td>\n",
       "      <td>1</td>\n",
       "      <td>2.0</td>\n",
       "      <td>1532</td>\n",
       "      <td>2.0</td>\n",
       "      <td>Email Opened</td>\n",
       "      <td>Business Administration</td>\n",
       "      <td>...</td>\n",
       "      <td>0</td>\n",
       "      <td>0</td>\n",
       "      <td>0</td>\n",
       "      <td>0</td>\n",
       "      <td>0</td>\n",
       "      <td>0</td>\n",
       "      <td>0</td>\n",
       "      <td>1</td>\n",
       "      <td>0</td>\n",
       "      <td>0</td>\n",
       "    </tr>\n",
       "    <tr>\n",
       "      <th>3</th>\n",
       "      <td>0cc2df48-7cf4-4e39-9de9-19797f9b38cc</td>\n",
       "      <td>660719</td>\n",
       "      <td>Landing Page Submission</td>\n",
       "      <td>Direct Traffic</td>\n",
       "      <td>0</td>\n",
       "      <td>1.0</td>\n",
       "      <td>305</td>\n",
       "      <td>1.0</td>\n",
       "      <td>Others</td>\n",
       "      <td>Media and Advertising</td>\n",
       "      <td>...</td>\n",
       "      <td>1</td>\n",
       "      <td>0</td>\n",
       "      <td>0</td>\n",
       "      <td>0</td>\n",
       "      <td>0</td>\n",
       "      <td>0</td>\n",
       "      <td>0</td>\n",
       "      <td>0</td>\n",
       "      <td>1</td>\n",
       "      <td>0</td>\n",
       "    </tr>\n",
       "    <tr>\n",
       "      <th>4</th>\n",
       "      <td>3256f628-e534-4826-9d63-4a8b88782852</td>\n",
       "      <td>660681</td>\n",
       "      <td>Landing Page Submission</td>\n",
       "      <td>Google</td>\n",
       "      <td>1</td>\n",
       "      <td>2.0</td>\n",
       "      <td>1428</td>\n",
       "      <td>1.0</td>\n",
       "      <td>Converted to Lead</td>\n",
       "      <td>Select</td>\n",
       "      <td>...</td>\n",
       "      <td>0</td>\n",
       "      <td>0</td>\n",
       "      <td>0</td>\n",
       "      <td>0</td>\n",
       "      <td>1</td>\n",
       "      <td>0</td>\n",
       "      <td>0</td>\n",
       "      <td>0</td>\n",
       "      <td>1</td>\n",
       "      <td>0</td>\n",
       "    </tr>\n",
       "  </tbody>\n",
       "</table>\n",
       "<p>5 rows × 47 columns</p>\n",
       "</div>"
      ],
      "text/plain": [
       "                            Prospect ID  Lead Number              Lead Origin  \\\n",
       "0  7927b2df-8bba-4d29-b9a2-b6e0beafe620       660737                      API   \n",
       "1  2a272436-5132-4136-86fa-dcc88c88f482       660728                      API   \n",
       "2  8cc8c611-a219-4f35-ad23-fdfd2656bd8a       660727  Landing Page Submission   \n",
       "3  0cc2df48-7cf4-4e39-9de9-19797f9b38cc       660719  Landing Page Submission   \n",
       "4  3256f628-e534-4826-9d63-4a8b88782852       660681  Landing Page Submission   \n",
       "\n",
       "      Lead Source  Converted  TotalVisits  Time Spent  Page Views Per Visit  \\\n",
       "0      Olark Chat          0          0.0           0                   0.0   \n",
       "1  Organic Search          0          5.0         674                   2.5   \n",
       "2  Direct Traffic          1          2.0        1532                   2.0   \n",
       "3  Direct Traffic          0          1.0         305                   1.0   \n",
       "4          Google          1          2.0        1428                   1.0   \n",
       "\n",
       "             Last Activity           Specialization  ...  \\\n",
       "0  Page Visited on Website                   Select  ...   \n",
       "1             Email Opened                   Select  ...   \n",
       "2             Email Opened  Business Administration  ...   \n",
       "3                   Others    Media and Advertising  ...   \n",
       "4        Converted to Lead                   Select  ...   \n",
       "\n",
       "  Specialization_Media and Advertising Specialization_Not Specified  \\\n",
       "0                                    0                            0   \n",
       "1                                    0                            0   \n",
       "2                                    0                            0   \n",
       "3                                    1                            0   \n",
       "4                                    0                            0   \n",
       "\n",
       "  Specialization_Operations Management  Specialization_Others  \\\n",
       "0                                    0                      0   \n",
       "1                                    0                      0   \n",
       "2                                    0                      0   \n",
       "3                                    0                      0   \n",
       "4                                    0                      0   \n",
       "\n",
       "  Specialization_Select  Specialization_Supply Chain Management  \\\n",
       "0                     1                                       0   \n",
       "1                     1                                       0   \n",
       "2                     0                                       0   \n",
       "3                     0                                       0   \n",
       "4                     1                                       0   \n",
       "\n",
       "   Specialization_Travel and Tourism  Current Occupation_Student  \\\n",
       "0                                  0                           0   \n",
       "1                                  0                           0   \n",
       "2                                  0                           1   \n",
       "3                                  0                           0   \n",
       "4                                  0                           0   \n",
       "\n",
       "   Current Occupation_Unemployed  Current Occupation_Working Professional  \n",
       "0                              1                                        0  \n",
       "1                              1                                        0  \n",
       "2                              0                                        0  \n",
       "3                              1                                        0  \n",
       "4                              1                                        0  \n",
       "\n",
       "[5 rows x 47 columns]"
      ]
     },
     "execution_count": 100,
     "metadata": {},
     "output_type": "execute_result"
    }
   ],
   "source": [
    "#Checking if the dummy-variables are added into the dataframe correctly.\n",
    "lead.head()"
   ]
  },
  {
   "cell_type": "code",
   "execution_count": 101,
   "metadata": {
    "id": "2r1nafyiO_tH"
   },
   "outputs": [],
   "source": [
    "#Dropping the original columns\n",
    "lead.drop(['Lead Origin','Lead Source','Last Activity','Specialization','Current Occupation'],axis=1,inplace=True)"
   ]
  },
  {
   "cell_type": "code",
   "execution_count": 102,
   "metadata": {
    "colab": {
     "base_uri": "https://localhost:8080/",
     "height": 550
    },
    "id": "ZlO7Bd0yPJ83",
    "outputId": "0e5e416e-115e-486e-cadb-b49acb63afe6"
   },
   "outputs": [
    {
     "data": {
      "text/html": [
       "<div>\n",
       "<style scoped>\n",
       "    .dataframe tbody tr th:only-of-type {\n",
       "        vertical-align: middle;\n",
       "    }\n",
       "\n",
       "    .dataframe tbody tr th {\n",
       "        vertical-align: top;\n",
       "    }\n",
       "\n",
       "    .dataframe thead th {\n",
       "        text-align: right;\n",
       "    }\n",
       "</style>\n",
       "<table border=\"1\" class=\"dataframe\">\n",
       "  <thead>\n",
       "    <tr style=\"text-align: right;\">\n",
       "      <th></th>\n",
       "      <th>Prospect ID</th>\n",
       "      <th>Lead Number</th>\n",
       "      <th>Converted</th>\n",
       "      <th>TotalVisits</th>\n",
       "      <th>Time Spent</th>\n",
       "      <th>Page Views Per Visit</th>\n",
       "      <th>How did you hear about X Education</th>\n",
       "      <th>City</th>\n",
       "      <th>Free Copy</th>\n",
       "      <th>Last Notable Activity</th>\n",
       "      <th>...</th>\n",
       "      <th>Specialization_Media and Advertising</th>\n",
       "      <th>Specialization_Not Specified</th>\n",
       "      <th>Specialization_Operations Management</th>\n",
       "      <th>Specialization_Others</th>\n",
       "      <th>Specialization_Select</th>\n",
       "      <th>Specialization_Supply Chain Management</th>\n",
       "      <th>Specialization_Travel and Tourism</th>\n",
       "      <th>Current Occupation_Student</th>\n",
       "      <th>Current Occupation_Unemployed</th>\n",
       "      <th>Current Occupation_Working Professional</th>\n",
       "    </tr>\n",
       "  </thead>\n",
       "  <tbody>\n",
       "    <tr>\n",
       "      <th>0</th>\n",
       "      <td>7927b2df-8bba-4d29-b9a2-b6e0beafe620</td>\n",
       "      <td>660737</td>\n",
       "      <td>0</td>\n",
       "      <td>0.0</td>\n",
       "      <td>0</td>\n",
       "      <td>0.0</td>\n",
       "      <td>Select</td>\n",
       "      <td>Select</td>\n",
       "      <td>0</td>\n",
       "      <td>Modified</td>\n",
       "      <td>...</td>\n",
       "      <td>0</td>\n",
       "      <td>0</td>\n",
       "      <td>0</td>\n",
       "      <td>0</td>\n",
       "      <td>1</td>\n",
       "      <td>0</td>\n",
       "      <td>0</td>\n",
       "      <td>0</td>\n",
       "      <td>1</td>\n",
       "      <td>0</td>\n",
       "    </tr>\n",
       "    <tr>\n",
       "      <th>1</th>\n",
       "      <td>2a272436-5132-4136-86fa-dcc88c88f482</td>\n",
       "      <td>660728</td>\n",
       "      <td>0</td>\n",
       "      <td>5.0</td>\n",
       "      <td>674</td>\n",
       "      <td>2.5</td>\n",
       "      <td>Select</td>\n",
       "      <td>Select</td>\n",
       "      <td>0</td>\n",
       "      <td>Email Opened</td>\n",
       "      <td>...</td>\n",
       "      <td>0</td>\n",
       "      <td>0</td>\n",
       "      <td>0</td>\n",
       "      <td>0</td>\n",
       "      <td>1</td>\n",
       "      <td>0</td>\n",
       "      <td>0</td>\n",
       "      <td>0</td>\n",
       "      <td>1</td>\n",
       "      <td>0</td>\n",
       "    </tr>\n",
       "    <tr>\n",
       "      <th>2</th>\n",
       "      <td>8cc8c611-a219-4f35-ad23-fdfd2656bd8a</td>\n",
       "      <td>660727</td>\n",
       "      <td>1</td>\n",
       "      <td>2.0</td>\n",
       "      <td>1532</td>\n",
       "      <td>2.0</td>\n",
       "      <td>Select</td>\n",
       "      <td>Mumbai</td>\n",
       "      <td>1</td>\n",
       "      <td>Email Opened</td>\n",
       "      <td>...</td>\n",
       "      <td>0</td>\n",
       "      <td>0</td>\n",
       "      <td>0</td>\n",
       "      <td>0</td>\n",
       "      <td>0</td>\n",
       "      <td>0</td>\n",
       "      <td>0</td>\n",
       "      <td>1</td>\n",
       "      <td>0</td>\n",
       "      <td>0</td>\n",
       "    </tr>\n",
       "    <tr>\n",
       "      <th>3</th>\n",
       "      <td>0cc2df48-7cf4-4e39-9de9-19797f9b38cc</td>\n",
       "      <td>660719</td>\n",
       "      <td>0</td>\n",
       "      <td>1.0</td>\n",
       "      <td>305</td>\n",
       "      <td>1.0</td>\n",
       "      <td>Word Of Mouth</td>\n",
       "      <td>Mumbai</td>\n",
       "      <td>0</td>\n",
       "      <td>Modified</td>\n",
       "      <td>...</td>\n",
       "      <td>1</td>\n",
       "      <td>0</td>\n",
       "      <td>0</td>\n",
       "      <td>0</td>\n",
       "      <td>0</td>\n",
       "      <td>0</td>\n",
       "      <td>0</td>\n",
       "      <td>0</td>\n",
       "      <td>1</td>\n",
       "      <td>0</td>\n",
       "    </tr>\n",
       "    <tr>\n",
       "      <th>4</th>\n",
       "      <td>3256f628-e534-4826-9d63-4a8b88782852</td>\n",
       "      <td>660681</td>\n",
       "      <td>1</td>\n",
       "      <td>2.0</td>\n",
       "      <td>1428</td>\n",
       "      <td>1.0</td>\n",
       "      <td>Other</td>\n",
       "      <td>Mumbai</td>\n",
       "      <td>0</td>\n",
       "      <td>Modified</td>\n",
       "      <td>...</td>\n",
       "      <td>0</td>\n",
       "      <td>0</td>\n",
       "      <td>0</td>\n",
       "      <td>0</td>\n",
       "      <td>1</td>\n",
       "      <td>0</td>\n",
       "      <td>0</td>\n",
       "      <td>0</td>\n",
       "      <td>1</td>\n",
       "      <td>0</td>\n",
       "    </tr>\n",
       "  </tbody>\n",
       "</table>\n",
       "<p>5 rows × 42 columns</p>\n",
       "</div>"
      ],
      "text/plain": [
       "                            Prospect ID  Lead Number  Converted  TotalVisits  \\\n",
       "0  7927b2df-8bba-4d29-b9a2-b6e0beafe620       660737          0          0.0   \n",
       "1  2a272436-5132-4136-86fa-dcc88c88f482       660728          0          5.0   \n",
       "2  8cc8c611-a219-4f35-ad23-fdfd2656bd8a       660727          1          2.0   \n",
       "3  0cc2df48-7cf4-4e39-9de9-19797f9b38cc       660719          0          1.0   \n",
       "4  3256f628-e534-4826-9d63-4a8b88782852       660681          1          2.0   \n",
       "\n",
       "   Time Spent  Page Views Per Visit How did you hear about X Education  \\\n",
       "0           0                   0.0                             Select   \n",
       "1         674                   2.5                             Select   \n",
       "2        1532                   2.0                             Select   \n",
       "3         305                   1.0                      Word Of Mouth   \n",
       "4        1428                   1.0                              Other   \n",
       "\n",
       "     City  Free Copy Last Notable Activity  ...  \\\n",
       "0  Select          0              Modified  ...   \n",
       "1  Select          0          Email Opened  ...   \n",
       "2  Mumbai          1          Email Opened  ...   \n",
       "3  Mumbai          0              Modified  ...   \n",
       "4  Mumbai          0              Modified  ...   \n",
       "\n",
       "   Specialization_Media and Advertising  Specialization_Not Specified  \\\n",
       "0                                     0                             0   \n",
       "1                                     0                             0   \n",
       "2                                     0                             0   \n",
       "3                                     1                             0   \n",
       "4                                     0                             0   \n",
       "\n",
       "   Specialization_Operations Management  Specialization_Others  \\\n",
       "0                                     0                      0   \n",
       "1                                     0                      0   \n",
       "2                                     0                      0   \n",
       "3                                     0                      0   \n",
       "4                                     0                      0   \n",
       "\n",
       "   Specialization_Select  Specialization_Supply Chain Management  \\\n",
       "0                      1                                       0   \n",
       "1                      1                                       0   \n",
       "2                      0                                       0   \n",
       "3                      0                                       0   \n",
       "4                      1                                       0   \n",
       "\n",
       "   Specialization_Travel and Tourism  Current Occupation_Student  \\\n",
       "0                                  0                           0   \n",
       "1                                  0                           0   \n",
       "2                                  0                           1   \n",
       "3                                  0                           0   \n",
       "4                                  0                           0   \n",
       "\n",
       "   Current Occupation_Unemployed  Current Occupation_Working Professional  \n",
       "0                              1                                        0  \n",
       "1                              1                                        0  \n",
       "2                              0                                        0  \n",
       "3                              1                                        0  \n",
       "4                              1                                        0  \n",
       "\n",
       "[5 rows x 42 columns]"
      ]
     },
     "execution_count": 102,
     "metadata": {},
     "output_type": "execute_result"
    }
   ],
   "source": [
    "#Inspecting the dataframe again\n",
    "lead.head()"
   ]
  },
  {
   "cell_type": "markdown",
   "metadata": {
    "id": "UhlEW8H6TGWr"
   },
   "source": [
    "**Checking the datatypes of all columns**"
   ]
  },
  {
   "cell_type": "code",
   "execution_count": 103,
   "metadata": {
    "colab": {
     "base_uri": "https://localhost:8080/"
    },
    "id": "Ps3CwYNCTF0i",
    "outputId": "118dcd99-882e-4a8f-903e-968ac4fa6529"
   },
   "outputs": [
    {
     "data": {
      "text/plain": [
       "Prospect ID                                  object\n",
       "Lead Number                                   int64\n",
       "Converted                                     int64\n",
       "TotalVisits                                 float64\n",
       "Time Spent                                    int64\n",
       "Page Views Per Visit                        float64\n",
       "How did you hear about X Education           object\n",
       "City                                         object\n",
       "Free Copy                                     int64\n",
       "Last Notable Activity                        object\n",
       "Lead Origin_Landing Page Submission           uint8\n",
       "Lead Origin_Lead Add Form                     uint8\n",
       "Lead Origin_Others                            uint8\n",
       "Lead Source_Google                            uint8\n",
       "Lead Source_Olark Chat                        uint8\n",
       "Lead Source_Organic Search                    uint8\n",
       "Lead Source_Others                            uint8\n",
       "Lead Source_Reference                         uint8\n",
       "Last Activity_Email Bounced                   uint8\n",
       "Last Activity_Email Link Clicked              uint8\n",
       "Last Activity_Email Opened                    uint8\n",
       "Last Activity_Olark Chat Conversation         uint8\n",
       "Last Activity_Others                          uint8\n",
       "Last Activity_Page Visited on Website         uint8\n",
       "Last Activity_SMS Sent                        uint8\n",
       "Specialization_Business Administration        uint8\n",
       "Specialization_Finance Management             uint8\n",
       "Specialization_Healthcare Management          uint8\n",
       "Specialization_Human Resource Management      uint8\n",
       "Specialization_IT Projects Management         uint8\n",
       "Specialization_International Business         uint8\n",
       "Specialization_Marketing Management           uint8\n",
       "Specialization_Media and Advertising          uint8\n",
       "Specialization_Not Specified                  uint8\n",
       "Specialization_Operations Management          uint8\n",
       "Specialization_Others                         uint8\n",
       "Specialization_Select                         uint8\n",
       "Specialization_Supply Chain Management        uint8\n",
       "Specialization_Travel and Tourism             uint8\n",
       "Current Occupation_Student                    uint8\n",
       "Current Occupation_Unemployed                 uint8\n",
       "Current Occupation_Working Professional       uint8\n",
       "dtype: object"
      ]
     },
     "execution_count": 103,
     "metadata": {},
     "output_type": "execute_result"
    }
   ],
   "source": [
    "#Checking Datatypes\n",
    "lead.dtypes"
   ]
  },
  {
   "cell_type": "markdown",
   "metadata": {
    "id": "gwRI1SspTrfq"
   },
   "source": [
    "## Test-Train Data Split"
   ]
  },
  {
   "cell_type": "code",
   "execution_count": 104,
   "metadata": {
    "id": "YcubW0Q8TVWQ"
   },
   "outputs": [],
   "source": [
    "#Importing the required libraries to divide the data into test data and training data.\n",
    "from sklearn.model_selection import train_test_split"
   ]
  },
  {
   "cell_type": "code",
   "execution_count": 105,
   "metadata": {
    "id": "3Z7TVM8LT7td"
   },
   "outputs": [],
   "source": [
    "#Adding all feature columns to X Variable\n",
    "X = lead.drop(['Converted','Prospect ID','Lead Number','Last Notable Activity'], axis=1)"
   ]
  },
  {
   "cell_type": "code",
   "execution_count": 106,
   "metadata": {
    "colab": {
     "base_uri": "https://localhost:8080/",
     "height": 307
    },
    "id": "jnMkP1GaUiiM",
    "outputId": "f4e2905d-e965-48b1-8271-79cf6e7ff02f"
   },
   "outputs": [
    {
     "data": {
      "text/html": [
       "<div>\n",
       "<style scoped>\n",
       "    .dataframe tbody tr th:only-of-type {\n",
       "        vertical-align: middle;\n",
       "    }\n",
       "\n",
       "    .dataframe tbody tr th {\n",
       "        vertical-align: top;\n",
       "    }\n",
       "\n",
       "    .dataframe thead th {\n",
       "        text-align: right;\n",
       "    }\n",
       "</style>\n",
       "<table border=\"1\" class=\"dataframe\">\n",
       "  <thead>\n",
       "    <tr style=\"text-align: right;\">\n",
       "      <th></th>\n",
       "      <th>TotalVisits</th>\n",
       "      <th>Time Spent</th>\n",
       "      <th>Page Views Per Visit</th>\n",
       "      <th>How did you hear about X Education</th>\n",
       "      <th>City</th>\n",
       "      <th>Free Copy</th>\n",
       "      <th>Lead Origin_Landing Page Submission</th>\n",
       "      <th>Lead Origin_Lead Add Form</th>\n",
       "      <th>Lead Origin_Others</th>\n",
       "      <th>Lead Source_Google</th>\n",
       "      <th>...</th>\n",
       "      <th>Specialization_Media and Advertising</th>\n",
       "      <th>Specialization_Not Specified</th>\n",
       "      <th>Specialization_Operations Management</th>\n",
       "      <th>Specialization_Others</th>\n",
       "      <th>Specialization_Select</th>\n",
       "      <th>Specialization_Supply Chain Management</th>\n",
       "      <th>Specialization_Travel and Tourism</th>\n",
       "      <th>Current Occupation_Student</th>\n",
       "      <th>Current Occupation_Unemployed</th>\n",
       "      <th>Current Occupation_Working Professional</th>\n",
       "    </tr>\n",
       "  </thead>\n",
       "  <tbody>\n",
       "    <tr>\n",
       "      <th>0</th>\n",
       "      <td>0.0</td>\n",
       "      <td>0</td>\n",
       "      <td>0.0</td>\n",
       "      <td>Select</td>\n",
       "      <td>Select</td>\n",
       "      <td>0</td>\n",
       "      <td>0</td>\n",
       "      <td>0</td>\n",
       "      <td>0</td>\n",
       "      <td>0</td>\n",
       "      <td>...</td>\n",
       "      <td>0</td>\n",
       "      <td>0</td>\n",
       "      <td>0</td>\n",
       "      <td>0</td>\n",
       "      <td>1</td>\n",
       "      <td>0</td>\n",
       "      <td>0</td>\n",
       "      <td>0</td>\n",
       "      <td>1</td>\n",
       "      <td>0</td>\n",
       "    </tr>\n",
       "    <tr>\n",
       "      <th>1</th>\n",
       "      <td>5.0</td>\n",
       "      <td>674</td>\n",
       "      <td>2.5</td>\n",
       "      <td>Select</td>\n",
       "      <td>Select</td>\n",
       "      <td>0</td>\n",
       "      <td>0</td>\n",
       "      <td>0</td>\n",
       "      <td>0</td>\n",
       "      <td>0</td>\n",
       "      <td>...</td>\n",
       "      <td>0</td>\n",
       "      <td>0</td>\n",
       "      <td>0</td>\n",
       "      <td>0</td>\n",
       "      <td>1</td>\n",
       "      <td>0</td>\n",
       "      <td>0</td>\n",
       "      <td>0</td>\n",
       "      <td>1</td>\n",
       "      <td>0</td>\n",
       "    </tr>\n",
       "    <tr>\n",
       "      <th>2</th>\n",
       "      <td>2.0</td>\n",
       "      <td>1532</td>\n",
       "      <td>2.0</td>\n",
       "      <td>Select</td>\n",
       "      <td>Mumbai</td>\n",
       "      <td>1</td>\n",
       "      <td>1</td>\n",
       "      <td>0</td>\n",
       "      <td>0</td>\n",
       "      <td>0</td>\n",
       "      <td>...</td>\n",
       "      <td>0</td>\n",
       "      <td>0</td>\n",
       "      <td>0</td>\n",
       "      <td>0</td>\n",
       "      <td>0</td>\n",
       "      <td>0</td>\n",
       "      <td>0</td>\n",
       "      <td>1</td>\n",
       "      <td>0</td>\n",
       "      <td>0</td>\n",
       "    </tr>\n",
       "    <tr>\n",
       "      <th>3</th>\n",
       "      <td>1.0</td>\n",
       "      <td>305</td>\n",
       "      <td>1.0</td>\n",
       "      <td>Word Of Mouth</td>\n",
       "      <td>Mumbai</td>\n",
       "      <td>0</td>\n",
       "      <td>1</td>\n",
       "      <td>0</td>\n",
       "      <td>0</td>\n",
       "      <td>0</td>\n",
       "      <td>...</td>\n",
       "      <td>1</td>\n",
       "      <td>0</td>\n",
       "      <td>0</td>\n",
       "      <td>0</td>\n",
       "      <td>0</td>\n",
       "      <td>0</td>\n",
       "      <td>0</td>\n",
       "      <td>0</td>\n",
       "      <td>1</td>\n",
       "      <td>0</td>\n",
       "    </tr>\n",
       "    <tr>\n",
       "      <th>4</th>\n",
       "      <td>2.0</td>\n",
       "      <td>1428</td>\n",
       "      <td>1.0</td>\n",
       "      <td>Other</td>\n",
       "      <td>Mumbai</td>\n",
       "      <td>0</td>\n",
       "      <td>1</td>\n",
       "      <td>0</td>\n",
       "      <td>0</td>\n",
       "      <td>1</td>\n",
       "      <td>...</td>\n",
       "      <td>0</td>\n",
       "      <td>0</td>\n",
       "      <td>0</td>\n",
       "      <td>0</td>\n",
       "      <td>1</td>\n",
       "      <td>0</td>\n",
       "      <td>0</td>\n",
       "      <td>0</td>\n",
       "      <td>1</td>\n",
       "      <td>0</td>\n",
       "    </tr>\n",
       "  </tbody>\n",
       "</table>\n",
       "<p>5 rows × 38 columns</p>\n",
       "</div>"
      ],
      "text/plain": [
       "   TotalVisits  Time Spent  Page Views Per Visit  \\\n",
       "0          0.0           0                   0.0   \n",
       "1          5.0         674                   2.5   \n",
       "2          2.0        1532                   2.0   \n",
       "3          1.0         305                   1.0   \n",
       "4          2.0        1428                   1.0   \n",
       "\n",
       "  How did you hear about X Education    City  Free Copy  \\\n",
       "0                             Select  Select          0   \n",
       "1                             Select  Select          0   \n",
       "2                             Select  Mumbai          1   \n",
       "3                      Word Of Mouth  Mumbai          0   \n",
       "4                              Other  Mumbai          0   \n",
       "\n",
       "   Lead Origin_Landing Page Submission  Lead Origin_Lead Add Form  \\\n",
       "0                                    0                          0   \n",
       "1                                    0                          0   \n",
       "2                                    1                          0   \n",
       "3                                    1                          0   \n",
       "4                                    1                          0   \n",
       "\n",
       "   Lead Origin_Others  Lead Source_Google  ...  \\\n",
       "0                   0                   0  ...   \n",
       "1                   0                   0  ...   \n",
       "2                   0                   0  ...   \n",
       "3                   0                   0  ...   \n",
       "4                   0                   1  ...   \n",
       "\n",
       "   Specialization_Media and Advertising  Specialization_Not Specified  \\\n",
       "0                                     0                             0   \n",
       "1                                     0                             0   \n",
       "2                                     0                             0   \n",
       "3                                     1                             0   \n",
       "4                                     0                             0   \n",
       "\n",
       "   Specialization_Operations Management  Specialization_Others  \\\n",
       "0                                     0                      0   \n",
       "1                                     0                      0   \n",
       "2                                     0                      0   \n",
       "3                                     0                      0   \n",
       "4                                     0                      0   \n",
       "\n",
       "   Specialization_Select  Specialization_Supply Chain Management  \\\n",
       "0                      1                                       0   \n",
       "1                      1                                       0   \n",
       "2                      0                                       0   \n",
       "3                      0                                       0   \n",
       "4                      1                                       0   \n",
       "\n",
       "   Specialization_Travel and Tourism  Current Occupation_Student  \\\n",
       "0                                  0                           0   \n",
       "1                                  0                           0   \n",
       "2                                  0                           1   \n",
       "3                                  0                           0   \n",
       "4                                  0                           0   \n",
       "\n",
       "   Current Occupation_Unemployed  Current Occupation_Working Professional  \n",
       "0                              1                                        0  \n",
       "1                              1                                        0  \n",
       "2                              0                                        0  \n",
       "3                              1                                        0  \n",
       "4                              1                                        0  \n",
       "\n",
       "[5 rows x 38 columns]"
      ]
     },
     "execution_count": 106,
     "metadata": {},
     "output_type": "execute_result"
    }
   ],
   "source": [
    "X.head()"
   ]
  },
  {
   "cell_type": "code",
   "execution_count": 107,
   "metadata": {
    "id": "FNrUqkEeULMU"
   },
   "outputs": [],
   "source": [
    "#Adding our target column to Y Variable\n",
    "y = lead['Converted']"
   ]
  },
  {
   "cell_type": "code",
   "execution_count": 108,
   "metadata": {
    "colab": {
     "base_uri": "https://localhost:8080/"
    },
    "id": "i2hwV6K8UniE",
    "outputId": "05e16e81-f784-4345-9048-a5ebd4a4d433"
   },
   "outputs": [
    {
     "data": {
      "text/plain": [
       "0    0\n",
       "1    0\n",
       "2    1\n",
       "3    0\n",
       "4    1\n",
       "Name: Converted, dtype: int64"
      ]
     },
     "execution_count": 108,
     "metadata": {},
     "output_type": "execute_result"
    }
   ],
   "source": [
    "y.head()"
   ]
  },
  {
   "cell_type": "code",
   "execution_count": 109,
   "metadata": {
    "id": "F91U1GmIUStv"
   },
   "outputs": [],
   "source": [
    "# Splitting the data into train and test (70%-30%)\n",
    "X_train, X_test, y_train, y_test = train_test_split(X, y, train_size=0.7, test_size=0.3, random_state=100)"
   ]
  },
  {
   "cell_type": "markdown",
   "metadata": {
    "id": "n8GdBYLtUrbn"
   },
   "source": [
    "**Scaling all the required variables**"
   ]
  },
  {
   "cell_type": "code",
   "execution_count": 110,
   "metadata": {
    "colab": {
     "base_uri": "https://localhost:8080/",
     "height": 307
    },
    "id": "-3XYL7xrVA67",
    "outputId": "35ff6f21-e2de-4948-d1b4-e3ee7741fe59"
   },
   "outputs": [
    {
     "data": {
      "text/html": [
       "<div>\n",
       "<style scoped>\n",
       "    .dataframe tbody tr th:only-of-type {\n",
       "        vertical-align: middle;\n",
       "    }\n",
       "\n",
       "    .dataframe tbody tr th {\n",
       "        vertical-align: top;\n",
       "    }\n",
       "\n",
       "    .dataframe thead th {\n",
       "        text-align: right;\n",
       "    }\n",
       "</style>\n",
       "<table border=\"1\" class=\"dataframe\">\n",
       "  <thead>\n",
       "    <tr style=\"text-align: right;\">\n",
       "      <th></th>\n",
       "      <th>TotalVisits</th>\n",
       "      <th>Time Spent</th>\n",
       "      <th>Page Views Per Visit</th>\n",
       "      <th>How did you hear about X Education</th>\n",
       "      <th>City</th>\n",
       "      <th>Free Copy</th>\n",
       "      <th>Lead Origin_Landing Page Submission</th>\n",
       "      <th>Lead Origin_Lead Add Form</th>\n",
       "      <th>Lead Origin_Others</th>\n",
       "      <th>Lead Source_Google</th>\n",
       "      <th>...</th>\n",
       "      <th>Specialization_Media and Advertising</th>\n",
       "      <th>Specialization_Not Specified</th>\n",
       "      <th>Specialization_Operations Management</th>\n",
       "      <th>Specialization_Others</th>\n",
       "      <th>Specialization_Select</th>\n",
       "      <th>Specialization_Supply Chain Management</th>\n",
       "      <th>Specialization_Travel and Tourism</th>\n",
       "      <th>Current Occupation_Student</th>\n",
       "      <th>Current Occupation_Unemployed</th>\n",
       "      <th>Current Occupation_Working Professional</th>\n",
       "    </tr>\n",
       "  </thead>\n",
       "  <tbody>\n",
       "    <tr>\n",
       "      <th>0</th>\n",
       "      <td>0.0</td>\n",
       "      <td>0</td>\n",
       "      <td>0.0</td>\n",
       "      <td>Select</td>\n",
       "      <td>Select</td>\n",
       "      <td>0</td>\n",
       "      <td>0</td>\n",
       "      <td>0</td>\n",
       "      <td>0</td>\n",
       "      <td>0</td>\n",
       "      <td>...</td>\n",
       "      <td>0</td>\n",
       "      <td>0</td>\n",
       "      <td>0</td>\n",
       "      <td>0</td>\n",
       "      <td>1</td>\n",
       "      <td>0</td>\n",
       "      <td>0</td>\n",
       "      <td>0</td>\n",
       "      <td>1</td>\n",
       "      <td>0</td>\n",
       "    </tr>\n",
       "    <tr>\n",
       "      <th>1</th>\n",
       "      <td>5.0</td>\n",
       "      <td>674</td>\n",
       "      <td>2.5</td>\n",
       "      <td>Select</td>\n",
       "      <td>Select</td>\n",
       "      <td>0</td>\n",
       "      <td>0</td>\n",
       "      <td>0</td>\n",
       "      <td>0</td>\n",
       "      <td>0</td>\n",
       "      <td>...</td>\n",
       "      <td>0</td>\n",
       "      <td>0</td>\n",
       "      <td>0</td>\n",
       "      <td>0</td>\n",
       "      <td>1</td>\n",
       "      <td>0</td>\n",
       "      <td>0</td>\n",
       "      <td>0</td>\n",
       "      <td>1</td>\n",
       "      <td>0</td>\n",
       "    </tr>\n",
       "    <tr>\n",
       "      <th>2</th>\n",
       "      <td>2.0</td>\n",
       "      <td>1532</td>\n",
       "      <td>2.0</td>\n",
       "      <td>Select</td>\n",
       "      <td>Mumbai</td>\n",
       "      <td>1</td>\n",
       "      <td>1</td>\n",
       "      <td>0</td>\n",
       "      <td>0</td>\n",
       "      <td>0</td>\n",
       "      <td>...</td>\n",
       "      <td>0</td>\n",
       "      <td>0</td>\n",
       "      <td>0</td>\n",
       "      <td>0</td>\n",
       "      <td>0</td>\n",
       "      <td>0</td>\n",
       "      <td>0</td>\n",
       "      <td>1</td>\n",
       "      <td>0</td>\n",
       "      <td>0</td>\n",
       "    </tr>\n",
       "    <tr>\n",
       "      <th>3</th>\n",
       "      <td>1.0</td>\n",
       "      <td>305</td>\n",
       "      <td>1.0</td>\n",
       "      <td>Word Of Mouth</td>\n",
       "      <td>Mumbai</td>\n",
       "      <td>0</td>\n",
       "      <td>1</td>\n",
       "      <td>0</td>\n",
       "      <td>0</td>\n",
       "      <td>0</td>\n",
       "      <td>...</td>\n",
       "      <td>1</td>\n",
       "      <td>0</td>\n",
       "      <td>0</td>\n",
       "      <td>0</td>\n",
       "      <td>0</td>\n",
       "      <td>0</td>\n",
       "      <td>0</td>\n",
       "      <td>0</td>\n",
       "      <td>1</td>\n",
       "      <td>0</td>\n",
       "    </tr>\n",
       "    <tr>\n",
       "      <th>4</th>\n",
       "      <td>2.0</td>\n",
       "      <td>1428</td>\n",
       "      <td>1.0</td>\n",
       "      <td>Other</td>\n",
       "      <td>Mumbai</td>\n",
       "      <td>0</td>\n",
       "      <td>1</td>\n",
       "      <td>0</td>\n",
       "      <td>0</td>\n",
       "      <td>1</td>\n",
       "      <td>...</td>\n",
       "      <td>0</td>\n",
       "      <td>0</td>\n",
       "      <td>0</td>\n",
       "      <td>0</td>\n",
       "      <td>1</td>\n",
       "      <td>0</td>\n",
       "      <td>0</td>\n",
       "      <td>0</td>\n",
       "      <td>1</td>\n",
       "      <td>0</td>\n",
       "    </tr>\n",
       "  </tbody>\n",
       "</table>\n",
       "<p>5 rows × 38 columns</p>\n",
       "</div>"
      ],
      "text/plain": [
       "   TotalVisits  Time Spent  Page Views Per Visit  \\\n",
       "0          0.0           0                   0.0   \n",
       "1          5.0         674                   2.5   \n",
       "2          2.0        1532                   2.0   \n",
       "3          1.0         305                   1.0   \n",
       "4          2.0        1428                   1.0   \n",
       "\n",
       "  How did you hear about X Education    City  Free Copy  \\\n",
       "0                             Select  Select          0   \n",
       "1                             Select  Select          0   \n",
       "2                             Select  Mumbai          1   \n",
       "3                      Word Of Mouth  Mumbai          0   \n",
       "4                              Other  Mumbai          0   \n",
       "\n",
       "   Lead Origin_Landing Page Submission  Lead Origin_Lead Add Form  \\\n",
       "0                                    0                          0   \n",
       "1                                    0                          0   \n",
       "2                                    1                          0   \n",
       "3                                    1                          0   \n",
       "4                                    1                          0   \n",
       "\n",
       "   Lead Origin_Others  Lead Source_Google  ...  \\\n",
       "0                   0                   0  ...   \n",
       "1                   0                   0  ...   \n",
       "2                   0                   0  ...   \n",
       "3                   0                   0  ...   \n",
       "4                   0                   1  ...   \n",
       "\n",
       "   Specialization_Media and Advertising  Specialization_Not Specified  \\\n",
       "0                                     0                             0   \n",
       "1                                     0                             0   \n",
       "2                                     0                             0   \n",
       "3                                     1                             0   \n",
       "4                                     0                             0   \n",
       "\n",
       "   Specialization_Operations Management  Specialization_Others  \\\n",
       "0                                     0                      0   \n",
       "1                                     0                      0   \n",
       "2                                     0                      0   \n",
       "3                                     0                      0   \n",
       "4                                     0                      0   \n",
       "\n",
       "   Specialization_Select  Specialization_Supply Chain Management  \\\n",
       "0                      1                                       0   \n",
       "1                      1                                       0   \n",
       "2                      0                                       0   \n",
       "3                      0                                       0   \n",
       "4                      1                                       0   \n",
       "\n",
       "   Specialization_Travel and Tourism  Current Occupation_Student  \\\n",
       "0                                  0                           0   \n",
       "1                                  0                           0   \n",
       "2                                  0                           1   \n",
       "3                                  0                           0   \n",
       "4                                  0                           0   \n",
       "\n",
       "   Current Occupation_Unemployed  Current Occupation_Working Professional  \n",
       "0                              1                                        0  \n",
       "1                              1                                        0  \n",
       "2                              0                                        0  \n",
       "3                              1                                        0  \n",
       "4                              1                                        0  \n",
       "\n",
       "[5 rows x 38 columns]"
      ]
     },
     "execution_count": 110,
     "metadata": {},
     "output_type": "execute_result"
    }
   ],
   "source": [
    "#Checking the dataframe again\n",
    "X.head()"
   ]
  },
  {
   "cell_type": "code",
   "execution_count": 111,
   "metadata": {
    "colab": {
     "base_uri": "https://localhost:8080/",
     "height": 307
    },
    "id": "DHjpPSmqUrOc",
    "outputId": "5bad285e-fed6-4525-9533-eb5e7f79ad55"
   },
   "outputs": [
    {
     "data": {
      "text/html": [
       "<div>\n",
       "<style scoped>\n",
       "    .dataframe tbody tr th:only-of-type {\n",
       "        vertical-align: middle;\n",
       "    }\n",
       "\n",
       "    .dataframe tbody tr th {\n",
       "        vertical-align: top;\n",
       "    }\n",
       "\n",
       "    .dataframe thead th {\n",
       "        text-align: right;\n",
       "    }\n",
       "</style>\n",
       "<table border=\"1\" class=\"dataframe\">\n",
       "  <thead>\n",
       "    <tr style=\"text-align: right;\">\n",
       "      <th></th>\n",
       "      <th>TotalVisits</th>\n",
       "      <th>Time Spent</th>\n",
       "      <th>Page Views Per Visit</th>\n",
       "      <th>How did you hear about X Education</th>\n",
       "      <th>City</th>\n",
       "      <th>Free Copy</th>\n",
       "      <th>Lead Origin_Landing Page Submission</th>\n",
       "      <th>Lead Origin_Lead Add Form</th>\n",
       "      <th>Lead Origin_Others</th>\n",
       "      <th>Lead Source_Google</th>\n",
       "      <th>...</th>\n",
       "      <th>Specialization_Media and Advertising</th>\n",
       "      <th>Specialization_Not Specified</th>\n",
       "      <th>Specialization_Operations Management</th>\n",
       "      <th>Specialization_Others</th>\n",
       "      <th>Specialization_Select</th>\n",
       "      <th>Specialization_Supply Chain Management</th>\n",
       "      <th>Specialization_Travel and Tourism</th>\n",
       "      <th>Current Occupation_Student</th>\n",
       "      <th>Current Occupation_Unemployed</th>\n",
       "      <th>Current Occupation_Working Professional</th>\n",
       "    </tr>\n",
       "  </thead>\n",
       "  <tbody>\n",
       "    <tr>\n",
       "      <th>1871</th>\n",
       "      <td>-1.022595</td>\n",
       "      <td>-0.885371</td>\n",
       "      <td>-1.180474</td>\n",
       "      <td>Select</td>\n",
       "      <td>Select</td>\n",
       "      <td>0</td>\n",
       "      <td>0</td>\n",
       "      <td>0</td>\n",
       "      <td>0</td>\n",
       "      <td>0</td>\n",
       "      <td>...</td>\n",
       "      <td>0</td>\n",
       "      <td>0</td>\n",
       "      <td>0</td>\n",
       "      <td>0</td>\n",
       "      <td>0</td>\n",
       "      <td>0</td>\n",
       "      <td>0</td>\n",
       "      <td>0</td>\n",
       "      <td>1</td>\n",
       "      <td>0</td>\n",
       "    </tr>\n",
       "    <tr>\n",
       "      <th>6795</th>\n",
       "      <td>0.205373</td>\n",
       "      <td>0.005716</td>\n",
       "      <td>-0.503379</td>\n",
       "      <td>Select</td>\n",
       "      <td>Other Cities</td>\n",
       "      <td>1</td>\n",
       "      <td>1</td>\n",
       "      <td>0</td>\n",
       "      <td>0</td>\n",
       "      <td>0</td>\n",
       "      <td>...</td>\n",
       "      <td>0</td>\n",
       "      <td>0</td>\n",
       "      <td>0</td>\n",
       "      <td>0</td>\n",
       "      <td>1</td>\n",
       "      <td>0</td>\n",
       "      <td>0</td>\n",
       "      <td>0</td>\n",
       "      <td>1</td>\n",
       "      <td>0</td>\n",
       "    </tr>\n",
       "    <tr>\n",
       "      <th>3516</th>\n",
       "      <td>0.512365</td>\n",
       "      <td>-0.691418</td>\n",
       "      <td>0.092260</td>\n",
       "      <td>Select</td>\n",
       "      <td>Select</td>\n",
       "      <td>0</td>\n",
       "      <td>0</td>\n",
       "      <td>0</td>\n",
       "      <td>0</td>\n",
       "      <td>0</td>\n",
       "      <td>...</td>\n",
       "      <td>0</td>\n",
       "      <td>0</td>\n",
       "      <td>0</td>\n",
       "      <td>0</td>\n",
       "      <td>1</td>\n",
       "      <td>0</td>\n",
       "      <td>0</td>\n",
       "      <td>0</td>\n",
       "      <td>1</td>\n",
       "      <td>0</td>\n",
       "    </tr>\n",
       "    <tr>\n",
       "      <th>8105</th>\n",
       "      <td>0.512365</td>\n",
       "      <td>1.365219</td>\n",
       "      <td>1.364995</td>\n",
       "      <td>Other</td>\n",
       "      <td>Mumbai</td>\n",
       "      <td>0</td>\n",
       "      <td>1</td>\n",
       "      <td>0</td>\n",
       "      <td>0</td>\n",
       "      <td>1</td>\n",
       "      <td>...</td>\n",
       "      <td>0</td>\n",
       "      <td>0</td>\n",
       "      <td>0</td>\n",
       "      <td>1</td>\n",
       "      <td>0</td>\n",
       "      <td>0</td>\n",
       "      <td>0</td>\n",
       "      <td>0</td>\n",
       "      <td>1</td>\n",
       "      <td>0</td>\n",
       "    </tr>\n",
       "    <tr>\n",
       "      <th>3934</th>\n",
       "      <td>-1.022595</td>\n",
       "      <td>-0.885371</td>\n",
       "      <td>-1.180474</td>\n",
       "      <td>Select</td>\n",
       "      <td>Select</td>\n",
       "      <td>0</td>\n",
       "      <td>0</td>\n",
       "      <td>0</td>\n",
       "      <td>0</td>\n",
       "      <td>0</td>\n",
       "      <td>...</td>\n",
       "      <td>0</td>\n",
       "      <td>0</td>\n",
       "      <td>0</td>\n",
       "      <td>0</td>\n",
       "      <td>1</td>\n",
       "      <td>0</td>\n",
       "      <td>0</td>\n",
       "      <td>0</td>\n",
       "      <td>1</td>\n",
       "      <td>0</td>\n",
       "    </tr>\n",
       "  </tbody>\n",
       "</table>\n",
       "<p>5 rows × 38 columns</p>\n",
       "</div>"
      ],
      "text/plain": [
       "      TotalVisits  Time Spent  Page Views Per Visit  \\\n",
       "1871    -1.022595   -0.885371             -1.180474   \n",
       "6795     0.205373    0.005716             -0.503379   \n",
       "3516     0.512365   -0.691418              0.092260   \n",
       "8105     0.512365    1.365219              1.364995   \n",
       "3934    -1.022595   -0.885371             -1.180474   \n",
       "\n",
       "     How did you hear about X Education          City  Free Copy  \\\n",
       "1871                             Select        Select          0   \n",
       "6795                             Select  Other Cities          1   \n",
       "3516                             Select        Select          0   \n",
       "8105                              Other        Mumbai          0   \n",
       "3934                             Select        Select          0   \n",
       "\n",
       "      Lead Origin_Landing Page Submission  Lead Origin_Lead Add Form  \\\n",
       "1871                                    0                          0   \n",
       "6795                                    1                          0   \n",
       "3516                                    0                          0   \n",
       "8105                                    1                          0   \n",
       "3934                                    0                          0   \n",
       "\n",
       "      Lead Origin_Others  Lead Source_Google  ...  \\\n",
       "1871                   0                   0  ...   \n",
       "6795                   0                   0  ...   \n",
       "3516                   0                   0  ...   \n",
       "8105                   0                   1  ...   \n",
       "3934                   0                   0  ...   \n",
       "\n",
       "      Specialization_Media and Advertising  Specialization_Not Specified  \\\n",
       "1871                                     0                             0   \n",
       "6795                                     0                             0   \n",
       "3516                                     0                             0   \n",
       "8105                                     0                             0   \n",
       "3934                                     0                             0   \n",
       "\n",
       "      Specialization_Operations Management  Specialization_Others  \\\n",
       "1871                                     0                      0   \n",
       "6795                                     0                      0   \n",
       "3516                                     0                      0   \n",
       "8105                                     0                      1   \n",
       "3934                                     0                      0   \n",
       "\n",
       "      Specialization_Select  Specialization_Supply Chain Management  \\\n",
       "1871                      0                                       0   \n",
       "6795                      1                                       0   \n",
       "3516                      1                                       0   \n",
       "8105                      0                                       0   \n",
       "3934                      1                                       0   \n",
       "\n",
       "      Specialization_Travel and Tourism  Current Occupation_Student  \\\n",
       "1871                                  0                           0   \n",
       "6795                                  0                           0   \n",
       "3516                                  0                           0   \n",
       "8105                                  0                           0   \n",
       "3934                                  0                           0   \n",
       "\n",
       "      Current Occupation_Unemployed  Current Occupation_Working Professional  \n",
       "1871                              1                                        0  \n",
       "6795                              1                                        0  \n",
       "3516                              1                                        0  \n",
       "8105                              1                                        0  \n",
       "3934                              1                                        0  \n",
       "\n",
       "[5 rows x 38 columns]"
      ]
     },
     "execution_count": 111,
     "metadata": {},
     "output_type": "execute_result"
    }
   ],
   "source": [
    "#We can see that columns except TotalVisits, Time Spent and Page Views Per Visit all the other columns are present in the range of 0 - 1, so we need to scale these variables as well.\n",
    "scaler = StandardScaler()\n",
    "X_train[['TotalVisits','Time Spent','Page Views Per Visit']] = scaler.fit_transform(X_train[['TotalVisits','Time Spent','Page Views Per Visit']])\n",
    "X_train.head()"
   ]
  },
  {
   "cell_type": "code",
   "execution_count": 112,
   "metadata": {
    "colab": {
     "base_uri": "https://localhost:8080/",
     "height": 471
    },
    "id": "RtxUV-JYVfvD",
    "outputId": "840c96f6-2736-4505-cc5a-1f26e426b633"
   },
   "outputs": [
    {
     "data": {
      "text/html": [
       "<div>\n",
       "<style scoped>\n",
       "    .dataframe tbody tr th:only-of-type {\n",
       "        vertical-align: middle;\n",
       "    }\n",
       "\n",
       "    .dataframe tbody tr th {\n",
       "        vertical-align: top;\n",
       "    }\n",
       "\n",
       "    .dataframe thead th {\n",
       "        text-align: right;\n",
       "    }\n",
       "</style>\n",
       "<table border=\"1\" class=\"dataframe\">\n",
       "  <thead>\n",
       "    <tr style=\"text-align: right;\">\n",
       "      <th></th>\n",
       "      <th>TotalVisits</th>\n",
       "      <th>Time Spent</th>\n",
       "      <th>Page Views Per Visit</th>\n",
       "      <th>Free Copy</th>\n",
       "      <th>Lead Origin_Landing Page Submission</th>\n",
       "      <th>Lead Origin_Lead Add Form</th>\n",
       "      <th>Lead Origin_Others</th>\n",
       "      <th>Lead Source_Google</th>\n",
       "      <th>Lead Source_Olark Chat</th>\n",
       "      <th>Lead Source_Organic Search</th>\n",
       "      <th>...</th>\n",
       "      <th>Specialization_Media and Advertising</th>\n",
       "      <th>Specialization_Not Specified</th>\n",
       "      <th>Specialization_Operations Management</th>\n",
       "      <th>Specialization_Others</th>\n",
       "      <th>Specialization_Select</th>\n",
       "      <th>Specialization_Supply Chain Management</th>\n",
       "      <th>Specialization_Travel and Tourism</th>\n",
       "      <th>Current Occupation_Student</th>\n",
       "      <th>Current Occupation_Unemployed</th>\n",
       "      <th>Current Occupation_Working Professional</th>\n",
       "    </tr>\n",
       "  </thead>\n",
       "  <tbody>\n",
       "    <tr>\n",
       "      <th>count</th>\n",
       "      <td>6.468000e+03</td>\n",
       "      <td>6.468000e+03</td>\n",
       "      <td>6.468000e+03</td>\n",
       "      <td>6468.000000</td>\n",
       "      <td>6468.000000</td>\n",
       "      <td>6468.000000</td>\n",
       "      <td>6468.000000</td>\n",
       "      <td>6468.000000</td>\n",
       "      <td>6468.000000</td>\n",
       "      <td>6468.000000</td>\n",
       "      <td>...</td>\n",
       "      <td>6468.000000</td>\n",
       "      <td>6468.000000</td>\n",
       "      <td>6468.000000</td>\n",
       "      <td>6468.000000</td>\n",
       "      <td>6468.000000</td>\n",
       "      <td>6468.000000</td>\n",
       "      <td>6468.000000</td>\n",
       "      <td>6468.000000</td>\n",
       "      <td>6468.000000</td>\n",
       "      <td>6468.000000</td>\n",
       "    </tr>\n",
       "    <tr>\n",
       "      <th>mean</th>\n",
       "      <td>-1.346411e-16</td>\n",
       "      <td>-1.609377e-16</td>\n",
       "      <td>-4.136731e-17</td>\n",
       "      <td>0.311843</td>\n",
       "      <td>0.528139</td>\n",
       "      <td>0.079468</td>\n",
       "      <td>0.005257</td>\n",
       "      <td>0.320037</td>\n",
       "      <td>0.190167</td>\n",
       "      <td>0.121058</td>\n",
       "      <td>...</td>\n",
       "      <td>0.020563</td>\n",
       "      <td>0.157545</td>\n",
       "      <td>0.057205</td>\n",
       "      <td>0.055040</td>\n",
       "      <td>0.209957</td>\n",
       "      <td>0.037570</td>\n",
       "      <td>0.021336</td>\n",
       "      <td>0.021027</td>\n",
       "      <td>0.897805</td>\n",
       "      <td>0.077613</td>\n",
       "    </tr>\n",
       "    <tr>\n",
       "      <th>std</th>\n",
       "      <td>1.000077e+00</td>\n",
       "      <td>1.000077e+00</td>\n",
       "      <td>1.000077e+00</td>\n",
       "      <td>0.463282</td>\n",
       "      <td>0.499246</td>\n",
       "      <td>0.270489</td>\n",
       "      <td>0.072318</td>\n",
       "      <td>0.466527</td>\n",
       "      <td>0.392463</td>\n",
       "      <td>0.326219</td>\n",
       "      <td>...</td>\n",
       "      <td>0.141926</td>\n",
       "      <td>0.364342</td>\n",
       "      <td>0.232251</td>\n",
       "      <td>0.228076</td>\n",
       "      <td>0.407309</td>\n",
       "      <td>0.190168</td>\n",
       "      <td>0.144512</td>\n",
       "      <td>0.143484</td>\n",
       "      <td>0.302929</td>\n",
       "      <td>0.267582</td>\n",
       "    </tr>\n",
       "    <tr>\n",
       "      <th>min</th>\n",
       "      <td>-1.022595e+00</td>\n",
       "      <td>-8.853708e-01</td>\n",
       "      <td>-1.180474e+00</td>\n",
       "      <td>0.000000</td>\n",
       "      <td>0.000000</td>\n",
       "      <td>0.000000</td>\n",
       "      <td>0.000000</td>\n",
       "      <td>0.000000</td>\n",
       "      <td>0.000000</td>\n",
       "      <td>0.000000</td>\n",
       "      <td>...</td>\n",
       "      <td>0.000000</td>\n",
       "      <td>0.000000</td>\n",
       "      <td>0.000000</td>\n",
       "      <td>0.000000</td>\n",
       "      <td>0.000000</td>\n",
       "      <td>0.000000</td>\n",
       "      <td>0.000000</td>\n",
       "      <td>0.000000</td>\n",
       "      <td>0.000000</td>\n",
       "      <td>0.000000</td>\n",
       "    </tr>\n",
       "    <tr>\n",
       "      <th>25%</th>\n",
       "      <td>-7.156027e-01</td>\n",
       "      <td>-8.634138e-01</td>\n",
       "      <td>-6.713803e-01</td>\n",
       "      <td>0.000000</td>\n",
       "      <td>0.000000</td>\n",
       "      <td>0.000000</td>\n",
       "      <td>0.000000</td>\n",
       "      <td>0.000000</td>\n",
       "      <td>0.000000</td>\n",
       "      <td>0.000000</td>\n",
       "      <td>...</td>\n",
       "      <td>0.000000</td>\n",
       "      <td>0.000000</td>\n",
       "      <td>0.000000</td>\n",
       "      <td>0.000000</td>\n",
       "      <td>0.000000</td>\n",
       "      <td>0.000000</td>\n",
       "      <td>0.000000</td>\n",
       "      <td>0.000000</td>\n",
       "      <td>1.000000</td>\n",
       "      <td>0.000000</td>\n",
       "    </tr>\n",
       "    <tr>\n",
       "      <th>50%</th>\n",
       "      <td>-1.016187e-01</td>\n",
       "      <td>-4.352528e-01</td>\n",
       "      <td>-1.622866e-01</td>\n",
       "      <td>0.000000</td>\n",
       "      <td>1.000000</td>\n",
       "      <td>0.000000</td>\n",
       "      <td>0.000000</td>\n",
       "      <td>0.000000</td>\n",
       "      <td>0.000000</td>\n",
       "      <td>0.000000</td>\n",
       "      <td>...</td>\n",
       "      <td>0.000000</td>\n",
       "      <td>0.000000</td>\n",
       "      <td>0.000000</td>\n",
       "      <td>0.000000</td>\n",
       "      <td>0.000000</td>\n",
       "      <td>0.000000</td>\n",
       "      <td>0.000000</td>\n",
       "      <td>0.000000</td>\n",
       "      <td>1.000000</td>\n",
       "      <td>0.000000</td>\n",
       "    </tr>\n",
       "    <tr>\n",
       "      <th>75%</th>\n",
       "      <td>5.123653e-01</td>\n",
       "      <td>8.098906e-01</td>\n",
       "      <td>3.468071e-01</td>\n",
       "      <td>1.000000</td>\n",
       "      <td>1.000000</td>\n",
       "      <td>0.000000</td>\n",
       "      <td>0.000000</td>\n",
       "      <td>1.000000</td>\n",
       "      <td>0.000000</td>\n",
       "      <td>0.000000</td>\n",
       "      <td>...</td>\n",
       "      <td>0.000000</td>\n",
       "      <td>0.000000</td>\n",
       "      <td>0.000000</td>\n",
       "      <td>0.000000</td>\n",
       "      <td>0.000000</td>\n",
       "      <td>0.000000</td>\n",
       "      <td>0.000000</td>\n",
       "      <td>0.000000</td>\n",
       "      <td>1.000000</td>\n",
       "      <td>0.000000</td>\n",
       "    </tr>\n",
       "    <tr>\n",
       "      <th>max</th>\n",
       "      <td>4.196269e+00</td>\n",
       "      <td>3.271816e+00</td>\n",
       "      <td>3.401369e+00</td>\n",
       "      <td>1.000000</td>\n",
       "      <td>1.000000</td>\n",
       "      <td>1.000000</td>\n",
       "      <td>1.000000</td>\n",
       "      <td>1.000000</td>\n",
       "      <td>1.000000</td>\n",
       "      <td>1.000000</td>\n",
       "      <td>...</td>\n",
       "      <td>1.000000</td>\n",
       "      <td>1.000000</td>\n",
       "      <td>1.000000</td>\n",
       "      <td>1.000000</td>\n",
       "      <td>1.000000</td>\n",
       "      <td>1.000000</td>\n",
       "      <td>1.000000</td>\n",
       "      <td>1.000000</td>\n",
       "      <td>1.000000</td>\n",
       "      <td>1.000000</td>\n",
       "    </tr>\n",
       "  </tbody>\n",
       "</table>\n",
       "<p>8 rows × 36 columns</p>\n",
       "</div>"
      ],
      "text/plain": [
       "        TotalVisits    Time Spent  Page Views Per Visit    Free Copy  \\\n",
       "count  6.468000e+03  6.468000e+03          6.468000e+03  6468.000000   \n",
       "mean  -1.346411e-16 -1.609377e-16         -4.136731e-17     0.311843   \n",
       "std    1.000077e+00  1.000077e+00          1.000077e+00     0.463282   \n",
       "min   -1.022595e+00 -8.853708e-01         -1.180474e+00     0.000000   \n",
       "25%   -7.156027e-01 -8.634138e-01         -6.713803e-01     0.000000   \n",
       "50%   -1.016187e-01 -4.352528e-01         -1.622866e-01     0.000000   \n",
       "75%    5.123653e-01  8.098906e-01          3.468071e-01     1.000000   \n",
       "max    4.196269e+00  3.271816e+00          3.401369e+00     1.000000   \n",
       "\n",
       "       Lead Origin_Landing Page Submission  Lead Origin_Lead Add Form  \\\n",
       "count                          6468.000000                6468.000000   \n",
       "mean                              0.528139                   0.079468   \n",
       "std                               0.499246                   0.270489   \n",
       "min                               0.000000                   0.000000   \n",
       "25%                               0.000000                   0.000000   \n",
       "50%                               1.000000                   0.000000   \n",
       "75%                               1.000000                   0.000000   \n",
       "max                               1.000000                   1.000000   \n",
       "\n",
       "       Lead Origin_Others  Lead Source_Google  Lead Source_Olark Chat  \\\n",
       "count         6468.000000         6468.000000             6468.000000   \n",
       "mean             0.005257            0.320037                0.190167   \n",
       "std              0.072318            0.466527                0.392463   \n",
       "min              0.000000            0.000000                0.000000   \n",
       "25%              0.000000            0.000000                0.000000   \n",
       "50%              0.000000            0.000000                0.000000   \n",
       "75%              0.000000            1.000000                0.000000   \n",
       "max              1.000000            1.000000                1.000000   \n",
       "\n",
       "       Lead Source_Organic Search  ...  Specialization_Media and Advertising  \\\n",
       "count                 6468.000000  ...                           6468.000000   \n",
       "mean                     0.121058  ...                              0.020563   \n",
       "std                      0.326219  ...                              0.141926   \n",
       "min                      0.000000  ...                              0.000000   \n",
       "25%                      0.000000  ...                              0.000000   \n",
       "50%                      0.000000  ...                              0.000000   \n",
       "75%                      0.000000  ...                              0.000000   \n",
       "max                      1.000000  ...                              1.000000   \n",
       "\n",
       "       Specialization_Not Specified  Specialization_Operations Management  \\\n",
       "count                   6468.000000                           6468.000000   \n",
       "mean                       0.157545                              0.057205   \n",
       "std                        0.364342                              0.232251   \n",
       "min                        0.000000                              0.000000   \n",
       "25%                        0.000000                              0.000000   \n",
       "50%                        0.000000                              0.000000   \n",
       "75%                        0.000000                              0.000000   \n",
       "max                        1.000000                              1.000000   \n",
       "\n",
       "       Specialization_Others  Specialization_Select  \\\n",
       "count            6468.000000            6468.000000   \n",
       "mean                0.055040               0.209957   \n",
       "std                 0.228076               0.407309   \n",
       "min                 0.000000               0.000000   \n",
       "25%                 0.000000               0.000000   \n",
       "50%                 0.000000               0.000000   \n",
       "75%                 0.000000               0.000000   \n",
       "max                 1.000000               1.000000   \n",
       "\n",
       "       Specialization_Supply Chain Management  \\\n",
       "count                             6468.000000   \n",
       "mean                                 0.037570   \n",
       "std                                  0.190168   \n",
       "min                                  0.000000   \n",
       "25%                                  0.000000   \n",
       "50%                                  0.000000   \n",
       "75%                                  0.000000   \n",
       "max                                  1.000000   \n",
       "\n",
       "       Specialization_Travel and Tourism  Current Occupation_Student  \\\n",
       "count                        6468.000000                 6468.000000   \n",
       "mean                            0.021336                    0.021027   \n",
       "std                             0.144512                    0.143484   \n",
       "min                             0.000000                    0.000000   \n",
       "25%                             0.000000                    0.000000   \n",
       "50%                             0.000000                    0.000000   \n",
       "75%                             0.000000                    0.000000   \n",
       "max                             1.000000                    1.000000   \n",
       "\n",
       "       Current Occupation_Unemployed  Current Occupation_Working Professional  \n",
       "count                    6468.000000                              6468.000000  \n",
       "mean                        0.897805                                 0.077613  \n",
       "std                         0.302929                                 0.267582  \n",
       "min                         0.000000                                 0.000000  \n",
       "25%                         1.000000                                 0.000000  \n",
       "50%                         1.000000                                 0.000000  \n",
       "75%                         1.000000                                 0.000000  \n",
       "max                         1.000000                                 1.000000  \n",
       "\n",
       "[8 rows x 36 columns]"
      ]
     },
     "execution_count": 112,
     "metadata": {},
     "output_type": "execute_result"
    }
   ],
   "source": [
    "#Checking the mean and standard deviation\n",
    "X_train.describe()"
   ]
  },
  {
   "cell_type": "markdown",
   "metadata": {
    "id": "LUNKWUl6Gel9"
   },
   "source": [
    "**Observation : Standard Deviation is set to 1 and hence it is scaled correctly.**"
   ]
  },
  {
   "cell_type": "markdown",
   "metadata": {
    "id": "sGlNm14xVtiS"
   },
   "source": [
    "**Conversion Rate before modelling**"
   ]
  },
  {
   "cell_type": "code",
   "execution_count": 113,
   "metadata": {
    "colab": {
     "base_uri": "https://localhost:8080/"
    },
    "id": "WabG0EhbVxlD",
    "outputId": "11e4613c-312d-4518-dc17-287147318f12"
   },
   "outputs": [
    {
     "data": {
      "text/plain": [
       "38.53896103896104"
      ]
     },
     "execution_count": 113,
     "metadata": {},
     "output_type": "execute_result"
    }
   ],
   "source": [
    "#Checking the Converted Rate before modelling\n",
    "Converted_Rate = (sum(lead['Converted'])/len(lead['Converted'].index))*100\n",
    "Converted_Rate"
   ]
  },
  {
   "cell_type": "markdown",
   "metadata": {
    "id": "aSWUCr2uV0zm"
   },
   "source": [
    "**Observation : We can see that conversion rate before modelling is found to be around 38.53%**"
   ]
  },
  {
   "cell_type": "markdown",
   "metadata": {
    "id": "rlLyojyxq2Yd"
   },
   "source": [
    "## Model Building"
   ]
  },
  {
   "cell_type": "markdown",
   "metadata": {
    "id": "S0axlu5urEvC"
   },
   "source": [
    "**Model - I**"
   ]
  },
  {
   "cell_type": "code",
   "execution_count": 114,
   "metadata": {
    "colab": {
     "base_uri": "https://localhost:8080/"
    },
    "id": "bD06sevCrEYb",
    "outputId": "8e36a44e-d0d6-4ef7-97f5-2fab9b91b971"
   },
   "outputs": [
    {
     "ename": "ValueError",
     "evalue": "could not convert string to float: 'Select'",
     "output_type": "error",
     "traceback": [
      "\u001b[1;31m---------------------------------------------------------------------------\u001b[0m",
      "\u001b[1;31mValueError\u001b[0m                                Traceback (most recent call last)",
      "\u001b[1;32m~\\AppData\\Local\\Temp\\ipykernel_13416\\3052583427.py\u001b[0m in \u001b[0;36m<module>\u001b[1;34m\u001b[0m\n\u001b[0;32m      1\u001b[0m \u001b[1;31m# Logistic regression model\u001b[0m\u001b[1;33m\u001b[0m\u001b[1;33m\u001b[0m\u001b[0m\n\u001b[1;32m----> 2\u001b[1;33m \u001b[0mlogm1\u001b[0m \u001b[1;33m=\u001b[0m \u001b[0msm\u001b[0m\u001b[1;33m.\u001b[0m\u001b[0mGLM\u001b[0m\u001b[1;33m(\u001b[0m\u001b[0my_train\u001b[0m\u001b[1;33m.\u001b[0m\u001b[0mastype\u001b[0m\u001b[1;33m(\u001b[0m\u001b[0mfloat\u001b[0m\u001b[1;33m)\u001b[0m\u001b[1;33m,\u001b[0m\u001b[1;33m(\u001b[0m\u001b[0msm\u001b[0m\u001b[1;33m.\u001b[0m\u001b[0madd_constant\u001b[0m\u001b[1;33m(\u001b[0m\u001b[0mX_train\u001b[0m\u001b[1;33m)\u001b[0m\u001b[1;33m)\u001b[0m\u001b[1;33m.\u001b[0m\u001b[0mastype\u001b[0m\u001b[1;33m(\u001b[0m\u001b[0mfloat\u001b[0m\u001b[1;33m)\u001b[0m\u001b[1;33m,\u001b[0m \u001b[0mfamily\u001b[0m \u001b[1;33m=\u001b[0m \u001b[0msm\u001b[0m\u001b[1;33m.\u001b[0m\u001b[0mfamilies\u001b[0m\u001b[1;33m.\u001b[0m\u001b[0mBinomial\u001b[0m\u001b[1;33m(\u001b[0m\u001b[1;33m)\u001b[0m\u001b[1;33m)\u001b[0m\u001b[1;33m\u001b[0m\u001b[1;33m\u001b[0m\u001b[0m\n\u001b[0m\u001b[0;32m      3\u001b[0m \u001b[0mlogm1\u001b[0m\u001b[1;33m.\u001b[0m\u001b[0mfit\u001b[0m\u001b[1;33m(\u001b[0m\u001b[1;33m)\u001b[0m\u001b[1;33m\u001b[0m\u001b[1;33m\u001b[0m\u001b[0m\n",
      "\u001b[1;32m~\\anaconda3\\lib\\site-packages\\pandas\\core\\generic.py\u001b[0m in \u001b[0;36mastype\u001b[1;34m(self, dtype, copy, errors)\u001b[0m\n\u001b[0;32m   5910\u001b[0m         \u001b[1;32melse\u001b[0m\u001b[1;33m:\u001b[0m\u001b[1;33m\u001b[0m\u001b[1;33m\u001b[0m\u001b[0m\n\u001b[0;32m   5911\u001b[0m             \u001b[1;31m# else, only a single dtype is given\u001b[0m\u001b[1;33m\u001b[0m\u001b[1;33m\u001b[0m\u001b[0m\n\u001b[1;32m-> 5912\u001b[1;33m             \u001b[0mnew_data\u001b[0m \u001b[1;33m=\u001b[0m \u001b[0mself\u001b[0m\u001b[1;33m.\u001b[0m\u001b[0m_mgr\u001b[0m\u001b[1;33m.\u001b[0m\u001b[0mastype\u001b[0m\u001b[1;33m(\u001b[0m\u001b[0mdtype\u001b[0m\u001b[1;33m=\u001b[0m\u001b[0mdtype\u001b[0m\u001b[1;33m,\u001b[0m \u001b[0mcopy\u001b[0m\u001b[1;33m=\u001b[0m\u001b[0mcopy\u001b[0m\u001b[1;33m,\u001b[0m \u001b[0merrors\u001b[0m\u001b[1;33m=\u001b[0m\u001b[0merrors\u001b[0m\u001b[1;33m)\u001b[0m\u001b[1;33m\u001b[0m\u001b[1;33m\u001b[0m\u001b[0m\n\u001b[0m\u001b[0;32m   5913\u001b[0m             \u001b[1;32mreturn\u001b[0m \u001b[0mself\u001b[0m\u001b[1;33m.\u001b[0m\u001b[0m_constructor\u001b[0m\u001b[1;33m(\u001b[0m\u001b[0mnew_data\u001b[0m\u001b[1;33m)\u001b[0m\u001b[1;33m.\u001b[0m\u001b[0m__finalize__\u001b[0m\u001b[1;33m(\u001b[0m\u001b[0mself\u001b[0m\u001b[1;33m,\u001b[0m \u001b[0mmethod\u001b[0m\u001b[1;33m=\u001b[0m\u001b[1;34m\"astype\"\u001b[0m\u001b[1;33m)\u001b[0m\u001b[1;33m\u001b[0m\u001b[1;33m\u001b[0m\u001b[0m\n\u001b[0;32m   5914\u001b[0m \u001b[1;33m\u001b[0m\u001b[0m\n",
      "\u001b[1;32m~\\anaconda3\\lib\\site-packages\\pandas\\core\\internals\\managers.py\u001b[0m in \u001b[0;36mastype\u001b[1;34m(self, dtype, copy, errors)\u001b[0m\n\u001b[0;32m    417\u001b[0m \u001b[1;33m\u001b[0m\u001b[0m\n\u001b[0;32m    418\u001b[0m     \u001b[1;32mdef\u001b[0m \u001b[0mastype\u001b[0m\u001b[1;33m(\u001b[0m\u001b[0mself\u001b[0m\u001b[1;33m:\u001b[0m \u001b[0mT\u001b[0m\u001b[1;33m,\u001b[0m \u001b[0mdtype\u001b[0m\u001b[1;33m,\u001b[0m \u001b[0mcopy\u001b[0m\u001b[1;33m:\u001b[0m \u001b[0mbool\u001b[0m \u001b[1;33m=\u001b[0m \u001b[1;32mFalse\u001b[0m\u001b[1;33m,\u001b[0m \u001b[0merrors\u001b[0m\u001b[1;33m:\u001b[0m \u001b[0mstr\u001b[0m \u001b[1;33m=\u001b[0m \u001b[1;34m\"raise\"\u001b[0m\u001b[1;33m)\u001b[0m \u001b[1;33m->\u001b[0m \u001b[0mT\u001b[0m\u001b[1;33m:\u001b[0m\u001b[1;33m\u001b[0m\u001b[1;33m\u001b[0m\u001b[0m\n\u001b[1;32m--> 419\u001b[1;33m         \u001b[1;32mreturn\u001b[0m \u001b[0mself\u001b[0m\u001b[1;33m.\u001b[0m\u001b[0mapply\u001b[0m\u001b[1;33m(\u001b[0m\u001b[1;34m\"astype\"\u001b[0m\u001b[1;33m,\u001b[0m \u001b[0mdtype\u001b[0m\u001b[1;33m=\u001b[0m\u001b[0mdtype\u001b[0m\u001b[1;33m,\u001b[0m \u001b[0mcopy\u001b[0m\u001b[1;33m=\u001b[0m\u001b[0mcopy\u001b[0m\u001b[1;33m,\u001b[0m \u001b[0merrors\u001b[0m\u001b[1;33m=\u001b[0m\u001b[0merrors\u001b[0m\u001b[1;33m)\u001b[0m\u001b[1;33m\u001b[0m\u001b[1;33m\u001b[0m\u001b[0m\n\u001b[0m\u001b[0;32m    420\u001b[0m \u001b[1;33m\u001b[0m\u001b[0m\n\u001b[0;32m    421\u001b[0m     def convert(\n",
      "\u001b[1;32m~\\anaconda3\\lib\\site-packages\\pandas\\core\\internals\\managers.py\u001b[0m in \u001b[0;36mapply\u001b[1;34m(self, f, align_keys, ignore_failures, **kwargs)\u001b[0m\n\u001b[0;32m    302\u001b[0m                     \u001b[0mapplied\u001b[0m \u001b[1;33m=\u001b[0m \u001b[0mb\u001b[0m\u001b[1;33m.\u001b[0m\u001b[0mapply\u001b[0m\u001b[1;33m(\u001b[0m\u001b[0mf\u001b[0m\u001b[1;33m,\u001b[0m \u001b[1;33m**\u001b[0m\u001b[0mkwargs\u001b[0m\u001b[1;33m)\u001b[0m\u001b[1;33m\u001b[0m\u001b[1;33m\u001b[0m\u001b[0m\n\u001b[0;32m    303\u001b[0m                 \u001b[1;32melse\u001b[0m\u001b[1;33m:\u001b[0m\u001b[1;33m\u001b[0m\u001b[1;33m\u001b[0m\u001b[0m\n\u001b[1;32m--> 304\u001b[1;33m                     \u001b[0mapplied\u001b[0m \u001b[1;33m=\u001b[0m \u001b[0mgetattr\u001b[0m\u001b[1;33m(\u001b[0m\u001b[0mb\u001b[0m\u001b[1;33m,\u001b[0m \u001b[0mf\u001b[0m\u001b[1;33m)\u001b[0m\u001b[1;33m(\u001b[0m\u001b[1;33m**\u001b[0m\u001b[0mkwargs\u001b[0m\u001b[1;33m)\u001b[0m\u001b[1;33m\u001b[0m\u001b[1;33m\u001b[0m\u001b[0m\n\u001b[0m\u001b[0;32m    305\u001b[0m             \u001b[1;32mexcept\u001b[0m \u001b[1;33m(\u001b[0m\u001b[0mTypeError\u001b[0m\u001b[1;33m,\u001b[0m \u001b[0mNotImplementedError\u001b[0m\u001b[1;33m)\u001b[0m\u001b[1;33m:\u001b[0m\u001b[1;33m\u001b[0m\u001b[1;33m\u001b[0m\u001b[0m\n\u001b[0;32m    306\u001b[0m                 \u001b[1;32mif\u001b[0m \u001b[1;32mnot\u001b[0m \u001b[0mignore_failures\u001b[0m\u001b[1;33m:\u001b[0m\u001b[1;33m\u001b[0m\u001b[1;33m\u001b[0m\u001b[0m\n",
      "\u001b[1;32m~\\anaconda3\\lib\\site-packages\\pandas\\core\\internals\\blocks.py\u001b[0m in \u001b[0;36mastype\u001b[1;34m(self, dtype, copy, errors)\u001b[0m\n\u001b[0;32m    578\u001b[0m         \u001b[0mvalues\u001b[0m \u001b[1;33m=\u001b[0m \u001b[0mself\u001b[0m\u001b[1;33m.\u001b[0m\u001b[0mvalues\u001b[0m\u001b[1;33m\u001b[0m\u001b[1;33m\u001b[0m\u001b[0m\n\u001b[0;32m    579\u001b[0m \u001b[1;33m\u001b[0m\u001b[0m\n\u001b[1;32m--> 580\u001b[1;33m         \u001b[0mnew_values\u001b[0m \u001b[1;33m=\u001b[0m \u001b[0mastype_array_safe\u001b[0m\u001b[1;33m(\u001b[0m\u001b[0mvalues\u001b[0m\u001b[1;33m,\u001b[0m \u001b[0mdtype\u001b[0m\u001b[1;33m,\u001b[0m \u001b[0mcopy\u001b[0m\u001b[1;33m=\u001b[0m\u001b[0mcopy\u001b[0m\u001b[1;33m,\u001b[0m \u001b[0merrors\u001b[0m\u001b[1;33m=\u001b[0m\u001b[0merrors\u001b[0m\u001b[1;33m)\u001b[0m\u001b[1;33m\u001b[0m\u001b[1;33m\u001b[0m\u001b[0m\n\u001b[0m\u001b[0;32m    581\u001b[0m \u001b[1;33m\u001b[0m\u001b[0m\n\u001b[0;32m    582\u001b[0m         \u001b[0mnew_values\u001b[0m \u001b[1;33m=\u001b[0m \u001b[0mmaybe_coerce_values\u001b[0m\u001b[1;33m(\u001b[0m\u001b[0mnew_values\u001b[0m\u001b[1;33m)\u001b[0m\u001b[1;33m\u001b[0m\u001b[1;33m\u001b[0m\u001b[0m\n",
      "\u001b[1;32m~\\anaconda3\\lib\\site-packages\\pandas\\core\\dtypes\\cast.py\u001b[0m in \u001b[0;36mastype_array_safe\u001b[1;34m(values, dtype, copy, errors)\u001b[0m\n\u001b[0;32m   1290\u001b[0m \u001b[1;33m\u001b[0m\u001b[0m\n\u001b[0;32m   1291\u001b[0m     \u001b[1;32mtry\u001b[0m\u001b[1;33m:\u001b[0m\u001b[1;33m\u001b[0m\u001b[1;33m\u001b[0m\u001b[0m\n\u001b[1;32m-> 1292\u001b[1;33m         \u001b[0mnew_values\u001b[0m \u001b[1;33m=\u001b[0m \u001b[0mastype_array\u001b[0m\u001b[1;33m(\u001b[0m\u001b[0mvalues\u001b[0m\u001b[1;33m,\u001b[0m \u001b[0mdtype\u001b[0m\u001b[1;33m,\u001b[0m \u001b[0mcopy\u001b[0m\u001b[1;33m=\u001b[0m\u001b[0mcopy\u001b[0m\u001b[1;33m)\u001b[0m\u001b[1;33m\u001b[0m\u001b[1;33m\u001b[0m\u001b[0m\n\u001b[0m\u001b[0;32m   1293\u001b[0m     \u001b[1;32mexcept\u001b[0m \u001b[1;33m(\u001b[0m\u001b[0mValueError\u001b[0m\u001b[1;33m,\u001b[0m \u001b[0mTypeError\u001b[0m\u001b[1;33m)\u001b[0m\u001b[1;33m:\u001b[0m\u001b[1;33m\u001b[0m\u001b[1;33m\u001b[0m\u001b[0m\n\u001b[0;32m   1294\u001b[0m         \u001b[1;31m# e.g. astype_nansafe can fail on object-dtype of strings\u001b[0m\u001b[1;33m\u001b[0m\u001b[1;33m\u001b[0m\u001b[0m\n",
      "\u001b[1;32m~\\anaconda3\\lib\\site-packages\\pandas\\core\\dtypes\\cast.py\u001b[0m in \u001b[0;36mastype_array\u001b[1;34m(values, dtype, copy)\u001b[0m\n\u001b[0;32m   1235\u001b[0m \u001b[1;33m\u001b[0m\u001b[0m\n\u001b[0;32m   1236\u001b[0m     \u001b[1;32melse\u001b[0m\u001b[1;33m:\u001b[0m\u001b[1;33m\u001b[0m\u001b[1;33m\u001b[0m\u001b[0m\n\u001b[1;32m-> 1237\u001b[1;33m         \u001b[0mvalues\u001b[0m \u001b[1;33m=\u001b[0m \u001b[0mastype_nansafe\u001b[0m\u001b[1;33m(\u001b[0m\u001b[0mvalues\u001b[0m\u001b[1;33m,\u001b[0m \u001b[0mdtype\u001b[0m\u001b[1;33m,\u001b[0m \u001b[0mcopy\u001b[0m\u001b[1;33m=\u001b[0m\u001b[0mcopy\u001b[0m\u001b[1;33m)\u001b[0m\u001b[1;33m\u001b[0m\u001b[1;33m\u001b[0m\u001b[0m\n\u001b[0m\u001b[0;32m   1238\u001b[0m \u001b[1;33m\u001b[0m\u001b[0m\n\u001b[0;32m   1239\u001b[0m     \u001b[1;31m# in pandas we don't store numpy str dtypes, so convert to object\u001b[0m\u001b[1;33m\u001b[0m\u001b[1;33m\u001b[0m\u001b[0m\n",
      "\u001b[1;32m~\\anaconda3\\lib\\site-packages\\pandas\\core\\dtypes\\cast.py\u001b[0m in \u001b[0;36mastype_nansafe\u001b[1;34m(arr, dtype, copy, skipna)\u001b[0m\n\u001b[0;32m   1096\u001b[0m     \u001b[1;32mif\u001b[0m \u001b[0marr\u001b[0m\u001b[1;33m.\u001b[0m\u001b[0mndim\u001b[0m \u001b[1;33m>\u001b[0m \u001b[1;36m1\u001b[0m\u001b[1;33m:\u001b[0m\u001b[1;33m\u001b[0m\u001b[1;33m\u001b[0m\u001b[0m\n\u001b[0;32m   1097\u001b[0m         \u001b[0mflat\u001b[0m \u001b[1;33m=\u001b[0m \u001b[0marr\u001b[0m\u001b[1;33m.\u001b[0m\u001b[0mravel\u001b[0m\u001b[1;33m(\u001b[0m\u001b[1;33m)\u001b[0m\u001b[1;33m\u001b[0m\u001b[1;33m\u001b[0m\u001b[0m\n\u001b[1;32m-> 1098\u001b[1;33m         \u001b[0mresult\u001b[0m \u001b[1;33m=\u001b[0m \u001b[0mastype_nansafe\u001b[0m\u001b[1;33m(\u001b[0m\u001b[0mflat\u001b[0m\u001b[1;33m,\u001b[0m \u001b[0mdtype\u001b[0m\u001b[1;33m,\u001b[0m \u001b[0mcopy\u001b[0m\u001b[1;33m=\u001b[0m\u001b[0mcopy\u001b[0m\u001b[1;33m,\u001b[0m \u001b[0mskipna\u001b[0m\u001b[1;33m=\u001b[0m\u001b[0mskipna\u001b[0m\u001b[1;33m)\u001b[0m\u001b[1;33m\u001b[0m\u001b[1;33m\u001b[0m\u001b[0m\n\u001b[0m\u001b[0;32m   1099\u001b[0m         \u001b[1;31m# error: Item \"ExtensionArray\" of \"Union[ExtensionArray, ndarray]\" has no\u001b[0m\u001b[1;33m\u001b[0m\u001b[1;33m\u001b[0m\u001b[0m\n\u001b[0;32m   1100\u001b[0m         \u001b[1;31m# attribute \"reshape\"\u001b[0m\u001b[1;33m\u001b[0m\u001b[1;33m\u001b[0m\u001b[0m\n",
      "\u001b[1;32m~\\anaconda3\\lib\\site-packages\\pandas\\core\\dtypes\\cast.py\u001b[0m in \u001b[0;36mastype_nansafe\u001b[1;34m(arr, dtype, copy, skipna)\u001b[0m\n\u001b[0;32m   1179\u001b[0m     \u001b[1;32mif\u001b[0m \u001b[0mcopy\u001b[0m \u001b[1;32mor\u001b[0m \u001b[0mis_object_dtype\u001b[0m\u001b[1;33m(\u001b[0m\u001b[0marr\u001b[0m\u001b[1;33m.\u001b[0m\u001b[0mdtype\u001b[0m\u001b[1;33m)\u001b[0m \u001b[1;32mor\u001b[0m \u001b[0mis_object_dtype\u001b[0m\u001b[1;33m(\u001b[0m\u001b[0mdtype\u001b[0m\u001b[1;33m)\u001b[0m\u001b[1;33m:\u001b[0m\u001b[1;33m\u001b[0m\u001b[1;33m\u001b[0m\u001b[0m\n\u001b[0;32m   1180\u001b[0m         \u001b[1;31m# Explicit copy, or required since NumPy can't view from / to object.\u001b[0m\u001b[1;33m\u001b[0m\u001b[1;33m\u001b[0m\u001b[0m\n\u001b[1;32m-> 1181\u001b[1;33m         \u001b[1;32mreturn\u001b[0m \u001b[0marr\u001b[0m\u001b[1;33m.\u001b[0m\u001b[0mastype\u001b[0m\u001b[1;33m(\u001b[0m\u001b[0mdtype\u001b[0m\u001b[1;33m,\u001b[0m \u001b[0mcopy\u001b[0m\u001b[1;33m=\u001b[0m\u001b[1;32mTrue\u001b[0m\u001b[1;33m)\u001b[0m\u001b[1;33m\u001b[0m\u001b[1;33m\u001b[0m\u001b[0m\n\u001b[0m\u001b[0;32m   1182\u001b[0m \u001b[1;33m\u001b[0m\u001b[0m\n\u001b[0;32m   1183\u001b[0m     \u001b[1;32mreturn\u001b[0m \u001b[0marr\u001b[0m\u001b[1;33m.\u001b[0m\u001b[0mastype\u001b[0m\u001b[1;33m(\u001b[0m\u001b[0mdtype\u001b[0m\u001b[1;33m,\u001b[0m \u001b[0mcopy\u001b[0m\u001b[1;33m=\u001b[0m\u001b[0mcopy\u001b[0m\u001b[1;33m)\u001b[0m\u001b[1;33m\u001b[0m\u001b[1;33m\u001b[0m\u001b[0m\n",
      "\u001b[1;31mValueError\u001b[0m: could not convert string to float: 'Select'"
     ]
    }
   ],
   "source": [
    "# Logistic regression model\n",
    "logm1 = sm.GLM(y_train.astype(float),(sm.add_constant(X_train)).astype(float), family = sm.families.Binomial())\n",
    "logm1.fit()"
   ]
  },
  {
   "cell_type": "code",
   "execution_count": null,
   "metadata": {
    "colab": {
     "base_uri": "https://localhost:8080/"
    },
    "id": "pQxgntflrAAt",
    "outputId": "e8e126cc-0255-42db-b3f0-3406713fffb1"
   },
   "outputs": [],
   "source": [
    "print(logm1.fit().summary())"
   ]
  },
  {
   "cell_type": "code",
   "execution_count": null,
   "metadata": {
    "colab": {
     "base_uri": "https://localhost:8080/"
    },
    "id": "tcPMgYm2rZDs",
    "outputId": "2d0fecd9-5976-4a82-9ad4-bde0d90360ab"
   },
   "outputs": [],
   "source": [
    "#Total number of columns\n",
    "print(len(X_train.columns))"
   ]
  },
  {
   "cell_type": "markdown",
   "metadata": {
    "id": "33T8Qec7rm9n"
   },
   "source": [
    "**Observation : We currently have around 35 columns for our evaluation.**"
   ]
  },
  {
   "cell_type": "markdown",
   "metadata": {
    "id": "6OgvJ9nZsUxs"
   },
   "source": [
    "**Model - II : Feature Selection using RFE**"
   ]
  },
  {
   "cell_type": "code",
   "execution_count": null,
   "metadata": {
    "id": "Pz43nE5hrmfU"
   },
   "outputs": [],
   "source": [
    "#Importing Logistic Regression module from SkLearn\n",
    "from sklearn.linear_model import LogisticRegression\n",
    "logreg = LogisticRegression()"
   ]
  },
  {
   "cell_type": "code",
   "execution_count": null,
   "metadata": {
    "id": "mwUHlvWlI19q"
   },
   "outputs": [],
   "source": [
    "\n",
    "from sklearn.feature_selection import RFE\n",
    "rfe = RFE(logreg)\n",
    "rfe = rfe.fit(X_train, y_train)"
   ]
  },
  {
   "cell_type": "code",
   "execution_count": null,
   "metadata": {
    "colab": {
     "base_uri": "https://localhost:8080/"
    },
    "id": "SpVugiAvJNkl",
    "outputId": "fd8879a4-001e-4075-b3e6-741470fde623"
   },
   "outputs": [],
   "source": [
    "#Printing all the columns that are selected using RFE\n",
    "rfe.support_"
   ]
  },
  {
   "cell_type": "code",
   "execution_count": null,
   "metadata": {
    "colab": {
     "base_uri": "https://localhost:8080/"
    },
    "id": "sxYjdCXOJXXW",
    "outputId": "2c2eff33-f4bf-467b-b843-2667be1dddd5"
   },
   "outputs": [],
   "source": [
    "#List of all columns on priority ranking\n",
    "list(zip(X_train.columns, rfe.support_, rfe.ranking_))"
   ]
  },
  {
   "cell_type": "code",
   "execution_count": null,
   "metadata": {
    "id": "_jJ3P6IQJgML"
   },
   "outputs": [],
   "source": [
    "#This list will hold all the data that is being selected through RFE.\n",
    "col = X_train.columns[rfe.support_]"
   ]
  },
  {
   "cell_type": "code",
   "execution_count": null,
   "metadata": {
    "colab": {
     "base_uri": "https://localhost:8080/"
    },
    "id": "uZ7wq2GmJoFD",
    "outputId": "216fd4e4-be3d-4802-ff73-bf93d427540e"
   },
   "outputs": [],
   "source": [
    "col"
   ]
  },
  {
   "cell_type": "code",
   "execution_count": null,
   "metadata": {
    "colab": {
     "base_uri": "https://localhost:8080/"
    },
    "id": "571apssTLSeh",
    "outputId": "2c6d9e05-86b6-44dd-a627-7f5fcf1b5076"
   },
   "outputs": [],
   "source": [
    "#Columns that have been rejected because of RFE.\n",
    "X_train.columns[~rfe.support_]"
   ]
  },
  {
   "cell_type": "markdown",
   "metadata": {
    "id": "TPZ6ZkCmLgFA"
   },
   "source": [
    "#### **Assessing the model that has already been generated through RFE using Statsmodel - Model 2**"
   ]
  },
  {
   "cell_type": "code",
   "execution_count": null,
   "metadata": {
    "colab": {
     "base_uri": "https://localhost:8080/"
    },
    "id": "YRTHgvCiLdV3",
    "outputId": "142f80ed-600a-4c75-fe48-9ccfe2303378"
   },
   "outputs": [],
   "source": [
    "X_train_sm = sm.add_constant(X_train[col])\n",
    "logm2 = sm.GLM(y_train,X_train_sm, family = sm.families.Binomial())\n",
    "res = logm2.fit()\n",
    "print(res.summary())"
   ]
  },
  {
   "cell_type": "code",
   "execution_count": null,
   "metadata": {
    "id": "ERo1UiIlLamC"
   },
   "outputs": [],
   "source": [
    "# Check for the VIF values of the feature variables.\n",
    "from statsmodels.stats.outliers_influence import variance_inflation_factor"
   ]
  },
  {
   "cell_type": "code",
   "execution_count": null,
   "metadata": {
    "colab": {
     "base_uri": "https://localhost:8080/",
     "height": 582
    },
    "id": "tLAVNewJNMya",
    "outputId": "689f3f09-3103-41fb-e65b-b0db7b59d532"
   },
   "outputs": [],
   "source": [
    "# Create a dataframe that will contain the names of all the feature variables and their respective VIFs\n",
    "vif = pd.DataFrame()\n",
    "vif['Features'] = X_train[col].columns\n",
    "vif['VIF'] = [variance_inflation_factor(X_train[col].values, i) for i in range(X_train[col].shape[1])]\n",
    "vif['VIF'] = round(vif['VIF'], 2)\n",
    "vif = vif.sort_values(by = \"VIF\", ascending = False)\n",
    "vif"
   ]
  },
  {
   "cell_type": "markdown",
   "metadata": {
    "id": "_VSMN5UGHYAD"
   },
   "source": [
    "**Observations:-**\n",
    "\n",
    "- **We see there are many variables with a high P-value and VIF value.**\n",
    "- **We need to continue model building process to improve the model.**\n",
    "- **Factors that are needed for consideration : VIF < 5% and P-Value < 5%**"
   ]
  },
  {
   "cell_type": "markdown",
   "metadata": {
    "id": "1jv10bJv6m51"
   },
   "source": [
    "**Inferences from the above  :-**\n",
    "- **Lead Source_Others - has a P-value of 56.3%.**\n",
    "- **The above model has 20 features, and we need to reduce it further.**\n",
    "- **Current Occupation_Unemployed has a VIF score of ~18.**"
   ]
  },
  {
   "cell_type": "markdown",
   "metadata": {
    "id": "UmRt2FEmNhil"
   },
   "source": [
    "**Model- III [Dropping Lead_Source Others]**"
   ]
  },
  {
   "cell_type": "code",
   "execution_count": null,
   "metadata": {
    "colab": {
     "base_uri": "https://localhost:8080/"
    },
    "id": "w3aHS7WQNSdY",
    "outputId": "ae44a907-2bc4-405f-bc9d-7dda6f7e37a0"
   },
   "outputs": [],
   "source": [
    "col = col.drop('Lead Source_Others')\n",
    "col"
   ]
  },
  {
   "cell_type": "code",
   "execution_count": null,
   "metadata": {
    "colab": {
     "base_uri": "https://localhost:8080/"
    },
    "id": "cu9rQxcF6m52",
    "outputId": "da66c7b3-061b-4372-b21a-e0fb30a7fc23"
   },
   "outputs": [],
   "source": [
    "print(len(col))"
   ]
  },
  {
   "cell_type": "code",
   "execution_count": null,
   "metadata": {
    "colab": {
     "base_uri": "https://localhost:8080/"
    },
    "id": "sNspRhTLNvnq",
    "outputId": "ccef6753-c320-4edf-898a-0b1ddfd7d97c"
   },
   "outputs": [],
   "source": [
    "# Let's re-run the model using the selected variables\n",
    "X_train_sm = sm.add_constant(X_train[col])\n",
    "logm3 = sm.GLM(y_train,X_train_sm, family = sm.families.Binomial())\n",
    "res = logm3.fit()\n",
    "print(res.summary())"
   ]
  },
  {
   "cell_type": "code",
   "execution_count": null,
   "metadata": {
    "colab": {
     "base_uri": "https://localhost:8080/",
     "height": 551
    },
    "id": "l5nuWMT9irxV",
    "outputId": "9f0f84c7-cb24-4612-eead-f96637a9b07c"
   },
   "outputs": [],
   "source": [
    "# Create a dataframe that will contain the names of all the feature variables and their respective VIFs\n",
    "vif = pd.DataFrame()\n",
    "vif['Features'] = X_train[col].columns\n",
    "vif['VIF'] = [variance_inflation_factor(X_train[col].values, i) for i in range(X_train[col].shape[1])]\n",
    "vif['VIF'] = round(vif['VIF'], 2)\n",
    "vif = vif.sort_values(by = \"VIF\", ascending = False)\n",
    "vif"
   ]
  },
  {
   "cell_type": "markdown",
   "metadata": {
    "id": "Rp_xVuTyIWcD"
   },
   "source": [
    "**Inferences from the above model :-**\n",
    "\n",
    "- **Lead Origin_Others - has a P-value of 40.0%.**\n",
    "- **The above model has 19 features, and we need to reduce it further.**\n",
    "- **Current Occupation_Unemployed has a VIF score of ~18.**"
   ]
  },
  {
   "cell_type": "markdown",
   "metadata": {
    "id": "J630u6Ba6m58"
   },
   "source": [
    "**For Model 4 - We need to remove Lead Origin_Others**"
   ]
  },
  {
   "cell_type": "markdown",
   "metadata": {
    "id": "iP5gD71lOA9E"
   },
   "source": [
    "**Model - IV [Drop Lead Origin_Others]**"
   ]
  },
  {
   "cell_type": "code",
   "execution_count": null,
   "metadata": {
    "id": "5-WuIsp4N-DV"
   },
   "outputs": [],
   "source": [
    "col = col.drop('Lead Origin_Others')\n",
    "col"
   ]
  },
  {
   "cell_type": "code",
   "execution_count": null,
   "metadata": {
    "colab": {
     "base_uri": "https://localhost:8080/"
    },
    "id": "mHtWJmpwOMoH",
    "outputId": "0be66847-ec49-4b36-b1bb-07e1a16e258d"
   },
   "outputs": [],
   "source": [
    "print(len(col))"
   ]
  },
  {
   "cell_type": "code",
   "execution_count": null,
   "metadata": {
    "colab": {
     "base_uri": "https://localhost:8080/"
    },
    "id": "rLNWU-nfOR5b",
    "outputId": "2b958a56-9a33-495a-ce20-e4c8db93ff4b"
   },
   "outputs": [],
   "source": [
    "#Let's re-run the model using the selected variables\n",
    "X_train_sm = sm.add_constant(X_train[col])\n",
    "logm4 = sm.GLM(y_train,X_train_sm, family = sm.families.Binomial())\n",
    "res = logm4.fit()\n",
    "print(res.summary())"
   ]
  },
  {
   "cell_type": "code",
   "execution_count": null,
   "metadata": {
    "colab": {
     "base_uri": "https://localhost:8080/",
     "height": 519
    },
    "id": "DWVcY-kAjJLf",
    "outputId": "b5957d57-1463-48ee-c378-1fa09384c364"
   },
   "outputs": [],
   "source": [
    "#Create a dataframe that will contain the names of all the feature variables and their respective VIFs\n",
    "vif = pd.DataFrame()\n",
    "vif['Features'] = X_train[col].columns\n",
    "vif['VIF'] = [variance_inflation_factor(X_train[col].values, i) for i in range(X_train[col].shape[1])]\n",
    "vif['VIF'] = round(vif['VIF'], 2)\n",
    "vif = vif.sort_values(by = \"VIF\", ascending = False)\n",
    "vif"
   ]
  },
  {
   "cell_type": "markdown",
   "metadata": {
    "id": "rYpwSnJ9Iv42"
   },
   "source": [
    "**Inferences from the above model :-**\n",
    "\n",
    "- **Current Occupation_Student - has a P-value of 32.47%.**\n",
    "- **The above model has 18features, and we need to reduce it further.**\n",
    "- **Current Occupation_Unemployed has a VIF score of ~18.**"
   ]
  },
  {
   "cell_type": "markdown",
   "metadata": {
    "id": "m-csQZDWI85I"
   },
   "source": [
    "**For Model - 5, we need to remove Current Occupation_Student and then proceed further.**"
   ]
  },
  {
   "cell_type": "markdown",
   "metadata": {
    "id": "8X5bB4DBOmzy"
   },
   "source": [
    "**Model - V [Drop Current_Occupation_Student]**"
   ]
  },
  {
   "cell_type": "code",
   "execution_count": null,
   "metadata": {
    "id": "ugUGgcgLObmq"
   },
   "outputs": [],
   "source": [
    "#Dropping \"Current Occupation_Student\" for further evaluation\n",
    "col = col.drop('Current Occupation_Student')"
   ]
  },
  {
   "cell_type": "code",
   "execution_count": null,
   "metadata": {
    "colab": {
     "base_uri": "https://localhost:8080/"
    },
    "id": "fzu1TAF1OtnX",
    "outputId": "741405d5-9ec8-4b92-b079-8eeb4cfd72f5"
   },
   "outputs": [],
   "source": [
    "#Print all the features and the total number of features that we consider for further model building.\n",
    "print(col)"
   ]
  },
  {
   "cell_type": "code",
   "execution_count": null,
   "metadata": {
    "colab": {
     "base_uri": "https://localhost:8080/"
    },
    "id": "WIidqgIT6m5_",
    "outputId": "264e8534-9699-4cb2-9200-26e645ad46c6"
   },
   "outputs": [],
   "source": [
    "print(len(col))"
   ]
  },
  {
   "cell_type": "code",
   "execution_count": null,
   "metadata": {
    "colab": {
     "base_uri": "https://localhost:8080/"
    },
    "id": "i-I_ZXT2OwjA",
    "outputId": "8f08d386-9fe5-4f18-a814-4c1552445330"
   },
   "outputs": [],
   "source": [
    "#Let's re-run the model using the selected variables\n",
    "X_train_sm = sm.add_constant(X_train[col])\n",
    "logm5 = sm.GLM(y_train,X_train_sm, family = sm.families.Binomial())\n",
    "res = logm5.fit()\n",
    "print(res.summary())"
   ]
  },
  {
   "cell_type": "code",
   "execution_count": null,
   "metadata": {
    "colab": {
     "base_uri": "https://localhost:8080/",
     "height": 488
    },
    "id": "aeO-JdWSjl4b",
    "outputId": "1baa26cf-7f51-4c5e-8e8f-db29e7348156"
   },
   "outputs": [],
   "source": [
    "# Create a dataframe that will contain the names of all the feature variables and their respective VIFs\n",
    "vif = pd.DataFrame()\n",
    "vif['Features'] = X_train[col].columns\n",
    "vif['VIF'] = [variance_inflation_factor(X_train[col].values, i) for i in range(X_train[col].shape[1])]\n",
    "vif['VIF'] = round(vif['VIF'], 2)\n",
    "vif = vif.sort_values(by = \"VIF\", ascending = False)\n",
    "vif"
   ]
  },
  {
   "cell_type": "code",
   "execution_count": null,
   "metadata": {
    "colab": {
     "base_uri": "https://localhost:8080/",
     "height": 488
    },
    "id": "VnB6Db7AKVjI",
    "outputId": "26bb1a0c-9b51-4a24-bbf6-fa0931841ff9"
   },
   "outputs": [],
   "source": [
    "# Create a dataframe that will contain the names of all the feature variables and their respective VIFs\n",
    "vif = pd.DataFrame()\n",
    "vif['Features'] = X_train[col].columns\n",
    "vif['VIF'] = [variance_inflation_factor(X_train[col].values, i) for i in range(X_train[col].shape[1])]\n",
    "vif['VIF'] = round(vif['VIF'], 2)\n",
    "vif = vif.sort_values(by = \"VIF\", ascending = False)\n",
    "vif"
   ]
  },
  {
   "cell_type": "code",
   "execution_count": null,
   "metadata": {
    "id": "Itf-kTRNtJBQ"
   },
   "outputs": [],
   "source": [
    "#Perform all the scaling on the available features.\n",
    "X_test[['TotalVisits','Time Spent','Page Views Per Visit']] = scaler.transform(X_test[['TotalVisits','Time Spent','Page Views Per Visit']])"
   ]
  },
  {
   "cell_type": "code",
   "execution_count": null,
   "metadata": {
    "colab": {
     "base_uri": "https://localhost:8080/",
     "height": 278
    },
    "id": "ZudipvwStmqE",
    "outputId": "84fe3119-c4bd-4ab8-fed7-3fd80b7c3ae4"
   },
   "outputs": [],
   "source": [
    "#Selecting all the features, which are selected as per final model\n",
    "#col has all the features available in the final model.\n",
    "\n",
    "X_test = X_test[col]\n",
    "X_test.head()"
   ]
  },
  {
   "cell_type": "markdown",
   "metadata": {
    "id": "t_03kiAeSO_5"
   },
   "source": [
    "### Building the model - ON TEST SET"
   ]
  },
  {
   "cell_type": "code",
   "execution_count": null,
   "metadata": {
    "id": "TBSNYFM3tvQV"
   },
   "outputs": [],
   "source": [
    "#Adding a constant for X_Test.\n",
    "X_test_sm = sm.add_constant(X_test)"
   ]
  },
  {
   "cell_type": "code",
   "execution_count": null,
   "metadata": {
    "id": "VTogSPEFtyET"
   },
   "outputs": [],
   "source": [
    "#y_test_pred - X_test_sm has all the features after model building\n",
    "#res = > Result of model building\n",
    "\n",
    "y_test_pred = res.predict(X_test_sm)"
   ]
  },
  {
   "cell_type": "code",
   "execution_count": null,
   "metadata": {
    "colab": {
     "base_uri": "https://localhost:8080/"
    },
    "id": "bRg0Rtoot2fa",
    "outputId": "cfdfd5d6-a034-46ee-fd2b-3b67989c0d7f"
   },
   "outputs": [],
   "source": [
    "#Displaying all the predicted values\n",
    "y_test_pred[:10]"
   ]
  },
  {
   "cell_type": "markdown",
   "metadata": {
    "id": "f5FbqcWmSV9Z"
   },
   "source": [
    "### **Creating a dataframe with the predicted values**"
   ]
  },
  {
   "cell_type": "code",
   "execution_count": null,
   "metadata": {
    "colab": {
     "base_uri": "https://localhost:8080/",
     "height": 206
    },
    "id": "vJPDC3qqt7vD",
    "outputId": "e1d13a1e-111c-41e1-cb1d-d08569f3c4fc"
   },
   "outputs": [],
   "source": [
    "#Converting y_pred to a dataframe which is an array\n",
    "y_test_pred_1 = pd.DataFrame(y_test_pred)\n",
    "y_test_pred_1.head()"
   ]
  },
  {
   "cell_type": "code",
   "execution_count": null,
   "metadata": {
    "id": "lX1U7Q7FuGyS"
   },
   "outputs": [],
   "source": [
    "#Converting y_test to dataframe\n",
    "y_test_df = pd.DataFrame(y_test)"
   ]
  },
  {
   "cell_type": "code",
   "execution_count": null,
   "metadata": {
    "id": "IjxtotoGuOxr"
   },
   "outputs": [],
   "source": [
    "#Putting CustID to index\n",
    "y_test_df['CustID'] = y_test_df.index"
   ]
  },
  {
   "cell_type": "code",
   "execution_count": null,
   "metadata": {
    "id": "rqP90IT5uS4a"
   },
   "outputs": [],
   "source": [
    "#Removing index for both dataframes to append them side by side\n",
    "y_test_pred_1.reset_index(drop=True, inplace=True)\n",
    "y_test_df.reset_index(drop=True, inplace=True)"
   ]
  },
  {
   "cell_type": "code",
   "execution_count": null,
   "metadata": {
    "id": "W120H0KZub_k"
   },
   "outputs": [],
   "source": [
    "#Appending y_test_df and y_pred_1\n",
    "y_pred_final = pd.concat([y_test_df, y_test_pred_1],axis=1)"
   ]
  },
  {
   "cell_type": "code",
   "execution_count": null,
   "metadata": {
    "colab": {
     "base_uri": "https://localhost:8080/",
     "height": 206
    },
    "id": "MX8XA8HVulwF",
    "outputId": "7ead46d2-c534-48e2-ec11-63d92d31c9be"
   },
   "outputs": [],
   "source": [
    "y_pred_final.head()"
   ]
  },
  {
   "cell_type": "code",
   "execution_count": null,
   "metadata": {
    "id": "H3YGfs_PuuNf"
   },
   "outputs": [],
   "source": [
    "#Renaming the column\n",
    "y_pred_final= y_pred_final.rename(columns={ 0 : 'Conversion_Prob'})"
   ]
  },
  {
   "cell_type": "code",
   "execution_count": null,
   "metadata": {
    "id": "ZQctmfx5u7am"
   },
   "outputs": [],
   "source": [
    "#Predicting the test model on cut off probabilty\n",
    "y_pred_final['final_predicted'] = y_pred_final.Conversion_Prob.map(lambda x: 1 if x > 0.35 else 0)"
   ]
  },
  {
   "cell_type": "code",
   "execution_count": null,
   "metadata": {
    "colab": {
     "base_uri": "https://localhost:8080/",
     "height": 206
    },
    "id": "6U7y4xocvC4E",
    "outputId": "1a6b85ac-8dbf-4c23-9fb9-4ecdc1c640fb"
   },
   "outputs": [],
   "source": [
    "#Displaying the predicted value dataframe.\n",
    "y_pred_final.head()"
   ]
  },
  {
   "cell_type": "markdown",
   "metadata": {
    "id": "tzBWQ4HhTPgm"
   },
   "source": [
    "**Calculation of Model Evaluation parameters**"
   ]
  },
  {
   "cell_type": "code",
   "execution_count": null,
   "metadata": {
    "colab": {
     "base_uri": "https://localhost:8080/"
    },
    "id": "eTLeZsTrvIl0",
    "outputId": "22e4629f-dfbc-49a1-ac27-fe28f332b71a"
   },
   "outputs": [],
   "source": [
    "#Let's check the overall accuracy.\n",
    "metrics.accuracy_score(y_pred_final.Converted, y_pred_final.final_predicted)"
   ]
  },
  {
   "cell_type": "code",
   "execution_count": null,
   "metadata": {
    "colab": {
     "base_uri": "https://localhost:8080/"
    },
    "id": "nAVMVPlevQn6",
    "outputId": "07df3487-6139-42ea-8268-43a2c5ced109"
   },
   "outputs": [],
   "source": [
    "confusionTest= metrics.confusion_matrix(y_pred_final.Converted, y_pred_final.final_predicted)\n",
    "confusionTest"
   ]
  },
  {
   "cell_type": "code",
   "execution_count": null,
   "metadata": {
    "id": "1Vc6GwedvazG"
   },
   "outputs": [],
   "source": [
    "TP = confusionTest[1,1] # true positive\n",
    "TN = confusionTest[0,0] # true negatives\n",
    "FP = confusionTest[0,1] # false positives\n",
    "FN = confusionTest[1,0] # false negatives"
   ]
  },
  {
   "cell_type": "code",
   "execution_count": null,
   "metadata": {
    "colab": {
     "base_uri": "https://localhost:8080/"
    },
    "id": "zGJLI7BGvmxU",
    "outputId": "d117549c-609c-48fd-faa1-81111844480c"
   },
   "outputs": [],
   "source": [
    "#Let's see the sensitivity of our logistic regression model\n",
    "sensitivity = round(TP / float(TP+FN),2) *100\n",
    "print(sensitivity)"
   ]
  },
  {
   "cell_type": "code",
   "execution_count": null,
   "metadata": {
    "colab": {
     "base_uri": "https://localhost:8080/"
    },
    "id": "pCBHdXYivob5",
    "outputId": "fcfa4c2b-0cde-4832-c70e-c50eeb3a8f7e"
   },
   "outputs": [],
   "source": [
    "#Let's calculate specificity\n",
    "TN / float(TN+FP)"
   ]
  },
  {
   "cell_type": "markdown",
   "metadata": {
    "id": "9XDA0UQAU-F7"
   },
   "source": [
    "**ACCURACY - SPECIFICITY - SENSITIVITY**"
   ]
  },
  {
   "cell_type": "markdown",
   "metadata": {
    "id": "cmoIbJPsU--_"
   },
   "source": [
    "- **ACCURACY - 80.23%**\n",
    "- **SENSITIVITY - 79.0%**\n",
    "- **SPECIFICITY - 80.91%**"
   ]
  },
  {
   "cell_type": "markdown",
   "metadata": {
    "id": "intRrFZ_whWN"
   },
   "source": [
    "## OBSERVATION :\n",
    "\n",
    "**We got 0.5% to 1% difference on train and test data's performance metrics.This implies that our final model didn't overfit training data and is performing well.**"
   ]
  },
  {
   "cell_type": "markdown",
   "metadata": {
    "id": "Lf70PSMIwhWN"
   },
   "source": [
    "**From our model, We can conclude following points :**\n",
    "    \n",
    "**1. The customer/leads who fills the form are the potential leads.**\n",
    "\n",
    "**2. We must majorly focus on working professionals.**\n",
    "\n",
    "**3. We must majorly focus on leads whose last activity is SMS sent or Email opened.**\n",
    "\n",
    "**4. It’s always good to focus on customers, who have spent significant time on our website.**\n",
    "\n",
    "**5. It’s better to focus least on customers to whom the sent mail is bounced back.**\n",
    "\n",
    "**6. If the lead source is referral, he/she may not be the potential lead.**\n",
    "\n",
    "**7. If the lead didn’t fill specialization, he/she may not know what to study and are not right people to target. So, it’s better to focus less on such cases.**"
   ]
  },
  {
   "cell_type": "markdown",
   "metadata": {
    "id": "TrVvOMf3zJ1i"
   },
   "source": [
    "## LEAD SCORE - ASSIGNMENT TO ALL CUSTOMERS"
   ]
  },
  {
   "cell_type": "code",
   "execution_count": null,
   "metadata": {
    "id": "NtmwqyyezJgx"
   },
   "outputs": [],
   "source": [
    "#Preparing the dataframe - to scale the variables and prepare the complete data.\n",
    "X[['TotalVisits','Time Spent','Page Views Per Visit']] = scaler.transform(X[['TotalVisits','Time Spent','Page Views Per Visit']])"
   ]
  },
  {
   "cell_type": "code",
   "execution_count": null,
   "metadata": {
    "colab": {
     "base_uri": "https://localhost:8080/",
     "height": 278
    },
    "id": "m70GmQe1zrl_",
    "outputId": "b2c3564a-36fc-41f5-855f-0d18fe5ec53e"
   },
   "outputs": [],
   "source": [
    "#Selecting the features in our final model on the scaled dataframe.\n",
    "X = X[col]\n",
    "X.head()"
   ]
  },
  {
   "cell_type": "code",
   "execution_count": null,
   "metadata": {
    "id": "U9ramxAI0AKi"
   },
   "outputs": [],
   "source": [
    "#Adding a constant to the dataframe\n",
    "X_sm = sm.add_constant(X)"
   ]
  },
  {
   "cell_type": "code",
   "execution_count": null,
   "metadata": {
    "id": "Gi9iNOar0Gwx"
   },
   "outputs": [],
   "source": [
    "#Predicting the y-values on X dataframe (Leads.csv)\n",
    "y_ans_pred = res.predict(X_sm)"
   ]
  },
  {
   "cell_type": "code",
   "execution_count": null,
   "metadata": {
    "colab": {
     "base_uri": "https://localhost:8080/"
    },
    "id": "JYG52idD0QsZ",
    "outputId": "86dd449f-346a-4476-878f-852a345a1c43"
   },
   "outputs": [],
   "source": [
    "#Printing the probabilities\n",
    "y_ans_pred[:10]"
   ]
  },
  {
   "cell_type": "code",
   "execution_count": null,
   "metadata": {
    "id": "RCsICJ0D0YBI"
   },
   "outputs": [],
   "source": [
    "#Converting y_pred to a dataframe which is an array\n",
    "y_ans_pred_df = pd.DataFrame(y_ans_pred)"
   ]
  },
  {
   "cell_type": "code",
   "execution_count": null,
   "metadata": {
    "id": "r0M4SlRV0wMj"
   },
   "outputs": [],
   "source": [
    "#Converting y to dataframe\n",
    "y_df = pd.DataFrame(y)"
   ]
  },
  {
   "cell_type": "code",
   "execution_count": null,
   "metadata": {
    "id": "zUWhK6vy0wMo"
   },
   "outputs": [],
   "source": [
    "#Putting Lead_Number to index\n",
    "y_df['Lead_Number'] = lead['Lead Number']"
   ]
  },
  {
   "cell_type": "code",
   "execution_count": null,
   "metadata": {
    "id": "A6p9aj_A0wMt"
   },
   "outputs": [],
   "source": [
    "#Removing index for both dataframes to append them side by side\n",
    "y_ans_pred_df.reset_index(drop=True, inplace=True)\n",
    "y_df.reset_index(drop=True, inplace=True)"
   ]
  },
  {
   "cell_type": "code",
   "execution_count": null,
   "metadata": {
    "id": "A10H972l0wMx"
   },
   "outputs": [],
   "source": [
    "#Appending y_test_df and y_df\n",
    "y_ans_final = pd.concat([y_df, y_ans_pred_df],axis=1)"
   ]
  },
  {
   "cell_type": "code",
   "execution_count": null,
   "metadata": {
    "id": "0Hz2Wtbg0wM8"
   },
   "outputs": [],
   "source": [
    "#Renaming the column\n",
    "y_ans_final= y_ans_final.rename(columns={ 0 : 'Conversion_Prob'})"
   ]
  },
  {
   "cell_type": "code",
   "execution_count": null,
   "metadata": {
    "colab": {
     "base_uri": "https://localhost:8080/",
     "height": 206
    },
    "id": "w3F42YyO0wNB",
    "outputId": "e7c60668-baab-4e59-a948-4e5e2a957266"
   },
   "outputs": [],
   "source": [
    "#Displaying the Answer_Dataframe\n",
    "y_ans_final.head()"
   ]
  },
  {
   "cell_type": "markdown",
   "metadata": {
    "id": "kqdQStHdWl8U"
   },
   "source": [
    "### **Finding the converted value using the probability cut-off = 0.35**"
   ]
  },
  {
   "cell_type": "code",
   "execution_count": null,
   "metadata": {
    "id": "MWLaGH_C0wNG"
   },
   "outputs": [],
   "source": [
    "#Finding the Predicted values using the probability cut off\n",
    "y_ans_final['final_predicted'] = y_ans_final.Conversion_Prob.map(lambda x: 1 if x > 0.35 else 0)"
   ]
  },
  {
   "cell_type": "code",
   "execution_count": null,
   "metadata": {
    "id": "5X02XTs01txJ"
   },
   "outputs": [],
   "source": [
    "#Appending the score to the dataframe.\n",
    "y_ans_final['Score'] = round(y_ans_final['Conversion_Prob'] * 100, 2)"
   ]
  },
  {
   "cell_type": "code",
   "execution_count": null,
   "metadata": {
    "colab": {
     "base_uri": "https://localhost:8080/",
     "height": 206
    },
    "id": "unVOktXD2yh9",
    "outputId": "888afbb2-634e-4e43-8466-85d6a19ad901"
   },
   "outputs": [],
   "source": [
    "#Displaying the predicted conversion on the final values\n",
    "y_ans_final.head()"
   ]
  },
  {
   "cell_type": "markdown",
   "metadata": {
    "id": "tuePjwZoXOUj"
   },
   "source": [
    "### **Metric Calculation - Complete Dataframe**"
   ]
  },
  {
   "cell_type": "code",
   "execution_count": null,
   "metadata": {
    "colab": {
     "base_uri": "https://localhost:8080/"
    },
    "id": "qtDDQkVF0wNS",
    "outputId": "9c9a305f-550d-4205-d599-e2d21d593134"
   },
   "outputs": [],
   "source": [
    "# Let's check the overall accuracy.\n",
    "metrics.accuracy_score(y_ans_final.Converted, y_ans_final.final_predicted)"
   ]
  },
  {
   "cell_type": "code",
   "execution_count": null,
   "metadata": {
    "colab": {
     "base_uri": "https://localhost:8080/"
    },
    "id": "IJoEssUP0wNZ",
    "outputId": "0b4d505b-f4e0-4e9e-91ec-2806c598ca09"
   },
   "outputs": [],
   "source": [
    "#Confusion Matrix\n",
    "confusionAns= metrics.confusion_matrix(y_ans_final.Converted, y_ans_final.final_predicted)\n",
    "confusionAns"
   ]
  },
  {
   "cell_type": "code",
   "execution_count": null,
   "metadata": {
    "id": "f4SSBw9a0wNe"
   },
   "outputs": [],
   "source": [
    "#Confusion Matrix - Parameters\n",
    "TP = confusionAns[1,1] # true positive\n",
    "TN = confusionAns[0,0] # true negatives\n",
    "FP = confusionAns[0,1] # false positives\n",
    "FN = confusionAns[1,0] # false negatives"
   ]
  },
  {
   "cell_type": "code",
   "execution_count": null,
   "metadata": {
    "colab": {
     "base_uri": "https://localhost:8080/"
    },
    "id": "1UH5-DZU0wNi",
    "outputId": "bdab3a57-7071-4f5a-f5ec-0c191294b4cc"
   },
   "outputs": [],
   "source": [
    "# Let's see the sensitivity of our logistic regression model\n",
    "sensitivity = round(TP / float(TP+FN),2) *100\n",
    "print(sensitivity)"
   ]
  },
  {
   "cell_type": "code",
   "execution_count": null,
   "metadata": {
    "colab": {
     "base_uri": "https://localhost:8080/"
    },
    "id": "Ba1jLHHy0wNn",
    "outputId": "56774a56-fb0a-4936-e639-6a2e9622b064"
   },
   "outputs": [],
   "source": [
    "# Let us calculate specificity\n",
    "TN / float(TN+FP)"
   ]
  },
  {
   "cell_type": "markdown",
   "metadata": {
    "id": "SWluNku1XeI1"
   },
   "source": [
    "## Sorting The Dataframe - To Find The Top Leads"
   ]
  },
  {
   "cell_type": "code",
   "execution_count": null,
   "metadata": {
    "id": "vmdu7VMn3LFg"
   },
   "outputs": [],
   "source": [
    "#Sorting values to find the top leads.\n",
    "ResultDf = y_ans_final.sort_values(by='Score', ascending=False)"
   ]
  },
  {
   "cell_type": "code",
   "execution_count": null,
   "metadata": {
    "colab": {
     "base_uri": "https://localhost:8080/",
     "height": 206
    },
    "id": "rZhtBm7f3hW8",
    "outputId": "44edc6bc-2d91-4d78-d9dc-5b2f12f83767"
   },
   "outputs": [],
   "source": [
    "#Displaying the top leads\n",
    "ResultDf.head()"
   ]
  },
  {
   "cell_type": "code",
   "execution_count": null,
   "metadata": {
    "id": "IRvZd0ZG3sxr"
   },
   "outputs": [],
   "source": [
    "FilteredResult = ResultDf.loc[ResultDf['Score'] >= 35]"
   ]
  },
  {
   "cell_type": "code",
   "execution_count": null,
   "metadata": {
    "colab": {
     "base_uri": "https://localhost:8080/"
    },
    "id": "BeUotQAT5JCF",
    "outputId": "3c21c38e-89cb-4b76-f7fa-13c940cd658f"
   },
   "outputs": [],
   "source": [
    "print(ResultDf.shape)\n",
    "print(FilteredResult.shape)"
   ]
  },
  {
   "cell_type": "code",
   "execution_count": null,
   "metadata": {
    "colab": {
     "base_uri": "https://localhost:8080/",
     "height": 363
    },
    "id": "iOIXX2RS5Ghh",
    "outputId": "3a6c0208-c477-47ad-b200-6f74152612f9"
   },
   "outputs": [],
   "source": [
    "FilteredResult.head(10)"
   ]
  },
  {
   "cell_type": "code",
   "execution_count": null,
   "metadata": {
    "colab": {
     "base_uri": "https://localhost:8080/"
    },
    "id": "ohD4CLsX5Vx7",
    "outputId": "2ce088b9-2189-471f-b45e-14f7d7fa71ef"
   },
   "outputs": [],
   "source": [
    "#Checking the Converted Rate\n",
    "Converted_Rate_AfterModelling= (sum(FilteredResult['Converted'])/len(FilteredResult['Converted'].index))*100\n",
    "Converted_Rate_AfterModelling"
   ]
  },
  {
   "cell_type": "markdown",
   "metadata": {
    "id": "mxXHQht7s3ZV"
   },
   "source": [
    "**Observation - We provide a list of only 4000 who have the chances of getting converted into a potential lead so it is easier for the company to limit their target. When we check for conversion rate, it is found to be around 73%.**"
   ]
  },
  {
   "cell_type": "markdown",
   "metadata": {
    "id": "i1-va8OTwhWi"
   },
   "source": [
    "### Sorting The Dataframe - To Find The Hot Leads With Higher Conversion Rate."
   ]
  },
  {
   "cell_type": "code",
   "execution_count": null,
   "metadata": {
    "id": "WX87mV9982Fo"
   },
   "outputs": [],
   "source": [
    "HotLeads = ResultDf.loc[ResultDf['Score'] >= 95]"
   ]
  },
  {
   "cell_type": "code",
   "execution_count": null,
   "metadata": {
    "colab": {
     "base_uri": "https://localhost:8080/"
    },
    "id": "CkAi2A_M8773",
    "outputId": "b00f1e7f-1cda-4848-d8db-a7eb9fb639d0"
   },
   "outputs": [],
   "source": [
    "HotLeads.shape"
   ]
  },
  {
   "cell_type": "code",
   "execution_count": null,
   "metadata": {
    "colab": {
     "base_uri": "https://localhost:8080/"
    },
    "id": "a6DxUIfr9DKr",
    "outputId": "78afc0ec-7f0f-4b12-ef04-748a7774b9a1"
   },
   "outputs": [],
   "source": [
    "#Checking the Converted Rate\n",
    "Converted_Rate_ForHotLeads= (sum(HotLeads['Converted'])/len(HotLeads['Converted'].index))*100\n",
    "Converted_Rate_ForHotLeads"
   ]
  },
  {
   "cell_type": "markdown",
   "metadata": {
    "id": "nrPJh30s6m6h"
   },
   "source": [
    "**Here, we provide a list of only 700 who are mostly getting converted to a lead,  so it is easier for the company to limit their target. When we check for conversion rate, it is found to be around 96%. This list aims to target the top 10% of the customers.**"
   ]
  },
  {
   "cell_type": "markdown",
   "metadata": {
    "id": "eRb2CWoW6m6h"
   },
   "source": [
    "## CONCLUSION\n",
    "\n",
    "- **Conversion Rate for hot leads is increases from 73% to 96%. This means they have a 96% probability of getting converted to a lead.**\n",
    "\n",
    "- **Focusing on Hot Leads will increase the chances of obtaining more value to the business as the number of people we contact are less but the conversion rate is high.**\n",
    "\n",
    "**From our model, we can conclude following points :**\n",
    "\n",
    "- The customer/leads who fills the form are the potential leads.\n",
    "- We must majorly focus on working professionals.\n",
    "- We must majorly focus on leads whose last activity is SMS sent or Email opened.\n",
    "- It’s always good to focus on customers, who have spent significant time on our website.\n",
    "- It’s better to focus least on customers to whom the sent mail is bounced back.\n",
    "- If the lead source is referral, he/she may not be the potential lead.\n",
    "- If the lead didn’t fill specialization, he/she may not know what to study and are not right people to target. So, it’s better to focus less on such cases.\n",
    "\n",
    "\n",
    "**We know that the relationship between ln(odds) of ‘y’ and feature variable “X” is much more intuitive and easier to understand.**\n",
    "\n",
    "**Equation:**\n",
    "\n",
    "**ln(odds)= -1.0565 * const + 0.1944 * TotalVisits + 1.0574* Time Spent -0.3186 * Free\n",
    "Copy -1.0199 * Lead Origin_Landing Page Submission + 4.4017 * Lead Origin_Lead Add\n",
    "Form + 1.2101 * Lead Source_Olark Chat-1.1764 * Lead Source_Reference -1.1921 *\n",
    "Last Activity_Email Bounced + 0.8166 * Last Activity_Email Opened -0.6859 * Last\n",
    "Activity_Olark Chat Conversation + 0.6463 * Last Activity_Others - 1.9097 * Last\n",
    "Activity_SMS Sent -1.1380 * Specialization_Not Specified + 2.6908 * Current\n",
    "Occupation_Working Professional**\n",
    "\n",
    "\n",
    "\n",
    "## RECOMMENDATIONS\n",
    "\n",
    "- **It’s good to collect data often and run the model and get updated with the potential leads. There is a belief that the best time to call your potential leads is within few hours after the lead shows interest in the courses.**\n",
    "\n",
    "- **Along with phone calls, it’s good to mail the leads also to keep them reminding as email is as powerful as cold calling.**\n",
    "\n",
    "- **Reducing the number of call attempts to 2-4 and increasing the frequency of usage of other media like advertisements in Google, or via emails to keep in touch with the lead will save a lot of time.**\n",
    "\n",
    "- **Focusing on Hot Leads will increase the chances of obtaining more value to the business as the number of people we contact are less but the conversion rate is high.**"
   ]
  }
 ],
 "metadata": {
  "colab": {
   "collapsed_sections": [
    "0ZESMq9h00D3",
    "4FrjyG6wMUJX",
    "qpITdkosMu3h",
    "5jlkikIyMkr9",
    "UhlEW8H6TGWr",
    "gwRI1SspTrfq",
    "n8GdBYLtUrbn",
    "S0axlu5urEvC",
    "tzBWQ4HhTPgm"
   ],
   "provenance": []
  },
  "kernelspec": {
   "display_name": "Python 3 (ipykernel)",
   "language": "python",
   "name": "python3"
  },
  "language_info": {
   "codemirror_mode": {
    "name": "ipython",
    "version": 3
   },
   "file_extension": ".py",
   "mimetype": "text/x-python",
   "name": "python",
   "nbconvert_exporter": "python",
   "pygments_lexer": "ipython3",
   "version": "3.9.13"
  }
 },
 "nbformat": 4,
 "nbformat_minor": 1
}
